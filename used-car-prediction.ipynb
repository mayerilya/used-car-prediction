{
 "cells": [
  {
   "cell_type": "markdown",
   "id": "1179d840-cb0e-47a9-a268-0e6cc918845f",
   "metadata": {},
   "source": [
    "# Описание проекта\n",
    "Многие знают про маркетплейсы где продаются б/у вещи, на которых есть возможность недорого купить качественную и полезную вещь. Но всегда волнует вопрос - кто и как устанавливает цену, и какие его характеристики больше всего влияют на итоговую стоимость продажи?! Вопрос становиться особо актуальным, если речь идет про дорогие товары, например про автомобили!\n",
    "\n",
    "Задача - разработать модель для предсказания стоимости продажи автомобиля на вторичном рынке.\n",
    "\n",
    "Данные:\n",
    "* train.csv - информация о характеристиках автомобилей (~440000), которые будут использоваться в качестве обучающих данных.\n",
    "* test.csv - информация о характеристиках автомобилей (~110000), которые будут использоваться в качестве тестовых данных. Задача - предсказать значение 'sellingprice' для каждого автомобиля из этого датасета.\n",
    "* sample_submission.csv - пример файла предсказаний в правильном формате.\n",
    "* vin - идентификатор автомобиля в тестовом наборе.\n",
    "* sellingprice - Целевой признак. Для каждого автомобиля предскажите числовое значение стоимости продажи.\n",
    "\n",
    "**Описание полей данных**\n",
    "* Date: Год выпуска автомобиля.\n",
    "* Make: Марка автомобиля.\n",
    "* Model: издание автомобиля определенной марки.\n",
    "* Trim: Уровни отделки салона автомобиля — это просто разные версии модели.\n",
    "* Body: Тип кузова транспортного средства относится к форме и модели конкретной марки автомобиля.\n",
    "* Transmission: механизм, который передает мощность от двигателя к колесам.\n",
    "* VIN: идентификационный номер транспортного средства.\n",
    "* State: состояние, в котором автомобиль выставлен на аукцион.\n",
    "* Condition: Состояние автомобилей на момент аукциона.\n",
    "* Odometer: расстояние, пройденное автомобилем с момента выпуска.\n",
    "* Color: Цвет кузова автомобиля.\n",
    "* Interior: Цвет салона автомобиля.\n",
    "* Seller: Продавец автомобиля, автосалоны.\n",
    "* mmr: Рекорд рынка Manhiem, рыночная оценочная цена автомобилей.\n",
    "* sellingprice: цена, по которой автомобиль был продан на аукционе.\n",
    "* saledate: Дата продажи автомобиля."
   ]
  },
  {
   "cell_type": "code",
   "execution_count": null,
   "id": "8cd67c4c-c110-4640-ba2d-70266b27b228",
   "metadata": {
    "tags": []
   },
   "outputs": [],
   "source": [
    "# Импорт библиотек\n",
    "%matplotlib inline\n",
    "import pandas as pd\n",
    "import seaborn as sns\n",
    "import numpy as np\n",
    "from sklearn.model_selection import train_test_split\n",
    "from catboost import CatBoostRegressor\n",
    "from sklearn.linear_model import LinearRegression\n",
    "from sklearn.model_selection import GridSearchCV, cross_val_score\n",
    "from sklearn.pipeline import Pipeline\n",
    "from sklearn.metrics import mean_absolute_percentage_error\n",
    "import warnings\n",
    "from pylab import rcParams\n",
    "import matplotlib\n",
    "import matplotlib.pyplot as plt\n",
    "import optuna\n",
    "import ydata_profiling\n",
    "\n",
    "\n",
    "sns.set(style=\"darkgrid\")\n",
    "rcParams['figure.figsize'] = 20, 9"
   ]
  },
  {
   "cell_type": "code",
   "execution_count": null,
   "id": "8d3301d6-6ae7-490c-b4eb-bec9ef0dca32",
   "metadata": {
    "tags": []
   },
   "outputs": [],
   "source": [
    "# Загрузка обучающего датасета\n",
    "df_train = pd.read_csv('datasets/train.csv')"
   ]
  },
  {
   "cell_type": "code",
   "execution_count": null,
   "id": "15c07214-76cb-4ec8-a5b4-3505874e4858",
   "metadata": {
    "tags": []
   },
   "outputs": [],
   "source": [
    "# ydata_profiling.ProfileReport(df_train)"
   ]
  },
  {
   "cell_type": "code",
   "execution_count": null,
   "id": "c51bb5b6-f57a-44a5-8aec-83119330d648",
   "metadata": {
    "tags": []
   },
   "outputs": [],
   "source": [
    "df_train.info()"
   ]
  },
  {
   "cell_type": "code",
   "execution_count": null,
   "id": "ba2e0273-4a6b-43d1-927a-bee69c23f28b",
   "metadata": {
    "tags": []
   },
   "outputs": [],
   "source": [
    "df_train['body'].unique()"
   ]
  },
  {
   "cell_type": "code",
   "execution_count": null,
   "id": "7f6a2d06-b83a-4326-b665-80f384aa849a",
   "metadata": {
    "tags": []
   },
   "outputs": [],
   "source": [
    "df_train['body'] = df_train['body'].filna('unknown')"
   ]
  },
  {
   "cell_type": "code",
   "execution_count": null,
   "id": "69c3753a-1e20-42a0-ada9-6b2802cd0614",
   "metadata": {
    "tags": []
   },
   "outputs": [],
   "source": [
    "df_train[df_train.isna()]"
   ]
  },
  {
   "cell_type": "code",
   "execution_count": null,
   "id": "da0b4cab-46b7-4783-aef2-300d0a04718d",
   "metadata": {
    "tags": []
   },
   "outputs": [],
   "source": [
    "df_train['body'][df_train['body'].isna()]"
   ]
  },
  {
   "cell_type": "code",
   "execution_count": null,
   "id": "89c45b40-0050-46c0-86ed-b3dacd969d8d",
   "metadata": {
    "tags": []
   },
   "outputs": [],
   "source": [
    "def lowercase_alphabetic(text):\n",
    "    new_text = ''\n",
    "    for i in text:\n",
    "        if i.isalpha():\n",
    "            new_text += i.lower()\n",
    "        else:\n",
    "            new_text += i\n",
    "    \n",
    "    return new_text"
   ]
  },
  {
   "cell_type": "code",
   "execution_count": null,
   "id": "272d6c42-884d-4805-8bc9-3ca4b35077fd",
   "metadata": {
    "tags": []
   },
   "outputs": [],
   "source": [
    "# lowercase_alphabetic('Q60 Coupe')"
   ]
  },
  {
   "cell_type": "code",
   "execution_count": null,
   "id": "dc3b9505-71b3-490d-9e06-bc4567e9fe90",
   "metadata": {
    "tags": []
   },
   "outputs": [],
   "source": [
    "df_train['body'] = df_train['body'].apply(lowercase_alphabetic)"
   ]
  },
  {
   "cell_type": "code",
   "execution_count": null,
   "id": "82bcb483-fbd2-4c90-8e7f-231e06be41b6",
   "metadata": {},
   "outputs": [],
   "source": []
  },
  {
   "cell_type": "code",
   "execution_count": null,
   "id": "c644c7f6-de87-4e71-8dcc-c836b3d22716",
   "metadata": {
    "tags": []
   },
   "outputs": [],
   "source": [
    "# df_train['body'] = df_train['body'].apply(lambda x: ''.join([char.lower() if char.isalpha() else char for char in x]))"
   ]
  }
 ],
 "metadata": {
  "kernelspec": {
   "display_name": "Python 3 (ipykernel)",
   "language": "python",
   "name": "python3"
  },
  "language_info": {
   "codemirror_mode": {
    "name": "ipython",
    "version": 3
   },
   "file_extension": ".py",
   "mimetype": "text/x-python",
   "name": "python",
   "nbconvert_exporter": "python",
   "pygments_lexer": "ipython3",
   "version": "3.10.0"
  },
  "toc-autonumbering": true,
  "toc-showcode": false,
  "toc-showmarkdowntxt": false,
  "toc-showtags": false
 },
 "nbformat": 4,
 "nbformat_minor": 5
}
