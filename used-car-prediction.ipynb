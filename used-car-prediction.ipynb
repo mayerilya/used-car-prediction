{
 "cells": [
  {
   "cell_type": "code",
   "execution_count": 3,
   "id": "8cd67c4c-c110-4640-ba2d-70266b27b228",
   "metadata": {
    "tags": []
   },
   "outputs": [],
   "source": [
    "%matplotlib inline\n",
    "import pandas as pd\n",
    "import seaborn as sns\n",
    "import numpy as np\n",
    "from sklearn.model_selection import train_test_split\n",
    "from catboost import CatBoostRegressor\n",
    "from sklearn.linear_model import LinearRegression\n",
    "from sklearn.model_selection import GridSearchCV, cross_val_score\n",
    "from sklearn.pipeline import Pipeline\n",
    "from sklearn.metrics import mean_absolute_percentage_error\n",
    "import warnings\n",
    "from pylab import rcParams\n",
    "import matplotlib\n",
    "import matplotlib.pyplot as plt\n",
    "import optuna\n",
    "import ydata_profiling\n",
    "\n",
    "\n",
    "sns.set(style=\"darkgrid\")\n",
    "rcParams['figure.figsize'] = 20, 9"
   ]
  },
  {
   "cell_type": "code",
   "execution_count": null,
   "id": "8d3301d6-6ae7-490c-b4eb-bec9ef0dca32",
   "metadata": {},
   "outputs": [],
   "source": [
    "df = pd.read_csv('')"
   ]
  }
 ],
 "metadata": {
  "kernelspec": {
   "display_name": "Python 3 (ipykernel)",
   "language": "python",
   "name": "python3"
  },
  "language_info": {
   "codemirror_mode": {
    "name": "ipython",
    "version": 3
   },
   "file_extension": ".py",
   "mimetype": "text/x-python",
   "name": "python",
   "nbconvert_exporter": "python",
   "pygments_lexer": "ipython3",
   "version": "3.10.0"
  }
 },
 "nbformat": 4,
 "nbformat_minor": 5
}
