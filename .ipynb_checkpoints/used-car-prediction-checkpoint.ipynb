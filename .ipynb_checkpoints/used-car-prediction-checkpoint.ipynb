{
 "cells": [
  {
   "cell_type": "markdown",
   "id": "1179d840-cb0e-47a9-a268-0e6cc918845f",
   "metadata": {},
   "source": [
    "# Описание проекта\n",
    "Многие знают про маркетплейсы где продаются б/у вещи, на которых есть возможность недорого купить качественную и полезную вещь. Но всегда волнует вопрос - кто и как устанавливает цену, и какие его характеристики больше всего влияют на итоговую стоимость продажи?! Вопрос становиться особо актуальным, если речь идет про дорогие товары, например про автомобили!\n",
    "\n",
    "Задача - разработать модель для предсказания стоимости продажи автомобиля на вторичном рынке.\n",
    "\n",
    "Данные:\n",
    "* train.csv - информация о характеристиках автомобилей (~440000), которые будут использоваться в качестве обучающих данных.\n",
    "* test.csv - информация о характеристиках автомобилей (~110000), которые будут использоваться в качестве тестовых данных. Задача - предсказать значение 'sellingprice' для каждого автомобиля из этого датасета.\n",
    "* sample_submission.csv - пример файла предсказаний в правильном формате.\n",
    "* vin - идентификатор автомобиля в тестовом наборе.\n",
    "* sellingprice - Целевой признак. Для каждого автомобиля предскажите числовое значение стоимости продажи.\n",
    "\n",
    "**Описание полей данных**\n",
    "* Date: Год выпуска автомобиля.\n",
    "* Make: Марка автомобиля.\n",
    "* Model: издание автомобиля определенной марки.\n",
    "* Trim: Уровни отделки салона автомобиля — это просто разные версии модели.\n",
    "* Body: Тип кузова транспортного средства относится к форме и модели конкретной марки автомобиля.\n",
    "* Transmission: механизм, который передает мощность от двигателя к колесам.\n",
    "* VIN: идентификационный номер транспортного средства.\n",
    "* State: состояние, в котором автомобиль выставлен на аукцион.\n",
    "* Condition: Состояние автомобилей на момент аукциона.\n",
    "* Odometer: расстояние, пройденное автомобилем с момента выпуска.\n",
    "* Color: Цвет кузова автомобиля.\n",
    "* Interior: Цвет салона автомобиля.\n",
    "* Seller: Продавец автомобиля, автосалоны.\n",
    "* mmr: Рекорд рынка Manhiem, рыночная оценочная цена автомобилей.\n",
    "* sellingprice: цена, по которой автомобиль был продан на аукционе.\n",
    "* saledate: Дата продажи автомобиля."
   ]
  },
  {
   "cell_type": "code",
   "execution_count": 1,
   "id": "8cd67c4c-c110-4640-ba2d-70266b27b228",
   "metadata": {
    "tags": []
   },
   "outputs": [],
   "source": [
    "# Импорт библиотек\n",
    "%matplotlib inline\n",
    "import pandas as pd\n",
    "import seaborn as sns\n",
    "import numpy as np\n",
    "from sklearn.model_selection import train_test_split\n",
    "from catboost import CatBoostRegressor\n",
    "import catboost\n",
    "from sklearn.model_selection import GridSearchCV, cross_val_score\n",
    "from sklearn.pipeline import Pipeline\n",
    "from sklearn.metrics import mean_absolute_percentage_error\n",
    "import warnings\n",
    "from pylab import rcParams\n",
    "import matplotlib\n",
    "import matplotlib.pyplot as plt\n",
    "import optuna\n",
    "import ydata_profiling\n",
    "from vininfo import Vin\n",
    "\n",
    "sns.set(style=\"darkgrid\")\n",
    "rcParams['figure.figsize'] = 20, 9"
   ]
  },
  {
   "cell_type": "markdown",
   "id": "4dbf1a86-6344-4259-b3c4-131a341d0e8e",
   "metadata": {
    "tags": []
   },
   "source": [
    "# Загрузка и обработка обучающих данных"
   ]
  },
  {
   "cell_type": "markdown",
   "id": "34de7a44-b32d-455f-995c-446edd2f73ff",
   "metadata": {},
   "source": [
    "## Создание датасета из файла, ознакомление с данными и изменение типа столбцов"
   ]
  },
  {
   "cell_type": "code",
   "execution_count": 2,
   "id": "8d3301d6-6ae7-490c-b4eb-bec9ef0dca32",
   "metadata": {
    "tags": []
   },
   "outputs": [],
   "source": [
    "# Загрузка обучающего датасета\n",
    "df_train = pd.read_csv('datasets/train.csv')"
   ]
  },
  {
   "cell_type": "code",
   "execution_count": 3,
   "id": "15c07214-76cb-4ec8-a5b4-3505874e4858",
   "metadata": {
    "tags": []
   },
   "outputs": [],
   "source": [
    "# ydata_profiling.ProfileReport(df_train)"
   ]
  },
  {
   "cell_type": "code",
   "execution_count": 4,
   "id": "c51bb5b6-f57a-44a5-8aec-83119330d648",
   "metadata": {
    "tags": []
   },
   "outputs": [
    {
     "name": "stdout",
     "output_type": "stream",
     "text": [
      "<class 'pandas.core.frame.DataFrame'>\n",
      "RangeIndex: 440236 entries, 0 to 440235\n",
      "Data columns (total 15 columns):\n",
      " #   Column        Non-Null Count   Dtype  \n",
      "---  ------        --------------   -----  \n",
      " 0   year          440236 non-null  int64  \n",
      " 1   make          432193 non-null  object \n",
      " 2   model         432113 non-null  object \n",
      " 3   trim          431899 non-null  object \n",
      " 4   body          429843 non-null  object \n",
      " 5   transmission  388775 non-null  object \n",
      " 6   vin           440236 non-null  object \n",
      " 7   state         440236 non-null  object \n",
      " 8   condition     430831 non-null  float64\n",
      " 9   odometer      440167 non-null  float64\n",
      " 10  color         439650 non-null  object \n",
      " 11  interior      439650 non-null  object \n",
      " 12  seller        440236 non-null  object \n",
      " 13  sellingprice  440236 non-null  int64  \n",
      " 14  saledate      440236 non-null  object \n",
      "dtypes: float64(2), int64(2), object(11)\n",
      "memory usage: 50.4+ MB\n"
     ]
    }
   ],
   "source": [
    "df_train.info()"
   ]
  },
  {
   "cell_type": "code",
   "execution_count": 5,
   "id": "c3790a1f-2d98-4677-af03-8ccdc9e5fab3",
   "metadata": {
    "tags": []
   },
   "outputs": [
    {
     "data": {
      "text/html": [
       "<div>\n",
       "<style scoped>\n",
       "    .dataframe tbody tr th:only-of-type {\n",
       "        vertical-align: middle;\n",
       "    }\n",
       "\n",
       "    .dataframe tbody tr th {\n",
       "        vertical-align: top;\n",
       "    }\n",
       "\n",
       "    .dataframe thead th {\n",
       "        text-align: right;\n",
       "    }\n",
       "</style>\n",
       "<table border=\"1\" class=\"dataframe\">\n",
       "  <thead>\n",
       "    <tr style=\"text-align: right;\">\n",
       "      <th></th>\n",
       "      <th>year</th>\n",
       "      <th>make</th>\n",
       "      <th>model</th>\n",
       "      <th>trim</th>\n",
       "      <th>body</th>\n",
       "      <th>transmission</th>\n",
       "      <th>vin</th>\n",
       "      <th>state</th>\n",
       "      <th>condition</th>\n",
       "      <th>odometer</th>\n",
       "      <th>color</th>\n",
       "      <th>interior</th>\n",
       "      <th>seller</th>\n",
       "      <th>sellingprice</th>\n",
       "      <th>saledate</th>\n",
       "    </tr>\n",
       "  </thead>\n",
       "  <tbody>\n",
       "    <tr>\n",
       "      <th>0</th>\n",
       "      <td>2011</td>\n",
       "      <td>Ford</td>\n",
       "      <td>Edge</td>\n",
       "      <td>SEL</td>\n",
       "      <td>suv</td>\n",
       "      <td>automatic</td>\n",
       "      <td>2fmdk3jc4bba41556</td>\n",
       "      <td>md</td>\n",
       "      <td>4.2</td>\n",
       "      <td>111041.0</td>\n",
       "      <td>black</td>\n",
       "      <td>black</td>\n",
       "      <td>santander consumer</td>\n",
       "      <td>12500</td>\n",
       "      <td>Tue Jun 02 2015 02:30:00 GMT-0700 (PDT)</td>\n",
       "    </tr>\n",
       "    <tr>\n",
       "      <th>1</th>\n",
       "      <td>2014</td>\n",
       "      <td>Ford</td>\n",
       "      <td>Fusion</td>\n",
       "      <td>SE</td>\n",
       "      <td>Sedan</td>\n",
       "      <td>automatic</td>\n",
       "      <td>3fa6p0h75er208976</td>\n",
       "      <td>mo</td>\n",
       "      <td>3.5</td>\n",
       "      <td>31034.0</td>\n",
       "      <td>black</td>\n",
       "      <td>black</td>\n",
       "      <td>ars/avis budget group</td>\n",
       "      <td>14500</td>\n",
       "      <td>Wed Feb 25 2015 02:00:00 GMT-0800 (PST)</td>\n",
       "    </tr>\n",
       "    <tr>\n",
       "      <th>2</th>\n",
       "      <td>2012</td>\n",
       "      <td>Nissan</td>\n",
       "      <td>Sentra</td>\n",
       "      <td>2.0 SL</td>\n",
       "      <td>sedan</td>\n",
       "      <td>automatic</td>\n",
       "      <td>3n1ab6ap4cl698412</td>\n",
       "      <td>nj</td>\n",
       "      <td>2.2</td>\n",
       "      <td>35619.0</td>\n",
       "      <td>black</td>\n",
       "      <td>black</td>\n",
       "      <td>nissan-infiniti lt</td>\n",
       "      <td>9100</td>\n",
       "      <td>Wed Jun 10 2015 02:30:00 GMT-0700 (PDT)</td>\n",
       "    </tr>\n",
       "    <tr>\n",
       "      <th>3</th>\n",
       "      <td>2003</td>\n",
       "      <td>HUMMER</td>\n",
       "      <td>H2</td>\n",
       "      <td>Base</td>\n",
       "      <td>suv</td>\n",
       "      <td>automatic</td>\n",
       "      <td>5grgn23u93h101360</td>\n",
       "      <td>tx</td>\n",
       "      <td>2.8</td>\n",
       "      <td>131301.0</td>\n",
       "      <td>gold</td>\n",
       "      <td>beige</td>\n",
       "      <td>wichita falls ford lin inc</td>\n",
       "      <td>13300</td>\n",
       "      <td>Wed Jun 17 2015 03:00:00 GMT-0700 (PDT)</td>\n",
       "    </tr>\n",
       "    <tr>\n",
       "      <th>4</th>\n",
       "      <td>2007</td>\n",
       "      <td>Ford</td>\n",
       "      <td>Fusion</td>\n",
       "      <td>SEL</td>\n",
       "      <td>Sedan</td>\n",
       "      <td>automatic</td>\n",
       "      <td>3fahp08z17r268380</td>\n",
       "      <td>md</td>\n",
       "      <td>2.0</td>\n",
       "      <td>127709.0</td>\n",
       "      <td>black</td>\n",
       "      <td>black</td>\n",
       "      <td>purple heart</td>\n",
       "      <td>1300</td>\n",
       "      <td>Tue Feb 03 2015 04:00:00 GMT-0800 (PST)</td>\n",
       "    </tr>\n",
       "  </tbody>\n",
       "</table>\n",
       "</div>"
      ],
      "text/plain": [
       "   year    make   model    trim   body transmission                vin state  \\\n",
       "0  2011    Ford    Edge     SEL    suv    automatic  2fmdk3jc4bba41556    md   \n",
       "1  2014    Ford  Fusion      SE  Sedan    automatic  3fa6p0h75er208976    mo   \n",
       "2  2012  Nissan  Sentra  2.0 SL  sedan    automatic  3n1ab6ap4cl698412    nj   \n",
       "3  2003  HUMMER      H2    Base    suv    automatic  5grgn23u93h101360    tx   \n",
       "4  2007    Ford  Fusion     SEL  Sedan    automatic  3fahp08z17r268380    md   \n",
       "\n",
       "   condition  odometer  color interior                      seller  \\\n",
       "0        4.2  111041.0  black    black          santander consumer   \n",
       "1        3.5   31034.0  black    black       ars/avis budget group   \n",
       "2        2.2   35619.0  black    black          nissan-infiniti lt   \n",
       "3        2.8  131301.0   gold    beige  wichita falls ford lin inc   \n",
       "4        2.0  127709.0  black    black                purple heart   \n",
       "\n",
       "   sellingprice                                 saledate  \n",
       "0         12500  Tue Jun 02 2015 02:30:00 GMT-0700 (PDT)  \n",
       "1         14500  Wed Feb 25 2015 02:00:00 GMT-0800 (PST)  \n",
       "2          9100  Wed Jun 10 2015 02:30:00 GMT-0700 (PDT)  \n",
       "3         13300  Wed Jun 17 2015 03:00:00 GMT-0700 (PDT)  \n",
       "4          1300  Tue Feb 03 2015 04:00:00 GMT-0800 (PST)  "
      ]
     },
     "execution_count": 5,
     "metadata": {},
     "output_type": "execute_result"
    }
   ],
   "source": [
    "df_train.head()"
   ]
  },
  {
   "cell_type": "markdown",
   "id": "a6b6fed3-d96e-498d-bfe6-1156a096de52",
   "metadata": {},
   "source": [
    "Проверим признак condition и year чтобы определить является ли он категориальным или количественным"
   ]
  },
  {
   "cell_type": "code",
   "execution_count": 6,
   "id": "ae6db0cd-bbaf-497e-b8c0-599eecc03962",
   "metadata": {
    "tags": []
   },
   "outputs": [
    {
     "data": {
      "text/plain": [
       "array([4.2, 3.5, 2.2, 2.8, 2. , 2.5, 3.4, 4.8, 1.9, 1. , 3.1, 2.7, 3.6,\n",
       "       2.9, 4.1, 2.6, 2.1, 3. , 4.9, 4.7, 4. , 3.3, 3.8, 3.7, 4.5, 4.6,\n",
       "       5. , 4.3, 2.4, 2.3, 3.9, nan, 3.2, 4.4, 1.4, 1.5, 1.7, 1.2, 1.3,\n",
       "       1.6, 1.8, 1.1])"
      ]
     },
     "execution_count": 6,
     "metadata": {},
     "output_type": "execute_result"
    }
   ],
   "source": [
    "df_train['condition'].unique()"
   ]
  },
  {
   "cell_type": "code",
   "execution_count": 7,
   "id": "f06b4b71-d69f-4258-94cb-0464a7ff0125",
   "metadata": {
    "tags": []
   },
   "outputs": [
    {
     "data": {
      "text/plain": [
       "array([2011, 2014, 2012, 2003, 2007, 2013, 2010, 2000, 2005, 2006, 2004,\n",
       "       2008, 2009, 2015, 2002, 2001, 1999, 1998, 1996, 1997, 1994, 1995,\n",
       "       1993, 1989, 1991, 1988, 1987, 1990, 1992, 1985, 1986, 1983, 1984,\n",
       "       1982], dtype=int64)"
      ]
     },
     "execution_count": 7,
     "metadata": {},
     "output_type": "execute_result"
    }
   ],
   "source": [
    "df_train['year'].unique()"
   ]
  },
  {
   "cell_type": "markdown",
   "id": "43d2783d-da10-4a29-8a2c-55f5d9b29e0a",
   "metadata": {},
   "source": [
    "**Вывод:** признаки condition и year можно считать категориальными"
   ]
  },
  {
   "cell_type": "code",
   "execution_count": 8,
   "id": "7cbfe37d-e92e-48e3-87ab-2a90534f1e92",
   "metadata": {},
   "outputs": [],
   "source": [
    "df_train['condition'] = df_train['condition'].astype(str)"
   ]
  },
  {
   "cell_type": "code",
   "execution_count": 9,
   "id": "85b64dc5-d40d-40d7-9b31-5187e94db1e0",
   "metadata": {},
   "outputs": [],
   "source": [
    "df_train['year'] = df_train['year'].astype(str)"
   ]
  },
  {
   "cell_type": "code",
   "execution_count": 10,
   "id": "4aae90c5-c1d2-42cf-8e6f-5a3500188299",
   "metadata": {
    "tags": []
   },
   "outputs": [],
   "source": [
    "# Преобразуем дату к правильному формату\n",
    "df_train['saledate'] = pd.to_datetime(df_train['saledate'], utc=True)"
   ]
  },
  {
   "cell_type": "code",
   "execution_count": 11,
   "id": "00455722-e834-4733-a0a6-900257f4db89",
   "metadata": {
    "tags": []
   },
   "outputs": [
    {
     "name": "stdout",
     "output_type": "stream",
     "text": [
      "<class 'pandas.core.frame.DataFrame'>\n",
      "RangeIndex: 440236 entries, 0 to 440235\n",
      "Data columns (total 15 columns):\n",
      " #   Column        Non-Null Count   Dtype              \n",
      "---  ------        --------------   -----              \n",
      " 0   year          440236 non-null  object             \n",
      " 1   make          432193 non-null  object             \n",
      " 2   model         432113 non-null  object             \n",
      " 3   trim          431899 non-null  object             \n",
      " 4   body          429843 non-null  object             \n",
      " 5   transmission  388775 non-null  object             \n",
      " 6   vin           440236 non-null  object             \n",
      " 7   state         440236 non-null  object             \n",
      " 8   condition     440236 non-null  object             \n",
      " 9   odometer      440167 non-null  float64            \n",
      " 10  color         439650 non-null  object             \n",
      " 11  interior      439650 non-null  object             \n",
      " 12  seller        440236 non-null  object             \n",
      " 13  sellingprice  440236 non-null  int64              \n",
      " 14  saledate      440236 non-null  datetime64[ns, UTC]\n",
      "dtypes: datetime64[ns, UTC](1), float64(1), int64(1), object(12)\n",
      "memory usage: 50.4+ MB\n"
     ]
    }
   ],
   "source": [
    "df_train.info()"
   ]
  },
  {
   "cell_type": "markdown",
   "id": "13bbd5a1-ceb9-47f7-ac56-8c0b47b60fa0",
   "metadata": {},
   "source": [
    "В дальнейшем дату продажи напрямую использовать не будем, а создадим из неё искуственные признаки: день недели, месяц и год."
   ]
  },
  {
   "cell_type": "markdown",
   "id": "ff455d07-7951-47b7-848f-36eeb9fbb26b",
   "metadata": {},
   "source": [
    "## Обработка пропущенных значений"
   ]
  },
  {
   "cell_type": "code",
   "execution_count": 12,
   "id": "08f9d9e1-d0de-4edf-a25a-4c2684eb4a2e",
   "metadata": {
    "tags": []
   },
   "outputs": [
    {
     "data": {
      "text/plain": [
       "year                0\n",
       "make             8043\n",
       "model            8123\n",
       "trim             8337\n",
       "body            10393\n",
       "transmission    51461\n",
       "vin                 0\n",
       "state               0\n",
       "condition           0\n",
       "odometer           69\n",
       "color             586\n",
       "interior          586\n",
       "seller              0\n",
       "sellingprice        0\n",
       "saledate            0\n",
       "dtype: int64"
      ]
     },
     "execution_count": 12,
     "metadata": {},
     "output_type": "execute_result"
    }
   ],
   "source": [
    "df_train.isna().sum()"
   ]
  },
  {
   "cell_type": "markdown",
   "id": "751b8c3a-6adc-48ea-9de5-7fcc218fee9c",
   "metadata": {},
   "source": [
    "***Стратегия обработки пропусков***\n",
    "\n",
    "Поля ниже можно просто дропнуть т.к. в них очень мало пропущенных значений:\n",
    "* odometer\n",
    "* color\n",
    "* interior\n",
    "\n",
    "Поля ниже можно заменить модой сгруппировав по make, model и year, либо достать по vin при помощи специальных библиотек:\n",
    "* body\n",
    "* model\n",
    "* trim \n",
    "* transmission\n",
    "* condition\n",
    "* make - заполняем данными из vininfo"
   ]
  },
  {
   "cell_type": "markdown",
   "id": "cb8e4fcb-e7fd-413d-8661-2985d109f3e3",
   "metadata": {},
   "source": [
    "### Обработка пропусков в признаке make"
   ]
  },
  {
   "cell_type": "code",
   "execution_count": 13,
   "id": "4323cd93-4416-4605-8dd4-edb32ef119e7",
   "metadata": {
    "tags": []
   },
   "outputs": [
    {
     "data": {
      "text/plain": [
       "{'Country': 'Canada',\n",
       " 'Manufacturer': 'Ford',\n",
       " 'Region': 'North America',\n",
       " 'Years': '2011, 1981'}"
      ]
     },
     "execution_count": 13,
     "metadata": {},
     "output_type": "execute_result"
    }
   ],
   "source": [
    "Vin(df_train.loc[0, 'vin']).annotate()"
   ]
  },
  {
   "cell_type": "code",
   "execution_count": 14,
   "id": "13d1ed1b-215a-48aa-88bb-ae351e630715",
   "metadata": {
    "tags": []
   },
   "outputs": [],
   "source": [
    "# Функция находит производителя по номеру Vin\n",
    "def get_make_from_vin(row):\n",
    "    vin_info = Vin(row['vin'])\n",
    "    return vin_info.annotate()['Manufacturer']"
   ]
  },
  {
   "cell_type": "code",
   "execution_count": 15,
   "id": "e096a9ae-c8ab-4f6e-9cc2-a44b7f7e53e8",
   "metadata": {
    "tags": []
   },
   "outputs": [
    {
     "data": {
      "text/plain": [
       "8043"
      ]
     },
     "execution_count": 15,
     "metadata": {},
     "output_type": "execute_result"
    }
   ],
   "source": [
    "# Проверка пропусков до обработки\n",
    "df_train['make'].isna().sum()"
   ]
  },
  {
   "cell_type": "code",
   "execution_count": 16,
   "id": "ea014771-c786-4971-8168-560ef49bed2f",
   "metadata": {
    "tags": []
   },
   "outputs": [],
   "source": [
    "# Обработка пропусков\n",
    "df_train['make'].fillna(df_train.apply(get_make_from_vin, axis=1), inplace=True)"
   ]
  },
  {
   "cell_type": "code",
   "execution_count": 17,
   "id": "a7031154-1eeb-4b4d-82cc-a9e627960c91",
   "metadata": {
    "tags": []
   },
   "outputs": [
    {
     "data": {
      "text/plain": [
       "year                0\n",
       "make                0\n",
       "model            8123\n",
       "trim             8337\n",
       "body            10393\n",
       "transmission    51461\n",
       "vin                 0\n",
       "state               0\n",
       "condition           0\n",
       "odometer           69\n",
       "color             586\n",
       "interior          586\n",
       "seller              0\n",
       "sellingprice        0\n",
       "saledate            0\n",
       "dtype: int64"
      ]
     },
     "execution_count": 17,
     "metadata": {},
     "output_type": "execute_result"
    }
   ],
   "source": [
    "# Проверка пропусков после обработки\n",
    "df_train.isna().sum()"
   ]
  },
  {
   "cell_type": "markdown",
   "id": "d363a034-7737-47a0-8677-64c3fab9612a",
   "metadata": {},
   "source": [
    "### Обработка пропусков в остальных столбцах\n",
    "\n",
    "Согласно стратегии в столбцах body, model, trim, transmission, condition пропуски заменяем модой группируя по make, model и year. В столбцах odometer, color, interior пропуски просто удаляем."
   ]
  },
  {
   "cell_type": "code",
   "execution_count": 18,
   "id": "0f070e38-05c7-4695-a86c-366a3c910850",
   "metadata": {
    "tags": []
   },
   "outputs": [],
   "source": [
    "cols_for_moda = ['body', 'model', 'trim', 'transmission', 'condition']"
   ]
  },
  {
   "cell_type": "code",
   "execution_count": 19,
   "id": "33f97845-93ed-4226-90dd-01878bd6ff2d",
   "metadata": {
    "tags": []
   },
   "outputs": [],
   "source": [
    "cols_for_drop = ['odometer', 'color', 'interior']"
   ]
  },
  {
   "cell_type": "markdown",
   "id": "97c117c5-9008-44a0-8d86-dcd6d35c17fc",
   "metadata": {},
   "source": [
    " Сразу получилось заполнить не все пропуски в полях body, model, trim, transmission, condition т.к. у оставшихся пропусков все три поля body, model, trim пустые. Можно попробовать заполнить поле model модой по year и make, а потом уже заполнять остальные поля."
   ]
  },
  {
   "cell_type": "code",
   "execution_count": 20,
   "id": "8d0d55e4-d362-453b-9e2c-96c9e544b1e2",
   "metadata": {
    "tags": []
   },
   "outputs": [],
   "source": [
    "with warnings.catch_warnings():\n",
    "    warnings.filterwarnings(\"ignore\")\n",
    "    df_train['model'] = df_train['model'].fillna(df_train.groupby(['make', 'year'])['model']\\\n",
    "                                     .transform(lambda x: x.mode().iloc[0] if not x.empty and not x.mode().empty else None))"
   ]
  },
  {
   "cell_type": "code",
   "execution_count": 21,
   "id": "38e59506-d0f7-42e5-b0bc-ad41d8e645ca",
   "metadata": {
    "tags": []
   },
   "outputs": [],
   "source": [
    "# Заполняем пропуски самым часто встречаемым значением признака\n",
    "with warnings.catch_warnings():\n",
    "    warnings.filterwarnings(\"ignore\")\n",
    "    for i in cols_for_moda:\n",
    "        df_train[i] = df_train[i].fillna(df_train.groupby(['make', 'model'])[i]\\\n",
    "                                         .transform(lambda x: x.mode().iloc[0] if not x.empty and not x.mode().empty else None))"
   ]
  },
  {
   "cell_type": "code",
   "execution_count": 22,
   "id": "08367064-26df-4248-9b8f-33f32a16a847",
   "metadata": {
    "tags": []
   },
   "outputs": [
    {
     "data": {
      "text/plain": [
       "year               0\n",
       "make               0\n",
       "model           1908\n",
       "trim            2031\n",
       "body            4242\n",
       "transmission     402\n",
       "vin                0\n",
       "state              0\n",
       "condition          0\n",
       "odometer          69\n",
       "color            586\n",
       "interior         586\n",
       "seller             0\n",
       "sellingprice       0\n",
       "saledate           0\n",
       "dtype: int64"
      ]
     },
     "execution_count": 22,
     "metadata": {},
     "output_type": "execute_result"
    }
   ],
   "source": [
    "# Проверка пропусков после обработки\n",
    "df_train.isna().sum()"
   ]
  },
  {
   "cell_type": "markdown",
   "id": "e3e10882-d2bd-4aa9-a7c1-adc89735986d",
   "metadata": {},
   "source": [
    "Пропуски обработаны, остальные можно удалять :)"
   ]
  },
  {
   "cell_type": "code",
   "execution_count": 23,
   "id": "d54d7d25-f249-4562-a779-fbcebd83b16d",
   "metadata": {},
   "outputs": [],
   "source": [
    "df_train.dropna(inplace=True)"
   ]
  },
  {
   "cell_type": "code",
   "execution_count": 24,
   "id": "c9ff00e5-ffd4-470f-8b9b-6743487116aa",
   "metadata": {},
   "outputs": [
    {
     "data": {
      "text/plain": [
       "year            0\n",
       "make            0\n",
       "model           0\n",
       "trim            0\n",
       "body            0\n",
       "transmission    0\n",
       "vin             0\n",
       "state           0\n",
       "condition       0\n",
       "odometer        0\n",
       "color           0\n",
       "interior        0\n",
       "seller          0\n",
       "sellingprice    0\n",
       "saledate        0\n",
       "dtype: int64"
      ]
     },
     "execution_count": 24,
     "metadata": {},
     "output_type": "execute_result"
    }
   ],
   "source": [
    "# Проверка пропусков после полной обработки\n",
    "df_train.isna().sum()"
   ]
  },
  {
   "cell_type": "code",
   "execution_count": 25,
   "id": "6e83fdb6-e128-4a4a-9914-a793a081328a",
   "metadata": {
    "tags": []
   },
   "outputs": [
    {
     "name": "stdout",
     "output_type": "stream",
     "text": [
      "<class 'pandas.core.frame.DataFrame'>\n",
      "Int64Index: 435353 entries, 0 to 440235\n",
      "Data columns (total 15 columns):\n",
      " #   Column        Non-Null Count   Dtype              \n",
      "---  ------        --------------   -----              \n",
      " 0   year          435353 non-null  object             \n",
      " 1   make          435353 non-null  object             \n",
      " 2   model         435353 non-null  object             \n",
      " 3   trim          435353 non-null  object             \n",
      " 4   body          435353 non-null  object             \n",
      " 5   transmission  435353 non-null  object             \n",
      " 6   vin           435353 non-null  object             \n",
      " 7   state         435353 non-null  object             \n",
      " 8   condition     435353 non-null  object             \n",
      " 9   odometer      435353 non-null  float64            \n",
      " 10  color         435353 non-null  object             \n",
      " 11  interior      435353 non-null  object             \n",
      " 12  seller        435353 non-null  object             \n",
      " 13  sellingprice  435353 non-null  int64              \n",
      " 14  saledate      435353 non-null  datetime64[ns, UTC]\n",
      "dtypes: datetime64[ns, UTC](1), float64(1), int64(1), object(12)\n",
      "memory usage: 53.1+ MB\n"
     ]
    }
   ],
   "source": [
    "df_train.info()"
   ]
  },
  {
   "cell_type": "markdown",
   "id": "b4ffe01c-18d5-4796-8f85-28265592f82e",
   "metadata": {},
   "source": [
    "**Вывод:** пропуски обработаны и мы потеряли всего примерно 2% исходных данных"
   ]
  },
  {
   "cell_type": "markdown",
   "id": "44797487-b848-4bee-9b3d-3f9661613408",
   "metadata": {},
   "source": [
    "## Обработка дубликатов и выбросов\n",
    "\n",
    "В поле body были обнаружены неявные дубликаты, обработаем их приведя всё к нижнему регистру"
   ]
  },
  {
   "cell_type": "code",
   "execution_count": 26,
   "id": "ef7420d0-bbd1-4849-b92d-2df1de36bacd",
   "metadata": {
    "tags": []
   },
   "outputs": [
    {
     "data": {
      "text/plain": [
       "0"
      ]
     },
     "execution_count": 26,
     "metadata": {},
     "output_type": "execute_result"
    }
   ],
   "source": [
    "# Кол-во явных дубликатов\n",
    "df_train.duplicated().sum()"
   ]
  },
  {
   "cell_type": "code",
   "execution_count": 27,
   "id": "ba2e0273-4a6b-43d1-927a-bee69c23f28b",
   "metadata": {
    "tags": []
   },
   "outputs": [
    {
     "data": {
      "text/plain": [
       "array(['suv', 'Sedan', 'sedan', 'SUV', 'wagon', 'Minivan', 'Extended Cab',\n",
       "       'Regular Cab', 'Coupe', 'SuperCrew', 'Wagon', 'convertible',\n",
       "       'Crew Cab', 'SuperCab', 'Convertible', 'Hatchback', 'minivan',\n",
       "       'hatchback', 'G Coupe', 'G Convertible', 'coupe', 'Access Cab',\n",
       "       'G Sedan', 'regular cab', 'e-series van', 'supercrew', 'Quad Cab',\n",
       "       'tsx sport wagon', 'Van', 'g sedan', 'E-Series Van', 'CTS Coupe',\n",
       "       'Koup', 'King Cab', 'extended cab', 'double cab', 'Elantra Coupe',\n",
       "       'koup', 'access cab', 'Double Cab', 'crew cab', 'quad cab',\n",
       "       'g coupe', 'CrewMax Cab', 'supercab', 'g convertible',\n",
       "       'Genesis Coupe', 'van', 'G37 Coupe', 'club cab',\n",
       "       'Beetle Convertible', 'Mega Cab', 'regular-cab', 'Xtracab',\n",
       "       'cts coupe', 'genesis coupe', 'Club Cab', 'q60 coupe', 'mega cab',\n",
       "       'crewmax cab', 'Promaster Cargo Van', 'king cab', 'CTS-V Coupe',\n",
       "       'TSX Sport Wagon', 'CTS Wagon', 'Cab Plus 4', 'G37 Convertible',\n",
       "       'Transit Van', 'Q60 Convertible', 'elantra coupe',\n",
       "       'beetle convertible', 'Q60 Coupe', 'promaster cargo van',\n",
       "       'Cab Plus', 'transit van', 'g37 convertible', 'g37 coupe',\n",
       "       'Ram Van', 'granturismo convertible', 'GranTurismo Convertible',\n",
       "       'cab plus 4', 'xtracab', 'cts-v coupe', 'q60 convertible',\n",
       "       'CTS-V Wagon'], dtype=object)"
      ]
     },
     "execution_count": 27,
     "metadata": {},
     "output_type": "execute_result"
    }
   ],
   "source": [
    "df_train['body'].unique()"
   ]
  },
  {
   "cell_type": "markdown",
   "id": "60f4005f-a6f6-42ba-b555-fa5495e0f4fc",
   "metadata": {},
   "source": []
  },
  {
   "cell_type": "code",
   "execution_count": 28,
   "id": "89c45b40-0050-46c0-86ed-b3dacd969d8d",
   "metadata": {
    "tags": []
   },
   "outputs": [],
   "source": [
    "# Функция переводит текст (пересобирает строку) в нижний регистр, если он является буквой\n",
    "def lowercase_alphabetic(text):\n",
    "    new_text = ''\n",
    "    for i in text:\n",
    "        if i.isalpha():\n",
    "            new_text += i.lower()\n",
    "        else:\n",
    "            new_text += i\n",
    "    \n",
    "    return new_text"
   ]
  },
  {
   "cell_type": "code",
   "execution_count": 29,
   "id": "dc3b9505-71b3-490d-9e06-bc4567e9fe90",
   "metadata": {
    "tags": []
   },
   "outputs": [],
   "source": [
    "df_train['body'] = df_train['body'].apply(lowercase_alphabetic)"
   ]
  },
  {
   "cell_type": "code",
   "execution_count": 30,
   "id": "82bcb483-fbd2-4c90-8e7f-231e06be41b6",
   "metadata": {},
   "outputs": [
    {
     "data": {
      "text/plain": [
       "array(['suv', 'sedan', 'wagon', 'minivan', 'extended cab', 'regular cab',\n",
       "       'coupe', 'supercrew', 'convertible', 'crew cab', 'supercab',\n",
       "       'hatchback', 'g coupe', 'g convertible', 'access cab', 'g sedan',\n",
       "       'e-series van', 'quad cab', 'tsx sport wagon', 'van', 'cts coupe',\n",
       "       'koup', 'king cab', 'double cab', 'elantra coupe', 'crewmax cab',\n",
       "       'genesis coupe', 'g37 coupe', 'club cab', 'beetle convertible',\n",
       "       'mega cab', 'regular-cab', 'xtracab', 'q60 coupe',\n",
       "       'promaster cargo van', 'cts-v coupe', 'cts wagon', 'cab plus 4',\n",
       "       'g37 convertible', 'transit van', 'q60 convertible', 'cab plus',\n",
       "       'ram van', 'granturismo convertible', 'cts-v wagon'], dtype=object)"
      ]
     },
     "execution_count": 30,
     "metadata": {},
     "output_type": "execute_result"
    }
   ],
   "source": [
    "# Проверка обработанных значений\n",
    "df_train['body'].unique()"
   ]
  },
  {
   "cell_type": "markdown",
   "id": "b1df3ccd-815c-4ca1-972f-5eca1dde447f",
   "metadata": {},
   "source": [
    "### Обработка выбросов\n",
    "Обработаем выбросы во всех количественных признаках, для этого напишем функцию, которая удаляет значение если оно больше 3 стандартных отклонений."
   ]
  },
  {
   "cell_type": "code",
   "execution_count": 31,
   "id": "1eaa54e1-4870-4153-be21-f60d41ed3993",
   "metadata": {
    "tags": []
   },
   "outputs": [],
   "source": [
    "numeric_cols = ['odometer', 'sellingprice']"
   ]
  },
  {
   "cell_type": "code",
   "execution_count": 32,
   "id": "fa0a2498-9030-4503-a524-a0d220e59583",
   "metadata": {
    "tags": []
   },
   "outputs": [],
   "source": [
    "def anomaly_cols(df, col):\n",
    "    # df = df_anom.copy()\n",
    "    # Определяем значение стандартного отклонения в признаке\n",
    "    std_col = df[col].std()\n",
    "    anom_val = df.loc[abs(df[col] - df[col].mean()) > std_col * 3]\n",
    "    print(f'\\n{col}')\n",
    "    print(f'Кол-во аномальных значений: {anom_val[col].count()}')\n",
    "    print(f'Пример аномальных значений')\n",
    "    print(anom_val[col].head(5))\n",
    "    nul_val = df.loc[df[col] == 0]\n",
    "    print(f'Кол-во нулевых значений: {nul_val[col].count()}')\n",
    "    # df = df.loc[(abs(df[col] - df[col].mean()) < std_col * 3) & (df[col] != 0)]\n",
    "    # return df"
   ]
  },
  {
   "cell_type": "code",
   "execution_count": 33,
   "id": "e3728819-887d-407e-895a-4ba1ebd0aa28",
   "metadata": {
    "tags": []
   },
   "outputs": [
    {
     "name": "stdout",
     "output_type": "stream",
     "text": [
      "\n",
      "odometer\n",
      "Кол-во аномальных значений: 4145\n",
      "Пример аномальных значений\n",
      "56     232005.0\n",
      "76     245375.0\n",
      "180    233487.0\n",
      "202    298961.0\n",
      "287    249267.0\n",
      "Name: odometer, dtype: float64\n",
      "Кол-во нулевых значений: 0\n",
      "\n",
      "sellingprice\n",
      "Кол-во аномальных значений: 5382\n",
      "Пример аномальных значений\n",
      "129    47000\n",
      "133    93000\n",
      "200    52500\n",
      "316    48000\n",
      "415    54300\n",
      "Name: sellingprice, dtype: int64\n",
      "Кол-во нулевых значений: 0\n"
     ]
    }
   ],
   "source": [
    "for col in numeric_cols:\n",
    "    anomaly_cols(df_train, col)"
   ]
  },
  {
   "cell_type": "code",
   "execution_count": 34,
   "id": "693dcbbc-1f13-428b-b313-ccc78b41f3f1",
   "metadata": {
    "tags": []
   },
   "outputs": [
    {
     "data": {
      "text/plain": [
       "year            435353\n",
       "make            435353\n",
       "model           435353\n",
       "trim            435353\n",
       "body            435353\n",
       "transmission    435353\n",
       "vin             435353\n",
       "state           435353\n",
       "condition       435353\n",
       "odometer        435353\n",
       "color           435353\n",
       "interior        435353\n",
       "seller          435353\n",
       "sellingprice    435353\n",
       "saledate        435353\n",
       "dtype: int64"
      ]
     },
     "execution_count": 34,
     "metadata": {},
     "output_type": "execute_result"
    }
   ],
   "source": [
    "df_train.count()"
   ]
  },
  {
   "cell_type": "code",
   "execution_count": 35,
   "id": "5ab63e8e-063a-4ca6-81c3-cd6dac0e7224",
   "metadata": {
    "tags": []
   },
   "outputs": [],
   "source": [
    "# Функция заменяет аномальные значения медианой\n",
    "def update_anol_cols(df_anom, cols):\n",
    "    df = df_anom.copy()\n",
    "    for col in cols:\n",
    "        std_col = df[col].std()\n",
    "        df = df.loc[abs(df[col] - df[col].mean()) < std_col * 3]\n",
    "    return df"
   ]
  },
  {
   "cell_type": "code",
   "execution_count": 36,
   "id": "7a96897b-0a36-4179-9246-0145b4839a21",
   "metadata": {
    "tags": []
   },
   "outputs": [],
   "source": [
    "df_train_n_anom = update_anol_cols(df_train, numeric_cols)"
   ]
  },
  {
   "cell_type": "code",
   "execution_count": 37,
   "id": "ae4e6cf8-608b-4d0f-bdd7-408e6f7f7ccd",
   "metadata": {
    "tags": []
   },
   "outputs": [
    {
     "data": {
      "text/plain": [
       "year            425863\n",
       "make            425863\n",
       "model           425863\n",
       "trim            425863\n",
       "body            425863\n",
       "transmission    425863\n",
       "vin             425863\n",
       "state           425863\n",
       "condition       425863\n",
       "odometer        425863\n",
       "color           425863\n",
       "interior        425863\n",
       "seller          425863\n",
       "sellingprice    425863\n",
       "saledate        425863\n",
       "dtype: int64"
      ]
     },
     "execution_count": 37,
     "metadata": {},
     "output_type": "execute_result"
    }
   ],
   "source": [
    "# Кол-во итоговых строк\n",
    "df_train_n_anom.count()"
   ]
  },
  {
   "cell_type": "markdown",
   "id": "1c9430aa-eeda-4ac9-8e4f-5e6009760498",
   "metadata": {},
   "source": [
    "## Создание искуственных признаков и удаление неинформативных"
   ]
  },
  {
   "cell_type": "markdown",
   "id": "ee4d0519-ee03-4a30-8745-a45de40a1c2c",
   "metadata": {},
   "source": [
    "Признак seller можно удалить т.к. он неинформативен, а признак vin можно сделать индексом строки. Из признака saledate сделаем искуственные признаки salemonth, saleyear, saledow."
   ]
  },
  {
   "cell_type": "code",
   "execution_count": 38,
   "id": "19bb88f5-dabf-495e-8501-81f1b2d6768b",
   "metadata": {},
   "outputs": [],
   "source": [
    "df_train_n_anom_r = df_train_n_anom.copy()"
   ]
  },
  {
   "cell_type": "code",
   "execution_count": 39,
   "id": "dea4af26-e4f4-46f0-a38d-e4f21488b138",
   "metadata": {
    "tags": []
   },
   "outputs": [],
   "source": [
    "# Признак seller можно удалить т.к. он неинформативен\n",
    "df_train_n_anom_r = df_train_n_anom_r.drop(columns=['seller'])"
   ]
  },
  {
   "cell_type": "code",
   "execution_count": 40,
   "id": "c1ba6c17-79a4-4698-a8c1-6ee611075a5c",
   "metadata": {
    "tags": []
   },
   "outputs": [],
   "source": [
    "df_train_n_anom_r.set_index('vin', inplace=True, drop=True)"
   ]
  },
  {
   "cell_type": "code",
   "execution_count": 41,
   "id": "05f27dda-262b-4f2c-90fe-ef396caca600",
   "metadata": {
    "tags": []
   },
   "outputs": [],
   "source": [
    "df_train_n_anom_r['salemonth'] = df_train_n_anom_r['saledate'].dt.month\n",
    "df_train_n_anom_r['saleyear'] = df_train_n_anom_r['saledate'].dt.year\n",
    "df_train_n_anom_r['saledow'] = df_train_n_anom_r['saledate'].dt.day_name()"
   ]
  },
  {
   "cell_type": "code",
   "execution_count": 42,
   "id": "5c45cf7b-9494-428c-996d-f6b5007c6290",
   "metadata": {
    "tags": []
   },
   "outputs": [],
   "source": [
    "df_train_n_anom_r = df_train_n_anom_r.drop(columns=['saledate'])"
   ]
  },
  {
   "cell_type": "code",
   "execution_count": 111,
   "id": "8844136e-1566-43b5-9274-626c9d7eda36",
   "metadata": {
    "tags": []
   },
   "outputs": [
    {
     "data": {
      "text/html": [
       "<div>\n",
       "<style scoped>\n",
       "    .dataframe tbody tr th:only-of-type {\n",
       "        vertical-align: middle;\n",
       "    }\n",
       "\n",
       "    .dataframe tbody tr th {\n",
       "        vertical-align: top;\n",
       "    }\n",
       "\n",
       "    .dataframe thead th {\n",
       "        text-align: right;\n",
       "    }\n",
       "</style>\n",
       "<table border=\"1\" class=\"dataframe\">\n",
       "  <thead>\n",
       "    <tr style=\"text-align: right;\">\n",
       "      <th></th>\n",
       "      <th>year</th>\n",
       "      <th>make</th>\n",
       "      <th>model</th>\n",
       "      <th>trim</th>\n",
       "      <th>body</th>\n",
       "      <th>transmission</th>\n",
       "      <th>state</th>\n",
       "      <th>condition</th>\n",
       "      <th>odometer</th>\n",
       "      <th>color</th>\n",
       "      <th>interior</th>\n",
       "      <th>sellingprice</th>\n",
       "      <th>salemonth</th>\n",
       "      <th>saleyear</th>\n",
       "      <th>saledow</th>\n",
       "    </tr>\n",
       "    <tr>\n",
       "      <th>vin</th>\n",
       "      <th></th>\n",
       "      <th></th>\n",
       "      <th></th>\n",
       "      <th></th>\n",
       "      <th></th>\n",
       "      <th></th>\n",
       "      <th></th>\n",
       "      <th></th>\n",
       "      <th></th>\n",
       "      <th></th>\n",
       "      <th></th>\n",
       "      <th></th>\n",
       "      <th></th>\n",
       "      <th></th>\n",
       "      <th></th>\n",
       "    </tr>\n",
       "  </thead>\n",
       "  <tbody>\n",
       "    <tr>\n",
       "      <th>2fmdk3jc4bba41556</th>\n",
       "      <td>2011</td>\n",
       "      <td>Ford</td>\n",
       "      <td>Edge</td>\n",
       "      <td>SEL</td>\n",
       "      <td>suv</td>\n",
       "      <td>automatic</td>\n",
       "      <td>md</td>\n",
       "      <td>4.2</td>\n",
       "      <td>111041.0</td>\n",
       "      <td>black</td>\n",
       "      <td>black</td>\n",
       "      <td>12500</td>\n",
       "      <td>6</td>\n",
       "      <td>2015</td>\n",
       "      <td>Monday</td>\n",
       "    </tr>\n",
       "    <tr>\n",
       "      <th>3fa6p0h75er208976</th>\n",
       "      <td>2014</td>\n",
       "      <td>Ford</td>\n",
       "      <td>Fusion</td>\n",
       "      <td>SE</td>\n",
       "      <td>sedan</td>\n",
       "      <td>automatic</td>\n",
       "      <td>mo</td>\n",
       "      <td>3.5</td>\n",
       "      <td>31034.0</td>\n",
       "      <td>black</td>\n",
       "      <td>black</td>\n",
       "      <td>14500</td>\n",
       "      <td>2</td>\n",
       "      <td>2015</td>\n",
       "      <td>Tuesday</td>\n",
       "    </tr>\n",
       "    <tr>\n",
       "      <th>3n1ab6ap4cl698412</th>\n",
       "      <td>2012</td>\n",
       "      <td>Nissan</td>\n",
       "      <td>Sentra</td>\n",
       "      <td>2.0 SL</td>\n",
       "      <td>sedan</td>\n",
       "      <td>automatic</td>\n",
       "      <td>nj</td>\n",
       "      <td>2.2</td>\n",
       "      <td>35619.0</td>\n",
       "      <td>black</td>\n",
       "      <td>black</td>\n",
       "      <td>9100</td>\n",
       "      <td>6</td>\n",
       "      <td>2015</td>\n",
       "      <td>Tuesday</td>\n",
       "    </tr>\n",
       "    <tr>\n",
       "      <th>5grgn23u93h101360</th>\n",
       "      <td>2003</td>\n",
       "      <td>HUMMER</td>\n",
       "      <td>H2</td>\n",
       "      <td>Base</td>\n",
       "      <td>suv</td>\n",
       "      <td>automatic</td>\n",
       "      <td>tx</td>\n",
       "      <td>2.8</td>\n",
       "      <td>131301.0</td>\n",
       "      <td>gold</td>\n",
       "      <td>beige</td>\n",
       "      <td>13300</td>\n",
       "      <td>6</td>\n",
       "      <td>2015</td>\n",
       "      <td>Tuesday</td>\n",
       "    </tr>\n",
       "    <tr>\n",
       "      <th>3fahp08z17r268380</th>\n",
       "      <td>2007</td>\n",
       "      <td>Ford</td>\n",
       "      <td>Fusion</td>\n",
       "      <td>SEL</td>\n",
       "      <td>sedan</td>\n",
       "      <td>automatic</td>\n",
       "      <td>md</td>\n",
       "      <td>2.0</td>\n",
       "      <td>127709.0</td>\n",
       "      <td>black</td>\n",
       "      <td>black</td>\n",
       "      <td>1300</td>\n",
       "      <td>2</td>\n",
       "      <td>2015</td>\n",
       "      <td>Monday</td>\n",
       "    </tr>\n",
       "  </tbody>\n",
       "</table>\n",
       "</div>"
      ],
      "text/plain": [
       "                   year    make   model    trim   body transmission state  \\\n",
       "vin                                                                         \n",
       "2fmdk3jc4bba41556  2011    Ford    Edge     SEL    suv    automatic    md   \n",
       "3fa6p0h75er208976  2014    Ford  Fusion      SE  sedan    automatic    mo   \n",
       "3n1ab6ap4cl698412  2012  Nissan  Sentra  2.0 SL  sedan    automatic    nj   \n",
       "5grgn23u93h101360  2003  HUMMER      H2    Base    suv    automatic    tx   \n",
       "3fahp08z17r268380  2007    Ford  Fusion     SEL  sedan    automatic    md   \n",
       "\n",
       "                  condition  odometer  color interior  sellingprice  \\\n",
       "vin                                                                   \n",
       "2fmdk3jc4bba41556       4.2  111041.0  black    black         12500   \n",
       "3fa6p0h75er208976       3.5   31034.0  black    black         14500   \n",
       "3n1ab6ap4cl698412       2.2   35619.0  black    black          9100   \n",
       "5grgn23u93h101360       2.8  131301.0   gold    beige         13300   \n",
       "3fahp08z17r268380       2.0  127709.0  black    black          1300   \n",
       "\n",
       "                   salemonth  saleyear  saledow  \n",
       "vin                                              \n",
       "2fmdk3jc4bba41556          6      2015   Monday  \n",
       "3fa6p0h75er208976          2      2015  Tuesday  \n",
       "3n1ab6ap4cl698412          6      2015  Tuesday  \n",
       "5grgn23u93h101360          6      2015  Tuesday  \n",
       "3fahp08z17r268380          2      2015   Monday  "
      ]
     },
     "execution_count": 111,
     "metadata": {},
     "output_type": "execute_result"
    }
   ],
   "source": [
    "df_train_n_anom_r.head()"
   ]
  },
  {
   "cell_type": "markdown",
   "id": "bb3db8a3-ebf4-4a06-b5dd-bb0fd95a38b2",
   "metadata": {},
   "source": [
    "**Вывод:** обучающий датасет предобработан и готов для построения модели"
   ]
  },
  {
   "cell_type": "markdown",
   "id": "dcf6d70e-e8e1-4a67-86bf-5abc246faee2",
   "metadata": {
    "tags": []
   },
   "source": [
    "# Загрузка и обработка тестовых данных"
   ]
  },
  {
   "cell_type": "code",
   "execution_count": 43,
   "id": "9f7fbc68-f42a-49ff-8128-eca04516483e",
   "metadata": {
    "tags": []
   },
   "outputs": [],
   "source": [
    "# Загрузка обучающего датасета\n",
    "df_test = pd.read_csv('datasets/test.csv')"
   ]
  },
  {
   "cell_type": "code",
   "execution_count": 44,
   "id": "f3869c36-f066-4398-b739-391fd508476c",
   "metadata": {
    "tags": []
   },
   "outputs": [
    {
     "name": "stdout",
     "output_type": "stream",
     "text": [
      "<class 'pandas.core.frame.DataFrame'>\n",
      "RangeIndex: 110058 entries, 0 to 110057\n",
      "Data columns (total 14 columns):\n",
      " #   Column        Non-Null Count   Dtype  \n",
      "---  ------        --------------   -----  \n",
      " 0   year          110058 non-null  int64  \n",
      " 1   make          107997 non-null  object \n",
      " 2   model         107979 non-null  object \n",
      " 3   trim          107944 non-null  object \n",
      " 4   body          107464 non-null  object \n",
      " 5   transmission  97047 non-null   object \n",
      " 6   vin           110058 non-null  object \n",
      " 7   state         110058 non-null  object \n",
      " 8   condition     107679 non-null  float64\n",
      " 9   odometer      110039 non-null  float64\n",
      " 10  color         109900 non-null  object \n",
      " 11  interior      109900 non-null  object \n",
      " 12  seller        110058 non-null  object \n",
      " 13  saledate      110058 non-null  object \n",
      "dtypes: float64(2), int64(1), object(11)\n",
      "memory usage: 11.8+ MB\n"
     ]
    }
   ],
   "source": [
    "df_test.info()"
   ]
  },
  {
   "cell_type": "code",
   "execution_count": 45,
   "id": "e5407aef-4d46-4547-b325-5a757cb22f97",
   "metadata": {
    "tags": []
   },
   "outputs": [
    {
     "data": {
      "text/html": [
       "<div>\n",
       "<style scoped>\n",
       "    .dataframe tbody tr th:only-of-type {\n",
       "        vertical-align: middle;\n",
       "    }\n",
       "\n",
       "    .dataframe tbody tr th {\n",
       "        vertical-align: top;\n",
       "    }\n",
       "\n",
       "    .dataframe thead th {\n",
       "        text-align: right;\n",
       "    }\n",
       "</style>\n",
       "<table border=\"1\" class=\"dataframe\">\n",
       "  <thead>\n",
       "    <tr style=\"text-align: right;\">\n",
       "      <th></th>\n",
       "      <th>year</th>\n",
       "      <th>make</th>\n",
       "      <th>model</th>\n",
       "      <th>trim</th>\n",
       "      <th>body</th>\n",
       "      <th>transmission</th>\n",
       "      <th>vin</th>\n",
       "      <th>state</th>\n",
       "      <th>condition</th>\n",
       "      <th>odometer</th>\n",
       "      <th>color</th>\n",
       "      <th>interior</th>\n",
       "      <th>seller</th>\n",
       "      <th>saledate</th>\n",
       "    </tr>\n",
       "  </thead>\n",
       "  <tbody>\n",
       "    <tr>\n",
       "      <th>0</th>\n",
       "      <td>2005</td>\n",
       "      <td>Cadillac</td>\n",
       "      <td>CTS</td>\n",
       "      <td>Base</td>\n",
       "      <td>Sedan</td>\n",
       "      <td>automatic</td>\n",
       "      <td>1g6dp567450124779</td>\n",
       "      <td>ca</td>\n",
       "      <td>2.7</td>\n",
       "      <td>116970.0</td>\n",
       "      <td>silver</td>\n",
       "      <td>black</td>\n",
       "      <td>lexus of stevens creek</td>\n",
       "      <td>Wed Jan 14 2015 04:30:00 GMT-0800 (PST)</td>\n",
       "    </tr>\n",
       "    <tr>\n",
       "      <th>1</th>\n",
       "      <td>2014</td>\n",
       "      <td>GMC</td>\n",
       "      <td>Savana Cargo</td>\n",
       "      <td>2500</td>\n",
       "      <td>Van</td>\n",
       "      <td>NaN</td>\n",
       "      <td>1gtw7fca7e1902207</td>\n",
       "      <td>pa</td>\n",
       "      <td>4.4</td>\n",
       "      <td>6286.0</td>\n",
       "      <td>white</td>\n",
       "      <td>gray</td>\n",
       "      <td>u-haul</td>\n",
       "      <td>Fri Feb 27 2015 01:00:00 GMT-0800 (PST)</td>\n",
       "    </tr>\n",
       "    <tr>\n",
       "      <th>2</th>\n",
       "      <td>2013</td>\n",
       "      <td>Nissan</td>\n",
       "      <td>Murano</td>\n",
       "      <td>S</td>\n",
       "      <td>SUV</td>\n",
       "      <td>automatic</td>\n",
       "      <td>jn8az1mw6dw303497</td>\n",
       "      <td>oh</td>\n",
       "      <td>4.6</td>\n",
       "      <td>11831.0</td>\n",
       "      <td>gray</td>\n",
       "      <td>black</td>\n",
       "      <td>nissan-infiniti lt</td>\n",
       "      <td>Tue Feb 24 2015 01:30:00 GMT-0800 (PST)</td>\n",
       "    </tr>\n",
       "    <tr>\n",
       "      <th>3</th>\n",
       "      <td>2013</td>\n",
       "      <td>Chevrolet</td>\n",
       "      <td>Impala</td>\n",
       "      <td>LS Fleet</td>\n",
       "      <td>Sedan</td>\n",
       "      <td>automatic</td>\n",
       "      <td>2g1wf5e34d1160703</td>\n",
       "      <td>fl</td>\n",
       "      <td>2.3</td>\n",
       "      <td>57105.0</td>\n",
       "      <td>silver</td>\n",
       "      <td>black</td>\n",
       "      <td>onemain rem/auto club of miami inc dba north dad</td>\n",
       "      <td>Fri Mar 06 2015 02:00:00 GMT-0800 (PST)</td>\n",
       "    </tr>\n",
       "    <tr>\n",
       "      <th>4</th>\n",
       "      <td>2013</td>\n",
       "      <td>Nissan</td>\n",
       "      <td>Titan</td>\n",
       "      <td>SV</td>\n",
       "      <td>Crew Cab</td>\n",
       "      <td>automatic</td>\n",
       "      <td>1n6aa0ec3dn301209</td>\n",
       "      <td>tn</td>\n",
       "      <td>2.9</td>\n",
       "      <td>31083.0</td>\n",
       "      <td>black</td>\n",
       "      <td>black</td>\n",
       "      <td>nissan north america inc.</td>\n",
       "      <td>Wed Jun 03 2015 03:30:00 GMT-0700 (PDT)</td>\n",
       "    </tr>\n",
       "  </tbody>\n",
       "</table>\n",
       "</div>"
      ],
      "text/plain": [
       "   year       make         model      trim      body transmission  \\\n",
       "0  2005   Cadillac           CTS      Base     Sedan    automatic   \n",
       "1  2014        GMC  Savana Cargo      2500       Van          NaN   \n",
       "2  2013     Nissan        Murano         S       SUV    automatic   \n",
       "3  2013  Chevrolet        Impala  LS Fleet     Sedan    automatic   \n",
       "4  2013     Nissan         Titan        SV  Crew Cab    automatic   \n",
       "\n",
       "                 vin state  condition  odometer   color interior  \\\n",
       "0  1g6dp567450124779    ca        2.7  116970.0  silver    black   \n",
       "1  1gtw7fca7e1902207    pa        4.4    6286.0   white     gray   \n",
       "2  jn8az1mw6dw303497    oh        4.6   11831.0    gray    black   \n",
       "3  2g1wf5e34d1160703    fl        2.3   57105.0  silver    black   \n",
       "4  1n6aa0ec3dn301209    tn        2.9   31083.0   black    black   \n",
       "\n",
       "                                             seller  \\\n",
       "0                            lexus of stevens creek   \n",
       "1                                            u-haul   \n",
       "2                                nissan-infiniti lt   \n",
       "3  onemain rem/auto club of miami inc dba north dad   \n",
       "4                         nissan north america inc.   \n",
       "\n",
       "                                  saledate  \n",
       "0  Wed Jan 14 2015 04:30:00 GMT-0800 (PST)  \n",
       "1  Fri Feb 27 2015 01:00:00 GMT-0800 (PST)  \n",
       "2  Tue Feb 24 2015 01:30:00 GMT-0800 (PST)  \n",
       "3  Fri Mar 06 2015 02:00:00 GMT-0800 (PST)  \n",
       "4  Wed Jun 03 2015 03:30:00 GMT-0700 (PDT)  "
      ]
     },
     "execution_count": 45,
     "metadata": {},
     "output_type": "execute_result"
    }
   ],
   "source": [
    "df_test.head()"
   ]
  },
  {
   "cell_type": "code",
   "execution_count": 46,
   "id": "5da595c4-4d3a-4f8d-ad3a-4d8e63b3ecb0",
   "metadata": {},
   "outputs": [],
   "source": [
    "df_test['condition'] = df_test['condition'].astype(str)"
   ]
  },
  {
   "cell_type": "code",
   "execution_count": 47,
   "id": "1bd2623c-4484-459d-a176-75f598219984",
   "metadata": {},
   "outputs": [],
   "source": [
    "df_test['year'] = df_test['year'].astype(str)"
   ]
  },
  {
   "cell_type": "code",
   "execution_count": 48,
   "id": "c8e3a611-16c4-45d8-906c-39bbc353eb60",
   "metadata": {},
   "outputs": [],
   "source": [
    "# Преобразуем дату к правильному формату\n",
    "df_test['saledate'] = pd.to_datetime(df_test['saledate'], utc=True)"
   ]
  },
  {
   "cell_type": "markdown",
   "id": "a2db0727-e1aa-4e7b-bb1e-b13cce8d51bf",
   "metadata": {},
   "source": [
    "## Обработка пропущенных значений"
   ]
  },
  {
   "cell_type": "code",
   "execution_count": 49,
   "id": "6d55cefc-a592-4efe-afe3-c66139b20a67",
   "metadata": {
    "tags": []
   },
   "outputs": [
    {
     "data": {
      "text/plain": [
       "year                0\n",
       "make             2061\n",
       "model            2079\n",
       "trim             2114\n",
       "body             2594\n",
       "transmission    13011\n",
       "vin                 0\n",
       "state               0\n",
       "condition           0\n",
       "odometer           19\n",
       "color             158\n",
       "interior          158\n",
       "seller              0\n",
       "saledate            0\n",
       "dtype: int64"
      ]
     },
     "execution_count": 49,
     "metadata": {},
     "output_type": "execute_result"
    }
   ],
   "source": [
    "df_test.isna().sum()"
   ]
  },
  {
   "cell_type": "markdown",
   "id": "82dfd80f-51fc-4f16-bb68-53509f0078ab",
   "metadata": {},
   "source": [
    "***Стратегия обработки пропусков***\n",
    "\n",
    "Поля ниже можно просто дропнуть т.к. в них очень мало пропущенных значений:\n",
    "* odometer\n",
    "* color\n",
    "* interior\n",
    "\n",
    "Поля ниже можно заменить модой сгруппировав по make, model и year, либо достать по vin при помощи специальных библиотек:\n",
    "* body\n",
    "* model\n",
    "* trim \n",
    "* transmission\n",
    "* condition\n",
    "* make - заполняем данными из vininfo"
   ]
  },
  {
   "cell_type": "markdown",
   "id": "6c214d73-b6a2-4e68-b38b-f87ff453ee66",
   "metadata": {},
   "source": [
    "### Обработка пропусков в признаке make"
   ]
  },
  {
   "cell_type": "code",
   "execution_count": 50,
   "id": "f515a0de-1749-4c35-8389-3d1696d3ef08",
   "metadata": {
    "tags": []
   },
   "outputs": [],
   "source": [
    "# Обработка пропусков\n",
    "df_test['make'].fillna(df_test.apply(get_make_from_vin, axis=1), inplace=True)"
   ]
  },
  {
   "cell_type": "code",
   "execution_count": 51,
   "id": "974b41e4-e1df-4810-bb13-06674e048eb1",
   "metadata": {
    "tags": []
   },
   "outputs": [
    {
     "data": {
      "text/plain": [
       "year                0\n",
       "make                0\n",
       "model            2079\n",
       "trim             2114\n",
       "body             2594\n",
       "transmission    13011\n",
       "vin                 0\n",
       "state               0\n",
       "condition           0\n",
       "odometer           19\n",
       "color             158\n",
       "interior          158\n",
       "seller              0\n",
       "saledate            0\n",
       "dtype: int64"
      ]
     },
     "execution_count": 51,
     "metadata": {},
     "output_type": "execute_result"
    }
   ],
   "source": [
    "# Проверка пропусков после обработки\n",
    "df_test.isna().sum()"
   ]
  },
  {
   "cell_type": "markdown",
   "id": "1d5ec375-3920-497b-b37b-d7c649529437",
   "metadata": {},
   "source": [
    "### Обработка пропусков в остальных столбцах\n",
    "\n",
    "Согласно стратегии в столбцах body, model, trim, transmission, condition пропуски заменяем модой группируя по make, model и year. В столбцах odometer, color, interior пропуски просто удаляем."
   ]
  },
  {
   "cell_type": "markdown",
   "id": "01a6c205-d0df-4b5f-b7d3-083877287aaa",
   "metadata": {},
   "source": [
    " Сразу получилось заполнить не все пропуски в полях body, model, trim, transmission, condition т.к. у оставшихся пропусков все три поля body, model, trim пустые. Можно попробовать заполнить поле model модой по year и make, а потом уже заполнять остальные поля."
   ]
  },
  {
   "cell_type": "code",
   "execution_count": 52,
   "id": "789daf90-ee29-45d3-b1a2-9e7c9a8693cf",
   "metadata": {
    "tags": []
   },
   "outputs": [],
   "source": [
    "with warnings.catch_warnings():\n",
    "    warnings.filterwarnings(\"ignore\")\n",
    "    df_test['model'] = df_test['model'].fillna(df_test.groupby(['make', 'year'])['model']\\\n",
    "                                     .transform(lambda x: x.mode().iloc[0] if not x.empty and not x.mode().empty else None))"
   ]
  },
  {
   "cell_type": "code",
   "execution_count": 53,
   "id": "196935c0-6f86-4d44-83fe-5cfab834a010",
   "metadata": {
    "tags": []
   },
   "outputs": [],
   "source": [
    "# Заполняем пропуски самым часто встречаемым значением признака\n",
    "with warnings.catch_warnings():\n",
    "    warnings.filterwarnings(\"ignore\")\n",
    "    for i in cols_for_moda:\n",
    "        df_test[i] = df_test[i].fillna(df_test.groupby(['make', 'model'])[i]\\\n",
    "                                         .transform(lambda x: x.mode().iloc[0] if not x.empty and not x.mode().empty else None))"
   ]
  },
  {
   "cell_type": "code",
   "execution_count": 54,
   "id": "bb0193e8-9fc1-4b1e-9237-3f98562210be",
   "metadata": {
    "tags": []
   },
   "outputs": [
    {
     "data": {
      "text/plain": [
       "year               0\n",
       "make               0\n",
       "model            472\n",
       "trim             500\n",
       "body            1001\n",
       "transmission     101\n",
       "vin                0\n",
       "state              0\n",
       "condition          0\n",
       "odometer          19\n",
       "color            158\n",
       "interior         158\n",
       "seller             0\n",
       "saledate           0\n",
       "dtype: int64"
      ]
     },
     "execution_count": 54,
     "metadata": {},
     "output_type": "execute_result"
    }
   ],
   "source": [
    "# Проверка пропусков после обработки\n",
    "df_test.isna().sum()"
   ]
  },
  {
   "cell_type": "markdown",
   "id": "79f2adfd-02c8-438d-adc2-0ba89caf3b45",
   "metadata": {},
   "source": [
    "Пропуски обработаны, остальные можно удалять :)"
   ]
  },
  {
   "cell_type": "code",
   "execution_count": 55,
   "id": "eb9efaf9-ec95-4df2-81b0-f665f092de04",
   "metadata": {},
   "outputs": [],
   "source": [
    "df_test.dropna(inplace=True)"
   ]
  },
  {
   "cell_type": "code",
   "execution_count": 56,
   "id": "e25f1161-4a2c-4d8d-9ea8-e046792c2277",
   "metadata": {},
   "outputs": [
    {
     "data": {
      "text/plain": [
       "year            0\n",
       "make            0\n",
       "model           0\n",
       "trim            0\n",
       "body            0\n",
       "transmission    0\n",
       "vin             0\n",
       "state           0\n",
       "condition       0\n",
       "odometer        0\n",
       "color           0\n",
       "interior        0\n",
       "seller          0\n",
       "saledate        0\n",
       "dtype: int64"
      ]
     },
     "execution_count": 56,
     "metadata": {},
     "output_type": "execute_result"
    }
   ],
   "source": [
    "# Проверка пропусков после полной обработки\n",
    "df_test.isna().sum()"
   ]
  },
  {
   "cell_type": "markdown",
   "id": "67e848e1-f48d-4b21-9276-3d2e652e73d6",
   "metadata": {},
   "source": [
    "**Вывод:** пропуски обработаны"
   ]
  },
  {
   "cell_type": "markdown",
   "id": "3b6ad841-94f3-4d17-b82e-879ebf1d0329",
   "metadata": {},
   "source": [
    "## Обработка дубликатов и выбросов\n",
    "\n",
    "В поле body были обнаружены неявные дубликаты, обработаем их приведя всё к нижнему регистру"
   ]
  },
  {
   "cell_type": "code",
   "execution_count": 57,
   "id": "2a7f14b2-89e6-48a2-9866-c5de357ff0dc",
   "metadata": {
    "tags": []
   },
   "outputs": [
    {
     "data": {
      "text/plain": [
       "0"
      ]
     },
     "execution_count": 57,
     "metadata": {},
     "output_type": "execute_result"
    }
   ],
   "source": [
    "# Кол-во явных дубликатов\n",
    "df_test.duplicated().sum()"
   ]
  },
  {
   "cell_type": "code",
   "execution_count": 58,
   "id": "07f282ce-708e-445f-8ec4-9900f6fab707",
   "metadata": {
    "tags": []
   },
   "outputs": [
    {
     "data": {
      "text/plain": [
       "array(['Sedan', 'Van', 'SUV', 'Crew Cab', 'wagon', 'G Sedan', 'Hatchback',\n",
       "       'sedan', 'Convertible', 'crew cab', 'van', 'Minivan', 'Wagon',\n",
       "       'Coupe', 'suv', 'supercrew', 'minivan', 'SuperCrew', 'quad cab',\n",
       "       'g coupe', 'CrewMax Cab', 'Regular Cab', 'G37 Coupe', 'hatchback',\n",
       "       'Quad Cab', 'regular cab', 'coupe', 'E-Series Van', 'Extended Cab',\n",
       "       'supercab', 'e-series van', 'Access Cab', 'G Coupe', 'convertible',\n",
       "       'Double Cab', 'extended cab', 'SuperCab', 'king cab', 'g sedan',\n",
       "       'CTS Coupe', 'genesis coupe', 'Beetle Convertible', 'access cab',\n",
       "       'Promaster Cargo Van', 'crewmax cab', 'G Convertible', 'Mega Cab',\n",
       "       'koup', 'Elantra Coupe', 'Koup', 'Q60 Convertible',\n",
       "       'g convertible', 'Q60 Coupe', 'double cab', 'Club Cab', 'King Cab',\n",
       "       'CTS-V Coupe', 'Xtracab', 'Genesis Coupe', 'tsx sport wagon',\n",
       "       'club cab', 'mega cab', 'cts coupe', 'elantra coupe',\n",
       "       'cts-v coupe', 'granturismo convertible', 'Cab Plus',\n",
       "       'TSX Sport Wagon', 'promaster cargo van',\n",
       "       'GranTurismo Convertible', 'G37 Convertible', 'regular-cab',\n",
       "       'Transit Van', 'CTS Wagon', 'transit van', 'q60 convertible',\n",
       "       'xtracab'], dtype=object)"
      ]
     },
     "execution_count": 58,
     "metadata": {},
     "output_type": "execute_result"
    }
   ],
   "source": [
    "df_test['body'].unique()"
   ]
  },
  {
   "cell_type": "code",
   "execution_count": 59,
   "id": "a6c12ba0-9091-42d4-a13d-6314f15312a0",
   "metadata": {
    "tags": []
   },
   "outputs": [],
   "source": [
    "df_test['body'] = df_test['body'].apply(lowercase_alphabetic)"
   ]
  },
  {
   "cell_type": "code",
   "execution_count": 60,
   "id": "6ea6173d-e3ca-411b-907f-d12818909795",
   "metadata": {},
   "outputs": [
    {
     "data": {
      "text/plain": [
       "array(['sedan', 'van', 'suv', 'crew cab', 'wagon', 'g sedan', 'hatchback',\n",
       "       'convertible', 'minivan', 'coupe', 'supercrew', 'quad cab',\n",
       "       'g coupe', 'crewmax cab', 'regular cab', 'g37 coupe',\n",
       "       'e-series van', 'extended cab', 'supercab', 'access cab',\n",
       "       'double cab', 'king cab', 'cts coupe', 'genesis coupe',\n",
       "       'beetle convertible', 'promaster cargo van', 'g convertible',\n",
       "       'mega cab', 'koup', 'elantra coupe', 'q60 convertible',\n",
       "       'q60 coupe', 'club cab', 'cts-v coupe', 'xtracab',\n",
       "       'tsx sport wagon', 'granturismo convertible', 'cab plus',\n",
       "       'g37 convertible', 'regular-cab', 'transit van', 'cts wagon'],\n",
       "      dtype=object)"
      ]
     },
     "execution_count": 60,
     "metadata": {},
     "output_type": "execute_result"
    }
   ],
   "source": [
    "# Проверка обработанных значений\n",
    "df_test['body'].unique()"
   ]
  },
  {
   "cell_type": "markdown",
   "id": "8974b621-e22c-4ab5-978b-ac0585bc51ff",
   "metadata": {},
   "source": [
    "### Обработка выбросов\n",
    "Обработаем выбросы во всех количественных признаках, для этого напишем функцию, которая удаляет значение если оно больше 3 стандартных отклонений."
   ]
  },
  {
   "cell_type": "code",
   "execution_count": 61,
   "id": "0e3d3ce6-e41e-434d-8ffb-509b5a5843fe",
   "metadata": {},
   "outputs": [],
   "source": [
    "numeric_cols_test = numeric_cols\n",
    "numeric_cols_test.remove('sellingprice')"
   ]
  },
  {
   "cell_type": "code",
   "execution_count": 62,
   "id": "f59b74a5-9915-4cb5-ad40-6eb5c2d508f8",
   "metadata": {
    "tags": []
   },
   "outputs": [
    {
     "name": "stdout",
     "output_type": "stream",
     "text": [
      "\n",
      "odometer\n",
      "Кол-во аномальных значений: 1027\n",
      "Пример аномальных значений\n",
      "132    233397.0\n",
      "191    247279.0\n",
      "250    232936.0\n",
      "351    275301.0\n",
      "439    248138.0\n",
      "Name: odometer, dtype: float64\n",
      "Кол-во нулевых значений: 0\n"
     ]
    }
   ],
   "source": [
    "for col in numeric_cols_test:\n",
    "    anomaly_cols(df_test, col)"
   ]
  },
  {
   "cell_type": "code",
   "execution_count": 63,
   "id": "0542992a-e6f1-4fe6-b8a6-5c048c4b9ec2",
   "metadata": {
    "tags": []
   },
   "outputs": [],
   "source": [
    "df_test_n_anom = update_anol_cols(df_test, numeric_cols_test)"
   ]
  },
  {
   "cell_type": "code",
   "execution_count": 64,
   "id": "3ab45f3f-be73-4e3c-b72b-2d1135f28b43",
   "metadata": {
    "tags": []
   },
   "outputs": [
    {
     "data": {
      "text/plain": [
       "year            107844\n",
       "make            107844\n",
       "model           107844\n",
       "trim            107844\n",
       "body            107844\n",
       "transmission    107844\n",
       "vin             107844\n",
       "state           107844\n",
       "condition       107844\n",
       "odometer        107844\n",
       "color           107844\n",
       "interior        107844\n",
       "seller          107844\n",
       "saledate        107844\n",
       "dtype: int64"
      ]
     },
     "execution_count": 64,
     "metadata": {},
     "output_type": "execute_result"
    }
   ],
   "source": [
    "# Кол-во итоговых строк\n",
    "df_test_n_anom.count()"
   ]
  },
  {
   "cell_type": "markdown",
   "id": "568fa6c8-d285-41e1-8812-50776acc761e",
   "metadata": {},
   "source": [
    "## Создание искуственных признаков и удаление неинформативных"
   ]
  },
  {
   "cell_type": "markdown",
   "id": "2b8f9cba-ebbe-445a-9831-ca833055e897",
   "metadata": {},
   "source": [
    "Признак seller можно удалить т.к. он неинформативен, а признак vin можно сделать индексом строки. Из признака saledate сделаем искуственные признаки salemonth, saleyear, saledow."
   ]
  },
  {
   "cell_type": "code",
   "execution_count": 65,
   "id": "6f804c35-00f1-4994-bdf4-1b3a98f25d7f",
   "metadata": {},
   "outputs": [],
   "source": [
    "df_test_n_anom_r = df_test_n_anom.copy()"
   ]
  },
  {
   "cell_type": "code",
   "execution_count": 66,
   "id": "192d705a-3d53-4942-a8ed-b93e6f2c1f51",
   "metadata": {
    "tags": []
   },
   "outputs": [],
   "source": [
    "# Признак seller можно удалить т.к. он неинформативен\n",
    "df_test_n_anom_r = df_test_n_anom_r.drop(columns=['seller'])"
   ]
  },
  {
   "cell_type": "code",
   "execution_count": 67,
   "id": "525aad04-ff69-42cc-964b-349f840b9f53",
   "metadata": {
    "tags": []
   },
   "outputs": [],
   "source": [
    "df_test_n_anom_r.set_index('vin', inplace=True, drop=True)"
   ]
  },
  {
   "cell_type": "code",
   "execution_count": 68,
   "id": "b761c7f5-4d00-4dbd-b60e-caeefb16d040",
   "metadata": {
    "tags": []
   },
   "outputs": [],
   "source": [
    "df_test_n_anom_r['salemonth'] = df_test_n_anom_r['saledate'].dt.month\n",
    "df_test_n_anom_r['saleyear'] = df_test_n_anom_r['saledate'].dt.year\n",
    "df_test_n_anom_r['saledow'] = df_test_n_anom_r['saledate'].dt.day_name()"
   ]
  },
  {
   "cell_type": "code",
   "execution_count": 69,
   "id": "0fd81e96-48bd-4106-a0e3-5bc5c046b67a",
   "metadata": {
    "tags": []
   },
   "outputs": [],
   "source": [
    "df_test_n_anom_r = df_test_n_anom_r.drop(columns=['saledate'])"
   ]
  },
  {
   "cell_type": "markdown",
   "id": "8ae574b5-01fb-4aef-ab33-eaaa8d14ee55",
   "metadata": {},
   "source": [
    "**Вывод:** тестовый датасет предобработан и готов для построения модели"
   ]
  },
  {
   "cell_type": "markdown",
   "id": "2dd8ffa6-00f7-45d7-a4ab-7a072c5dd904",
   "metadata": {},
   "source": [
    "# Обучение модели\n",
    "## Разделение признаков обучающей и тестовой выборок\n",
    "\n",
    "Создадим валидационную выборку из тестовой и на ней будем оценивать модель т.к. в тестовой выборке целевого признака нет"
   ]
  },
  {
   "cell_type": "code",
   "execution_count": 70,
   "id": "9370a169-8980-4907-8e92-ae522d034030",
   "metadata": {},
   "outputs": [],
   "source": [
    "X_train, X_valid, y_train, y_valid = train_test_split(df_train_n_anom_r.drop(columns='sellingprice'), df_train_n_anom_r['sellingprice'], test_size=0.2\\\n",
    "                                                                , random_state=12345)"
   ]
  },
  {
   "cell_type": "code",
   "execution_count": 71,
   "id": "48af5227-c434-49bf-bf7a-09a2dea960ed",
   "metadata": {},
   "outputs": [],
   "source": [
    "X_test = df_test_n_anom_r.copy()"
   ]
  },
  {
   "cell_type": "code",
   "execution_count": 72,
   "id": "ab8dfb73-7a55-44c7-bace-196ceeaee55b",
   "metadata": {},
   "outputs": [
    {
     "data": {
      "text/plain": [
       "(340690, 14)"
      ]
     },
     "execution_count": 72,
     "metadata": {},
     "output_type": "execute_result"
    }
   ],
   "source": [
    "X_train.shape"
   ]
  },
  {
   "cell_type": "code",
   "execution_count": 73,
   "id": "079f3f05-0fc3-4ce1-bdf4-9820f838f2b4",
   "metadata": {},
   "outputs": [
    {
     "data": {
      "text/html": [
       "<div>\n",
       "<style scoped>\n",
       "    .dataframe tbody tr th:only-of-type {\n",
       "        vertical-align: middle;\n",
       "    }\n",
       "\n",
       "    .dataframe tbody tr th {\n",
       "        vertical-align: top;\n",
       "    }\n",
       "\n",
       "    .dataframe thead th {\n",
       "        text-align: right;\n",
       "    }\n",
       "</style>\n",
       "<table border=\"1\" class=\"dataframe\">\n",
       "  <thead>\n",
       "    <tr style=\"text-align: right;\">\n",
       "      <th></th>\n",
       "      <th>year</th>\n",
       "      <th>make</th>\n",
       "      <th>model</th>\n",
       "      <th>trim</th>\n",
       "      <th>body</th>\n",
       "      <th>transmission</th>\n",
       "      <th>state</th>\n",
       "      <th>condition</th>\n",
       "      <th>odometer</th>\n",
       "      <th>color</th>\n",
       "      <th>interior</th>\n",
       "      <th>salemonth</th>\n",
       "      <th>saleyear</th>\n",
       "      <th>saledow</th>\n",
       "    </tr>\n",
       "    <tr>\n",
       "      <th>vin</th>\n",
       "      <th></th>\n",
       "      <th></th>\n",
       "      <th></th>\n",
       "      <th></th>\n",
       "      <th></th>\n",
       "      <th></th>\n",
       "      <th></th>\n",
       "      <th></th>\n",
       "      <th></th>\n",
       "      <th></th>\n",
       "      <th></th>\n",
       "      <th></th>\n",
       "      <th></th>\n",
       "      <th></th>\n",
       "    </tr>\n",
       "  </thead>\n",
       "  <tbody>\n",
       "    <tr>\n",
       "      <th>ja4ar4au3cz002578</th>\n",
       "      <td>2012</td>\n",
       "      <td>Mitsubishi</td>\n",
       "      <td>Outlander Sport</td>\n",
       "      <td>SE</td>\n",
       "      <td>suv</td>\n",
       "      <td>automatic</td>\n",
       "      <td>pa</td>\n",
       "      <td>4.7</td>\n",
       "      <td>39565.0</td>\n",
       "      <td>black</td>\n",
       "      <td>black</td>\n",
       "      <td>3</td>\n",
       "      <td>2015</td>\n",
       "      <td>Thursday</td>\n",
       "    </tr>\n",
       "    <tr>\n",
       "      <th>jn1by1ar0cm394393</th>\n",
       "      <td>2012</td>\n",
       "      <td>Infiniti</td>\n",
       "      <td>M</td>\n",
       "      <td>M37x</td>\n",
       "      <td>sedan</td>\n",
       "      <td>automatic</td>\n",
       "      <td>pa</td>\n",
       "      <td>3.7</td>\n",
       "      <td>25252.0</td>\n",
       "      <td>black</td>\n",
       "      <td>beige</td>\n",
       "      <td>6</td>\n",
       "      <td>2015</td>\n",
       "      <td>Wednesday</td>\n",
       "    </tr>\n",
       "    <tr>\n",
       "      <th>4t1bf1fk8cu108798</th>\n",
       "      <td>2012</td>\n",
       "      <td>Toyota</td>\n",
       "      <td>Camry</td>\n",
       "      <td>SE</td>\n",
       "      <td>sedan</td>\n",
       "      <td>automatic</td>\n",
       "      <td>ga</td>\n",
       "      <td>3.9</td>\n",
       "      <td>36135.0</td>\n",
       "      <td>green</td>\n",
       "      <td>black</td>\n",
       "      <td>2</td>\n",
       "      <td>2015</td>\n",
       "      <td>Wednesday</td>\n",
       "    </tr>\n",
       "    <tr>\n",
       "      <th>3n1ab6ap2cl675887</th>\n",
       "      <td>2012</td>\n",
       "      <td>Nissan</td>\n",
       "      <td>Sentra</td>\n",
       "      <td>2.0 SR</td>\n",
       "      <td>sedan</td>\n",
       "      <td>automatic</td>\n",
       "      <td>fl</td>\n",
       "      <td>3.4</td>\n",
       "      <td>44705.0</td>\n",
       "      <td>red</td>\n",
       "      <td>gray</td>\n",
       "      <td>5</td>\n",
       "      <td>2015</td>\n",
       "      <td>Monday</td>\n",
       "    </tr>\n",
       "    <tr>\n",
       "      <th>jn8az2nd4c9715255</th>\n",
       "      <td>2012</td>\n",
       "      <td>Infiniti</td>\n",
       "      <td>QX</td>\n",
       "      <td>QX56</td>\n",
       "      <td>suv</td>\n",
       "      <td>automatic</td>\n",
       "      <td>tn</td>\n",
       "      <td>3.2</td>\n",
       "      <td>94546.0</td>\n",
       "      <td>black</td>\n",
       "      <td>tan</td>\n",
       "      <td>12</td>\n",
       "      <td>2014</td>\n",
       "      <td>Wednesday</td>\n",
       "    </tr>\n",
       "  </tbody>\n",
       "</table>\n",
       "</div>"
      ],
      "text/plain": [
       "                   year        make            model    trim   body  \\\n",
       "vin                                                                   \n",
       "ja4ar4au3cz002578  2012  Mitsubishi  Outlander Sport      SE    suv   \n",
       "jn1by1ar0cm394393  2012    Infiniti                M    M37x  sedan   \n",
       "4t1bf1fk8cu108798  2012      Toyota            Camry      SE  sedan   \n",
       "3n1ab6ap2cl675887  2012      Nissan           Sentra  2.0 SR  sedan   \n",
       "jn8az2nd4c9715255  2012    Infiniti               QX    QX56    suv   \n",
       "\n",
       "                  transmission state condition  odometer  color interior  \\\n",
       "vin                                                                        \n",
       "ja4ar4au3cz002578    automatic    pa       4.7   39565.0  black    black   \n",
       "jn1by1ar0cm394393    automatic    pa       3.7   25252.0  black    beige   \n",
       "4t1bf1fk8cu108798    automatic    ga       3.9   36135.0  green    black   \n",
       "3n1ab6ap2cl675887    automatic    fl       3.4   44705.0    red     gray   \n",
       "jn8az2nd4c9715255    automatic    tn       3.2   94546.0  black      tan   \n",
       "\n",
       "                   salemonth  saleyear    saledow  \n",
       "vin                                                \n",
       "ja4ar4au3cz002578          3      2015   Thursday  \n",
       "jn1by1ar0cm394393          6      2015  Wednesday  \n",
       "4t1bf1fk8cu108798          2      2015  Wednesday  \n",
       "3n1ab6ap2cl675887          5      2015     Monday  \n",
       "jn8az2nd4c9715255         12      2014  Wednesday  "
      ]
     },
     "execution_count": 73,
     "metadata": {},
     "output_type": "execute_result"
    }
   ],
   "source": [
    "X_train.head()"
   ]
  },
  {
   "cell_type": "code",
   "execution_count": 74,
   "id": "d42cb10c-5997-46a9-9adc-b5da1e75d01e",
   "metadata": {},
   "outputs": [
    {
     "data": {
      "text/plain": [
       "(85173, 14)"
      ]
     },
     "execution_count": 74,
     "metadata": {},
     "output_type": "execute_result"
    }
   ],
   "source": [
    "X_valid.shape"
   ]
  },
  {
   "cell_type": "code",
   "execution_count": 75,
   "id": "d971d7c2-f667-46eb-8782-03c9781a51d5",
   "metadata": {
    "tags": []
   },
   "outputs": [
    {
     "data": {
      "text/plain": [
       "(85173,)"
      ]
     },
     "execution_count": 75,
     "metadata": {},
     "output_type": "execute_result"
    }
   ],
   "source": [
    "y_valid.shape"
   ]
  },
  {
   "cell_type": "code",
   "execution_count": 76,
   "id": "1efb4049-f56c-42c8-9883-62491f60341f",
   "metadata": {},
   "outputs": [
    {
     "data": {
      "text/plain": [
       "(340690,)"
      ]
     },
     "execution_count": 76,
     "metadata": {},
     "output_type": "execute_result"
    }
   ],
   "source": [
    "y_train.shape"
   ]
  },
  {
   "cell_type": "markdown",
   "id": "6370f9fa-6b61-4278-a5a6-24ccb1eac271",
   "metadata": {},
   "source": [
    "Создадим пулы для обучения и валидации"
   ]
  },
  {
   "cell_type": "code",
   "execution_count": 77,
   "id": "b335b7bd-fb7c-41c4-a113-0466094956d9",
   "metadata": {},
   "outputs": [],
   "source": [
    "cols_categ = ['year', 'make', 'model', 'trim', 'body', 'transmission', 'state'\\\n",
    "              , 'condition', 'color', 'interior', 'salemonth', 'saleyear', 'saledow']"
   ]
  },
  {
   "cell_type": "code",
   "execution_count": 78,
   "id": "32899d04-db07-449e-938b-6844b44e7cce",
   "metadata": {
    "tags": []
   },
   "outputs": [],
   "source": [
    "train_data = catboost.Pool(X_train, y_train, cat_features=cols_categ)\n",
    "valid_data = catboost.Pool(X_valid, y_valid, cat_features=cols_categ)"
   ]
  },
  {
   "cell_type": "code",
   "execution_count": 79,
   "id": "44d3c47c-6088-42e1-8619-5c92212d2947",
   "metadata": {
    "tags": []
   },
   "outputs": [],
   "source": [
    "test_data = catboost.Pool(X_test, cat_features=cols_categ)"
   ]
  },
  {
   "cell_type": "markdown",
   "id": "dfea1aa0-0b1e-484c-883b-2554c2a7fd91",
   "metadata": {
    "tags": []
   },
   "source": [
    "## Создание первой модели без подбора гиперпараметров и определение важности признаков\n",
    "В качестве модели сразу выберем CatBoostRegessor т.к. она сама умеет масштабировать количественные признаки и кодировать категориальные. Проверим без подбора гиперпараметров точность модели на валидационной выборке и важность признаков."
   ]
  },
  {
   "cell_type": "code",
   "execution_count": 80,
   "id": "85f08073-eae9-476a-a2b4-57fa473a40a0",
   "metadata": {},
   "outputs": [],
   "source": [
    "cat = CatBoostRegressor(iterations=100, depth=6, learning_rate=0.1, eval_metric='MAPE')"
   ]
  },
  {
   "cell_type": "code",
   "execution_count": 90,
   "id": "b8f74bc4-28e3-4a6c-a2a5-8667e26f57a9",
   "metadata": {
    "collapsed": true,
    "jupyter": {
     "outputs_hidden": true
    },
    "tags": []
   },
   "outputs": [
    {
     "name": "stdout",
     "output_type": "stream",
     "text": [
      "0:\tlearn: 1.5413334\ttest: 1.5010242\tbest: 1.5010242 (0)\ttotal: 181ms\tremaining: 18s\n",
      "1:\tlearn: 1.4358879\ttest: 1.3955589\tbest: 1.3955589 (1)\ttotal: 330ms\tremaining: 16.2s\n",
      "2:\tlearn: 1.3322044\ttest: 1.2936488\tbest: 1.2936488 (2)\ttotal: 449ms\tremaining: 14.5s\n",
      "3:\tlearn: 1.2466367\ttest: 1.2086878\tbest: 1.2086878 (3)\ttotal: 553ms\tremaining: 13.3s\n",
      "4:\tlearn: 1.1627165\ttest: 1.1261487\tbest: 1.1261487 (4)\ttotal: 685ms\tremaining: 13s\n",
      "5:\tlearn: 1.0822529\ttest: 1.0492581\tbest: 1.0492581 (5)\ttotal: 798ms\tremaining: 12.5s\n",
      "6:\tlearn: 1.0140862\ttest: 0.9827905\tbest: 0.9827905 (6)\ttotal: 912ms\tremaining: 12.1s\n",
      "7:\tlearn: 0.9514279\ttest: 0.9213319\tbest: 0.9213319 (7)\ttotal: 1.05s\tremaining: 12.1s\n",
      "8:\tlearn: 0.8983044\ttest: 0.8689004\tbest: 0.8689004 (8)\ttotal: 1.16s\tremaining: 11.7s\n",
      "9:\tlearn: 0.8472075\ttest: 0.8194858\tbest: 0.8194858 (9)\ttotal: 1.25s\tremaining: 11.3s\n",
      "10:\tlearn: 0.8010762\ttest: 0.7752269\tbest: 0.7752269 (10)\ttotal: 1.35s\tremaining: 10.9s\n",
      "11:\tlearn: 0.7583523\ttest: 0.7339374\tbest: 0.7339374 (11)\ttotal: 1.45s\tremaining: 10.6s\n",
      "12:\tlearn: 0.7206663\ttest: 0.6964091\tbest: 0.6964091 (12)\ttotal: 1.56s\tremaining: 10.4s\n",
      "13:\tlearn: 0.6794361\ttest: 0.6559432\tbest: 0.6559432 (13)\ttotal: 1.66s\tremaining: 10.2s\n",
      "14:\tlearn: 0.6506759\ttest: 0.6264151\tbest: 0.6264151 (14)\ttotal: 1.8s\tremaining: 10.2s\n",
      "15:\tlearn: 0.6214758\ttest: 0.5953783\tbest: 0.5953783 (15)\ttotal: 1.92s\tremaining: 10.1s\n",
      "16:\tlearn: 0.5961039\ttest: 0.5691851\tbest: 0.5691851 (16)\ttotal: 2.02s\tremaining: 9.85s\n",
      "17:\tlearn: 0.5695896\ttest: 0.5431066\tbest: 0.5431066 (17)\ttotal: 2.12s\tremaining: 9.63s\n",
      "18:\tlearn: 0.5452136\ttest: 0.5195345\tbest: 0.5195345 (18)\ttotal: 2.21s\tremaining: 9.41s\n",
      "19:\tlearn: 0.5293923\ttest: 0.5038175\tbest: 0.5038175 (19)\ttotal: 2.31s\tremaining: 9.25s\n",
      "20:\tlearn: 0.5077988\ttest: 0.4824740\tbest: 0.4824740 (20)\ttotal: 2.4s\tremaining: 9.05s\n",
      "21:\tlearn: 0.4920972\ttest: 0.4670431\tbest: 0.4670431 (21)\ttotal: 2.5s\tremaining: 8.85s\n",
      "22:\tlearn: 0.4773314\ttest: 0.4516704\tbest: 0.4516704 (22)\ttotal: 2.6s\tremaining: 8.69s\n",
      "23:\tlearn: 0.4663712\ttest: 0.4409076\tbest: 0.4409076 (23)\ttotal: 2.69s\tremaining: 8.51s\n",
      "24:\tlearn: 0.4520905\ttest: 0.4269171\tbest: 0.4269171 (24)\ttotal: 2.78s\tremaining: 8.35s\n",
      "25:\tlearn: 0.4408846\ttest: 0.4153575\tbest: 0.4153575 (25)\ttotal: 2.88s\tremaining: 8.21s\n",
      "26:\tlearn: 0.4281965\ttest: 0.4029345\tbest: 0.4029345 (26)\ttotal: 2.98s\tremaining: 8.05s\n",
      "27:\tlearn: 0.4180906\ttest: 0.3932301\tbest: 0.3932301 (27)\ttotal: 3.07s\tremaining: 7.89s\n",
      "28:\tlearn: 0.4076216\ttest: 0.3831917\tbest: 0.3831917 (28)\ttotal: 3.17s\tremaining: 7.77s\n",
      "29:\tlearn: 0.3999338\ttest: 0.3755199\tbest: 0.3755199 (29)\ttotal: 3.28s\tremaining: 7.64s\n",
      "30:\tlearn: 0.3956510\ttest: 0.3713640\tbest: 0.3713640 (30)\ttotal: 3.38s\tremaining: 7.51s\n",
      "31:\tlearn: 0.3906403\ttest: 0.3657392\tbest: 0.3657392 (31)\ttotal: 3.48s\tremaining: 7.4s\n",
      "32:\tlearn: 0.3832299\ttest: 0.3585054\tbest: 0.3585054 (32)\ttotal: 3.6s\tremaining: 7.32s\n",
      "33:\tlearn: 0.3750754\ttest: 0.3506731\tbest: 0.3506731 (33)\ttotal: 3.7s\tremaining: 7.18s\n",
      "34:\tlearn: 0.3693351\ttest: 0.3451321\tbest: 0.3451321 (34)\ttotal: 3.79s\tremaining: 7.05s\n",
      "35:\tlearn: 0.3673482\ttest: 0.3429172\tbest: 0.3429172 (35)\ttotal: 3.89s\tremaining: 6.91s\n",
      "36:\tlearn: 0.3599395\ttest: 0.3363652\tbest: 0.3363652 (36)\ttotal: 3.99s\tremaining: 6.79s\n",
      "37:\tlearn: 0.3536443\ttest: 0.3300505\tbest: 0.3300505 (37)\ttotal: 4.08s\tremaining: 6.66s\n",
      "38:\tlearn: 0.3492160\ttest: 0.3255846\tbest: 0.3255846 (38)\ttotal: 4.17s\tremaining: 6.53s\n",
      "39:\tlearn: 0.3460155\ttest: 0.3223612\tbest: 0.3223612 (39)\ttotal: 4.29s\tremaining: 6.43s\n",
      "40:\tlearn: 0.3419346\ttest: 0.3178507\tbest: 0.3178507 (40)\ttotal: 4.38s\tremaining: 6.3s\n",
      "41:\tlearn: 0.3389690\ttest: 0.3141942\tbest: 0.3141942 (41)\ttotal: 4.48s\tremaining: 6.18s\n",
      "42:\tlearn: 0.3375750\ttest: 0.3126318\tbest: 0.3126318 (42)\ttotal: 4.58s\tremaining: 6.07s\n",
      "43:\tlearn: 0.3335356\ttest: 0.3083302\tbest: 0.3083302 (43)\ttotal: 4.67s\tremaining: 5.95s\n",
      "44:\tlearn: 0.3289102\ttest: 0.3038753\tbest: 0.3038753 (44)\ttotal: 4.77s\tremaining: 5.83s\n",
      "45:\tlearn: 0.3253695\ttest: 0.3011840\tbest: 0.3011840 (45)\ttotal: 4.87s\tremaining: 5.71s\n",
      "46:\tlearn: 0.3206792\ttest: 0.2963287\tbest: 0.2963287 (46)\ttotal: 4.96s\tremaining: 5.59s\n",
      "47:\tlearn: 0.3180874\ttest: 0.2937454\tbest: 0.2937454 (47)\ttotal: 5.05s\tremaining: 5.47s\n",
      "48:\tlearn: 0.3153879\ttest: 0.2907171\tbest: 0.2907171 (48)\ttotal: 5.15s\tremaining: 5.36s\n",
      "49:\tlearn: 0.3137977\ttest: 0.2885399\tbest: 0.2885399 (49)\ttotal: 5.24s\tremaining: 5.24s\n",
      "50:\tlearn: 0.3117527\ttest: 0.2864132\tbest: 0.2864132 (50)\ttotal: 5.34s\tremaining: 5.13s\n",
      "51:\tlearn: 0.3091221\ttest: 0.2846488\tbest: 0.2846488 (51)\ttotal: 5.44s\tremaining: 5.02s\n",
      "52:\tlearn: 0.3066406\ttest: 0.2829430\tbest: 0.2829430 (52)\ttotal: 5.54s\tremaining: 4.91s\n",
      "53:\tlearn: 0.3055963\ttest: 0.2819361\tbest: 0.2819361 (53)\ttotal: 5.63s\tremaining: 4.79s\n",
      "54:\tlearn: 0.3021572\ttest: 0.2785615\tbest: 0.2785615 (54)\ttotal: 5.73s\tremaining: 4.69s\n",
      "55:\tlearn: 0.3009865\ttest: 0.2767849\tbest: 0.2767849 (55)\ttotal: 5.82s\tremaining: 4.57s\n",
      "56:\tlearn: 0.2995401\ttest: 0.2755227\tbest: 0.2755227 (56)\ttotal: 5.92s\tremaining: 4.47s\n",
      "57:\tlearn: 0.2993641\ttest: 0.2753224\tbest: 0.2753224 (57)\ttotal: 6.03s\tremaining: 4.37s\n",
      "58:\tlearn: 0.2976216\ttest: 0.2734092\tbest: 0.2734092 (58)\ttotal: 6.13s\tremaining: 4.26s\n",
      "59:\tlearn: 0.2963401\ttest: 0.2723167\tbest: 0.2723167 (59)\ttotal: 6.23s\tremaining: 4.15s\n",
      "60:\tlearn: 0.2958954\ttest: 0.2718462\tbest: 0.2718462 (60)\ttotal: 6.34s\tremaining: 4.05s\n",
      "61:\tlearn: 0.2935380\ttest: 0.2696596\tbest: 0.2696596 (61)\ttotal: 6.43s\tremaining: 3.94s\n",
      "62:\tlearn: 0.2920674\ttest: 0.2678461\tbest: 0.2678461 (62)\ttotal: 6.53s\tremaining: 3.83s\n",
      "63:\tlearn: 0.2917485\ttest: 0.2674738\tbest: 0.2674738 (63)\ttotal: 6.63s\tremaining: 3.73s\n",
      "64:\tlearn: 0.2907084\ttest: 0.2663695\tbest: 0.2663695 (64)\ttotal: 6.72s\tremaining: 3.62s\n",
      "65:\tlearn: 0.2896488\ttest: 0.2651768\tbest: 0.2651768 (65)\ttotal: 6.82s\tremaining: 3.51s\n",
      "66:\tlearn: 0.2891618\ttest: 0.2648827\tbest: 0.2648827 (66)\ttotal: 6.91s\tremaining: 3.4s\n",
      "67:\tlearn: 0.2883098\ttest: 0.2640165\tbest: 0.2640165 (67)\ttotal: 7.01s\tremaining: 3.3s\n",
      "68:\tlearn: 0.2866191\ttest: 0.2627010\tbest: 0.2627010 (68)\ttotal: 7.1s\tremaining: 3.19s\n",
      "69:\tlearn: 0.2867011\ttest: 0.2627839\tbest: 0.2627010 (68)\ttotal: 7.21s\tremaining: 3.09s\n",
      "70:\tlearn: 0.2863119\ttest: 0.2624038\tbest: 0.2624038 (70)\ttotal: 7.3s\tremaining: 2.98s\n",
      "71:\tlearn: 0.2859102\ttest: 0.2621747\tbest: 0.2621747 (71)\ttotal: 7.4s\tremaining: 2.88s\n",
      "72:\tlearn: 0.2856672\ttest: 0.2619352\tbest: 0.2619352 (72)\ttotal: 7.54s\tremaining: 2.79s\n",
      "73:\tlearn: 0.2840020\ttest: 0.2603449\tbest: 0.2603449 (73)\ttotal: 7.63s\tremaining: 2.68s\n",
      "74:\tlearn: 0.2824980\ttest: 0.2590450\tbest: 0.2590450 (74)\ttotal: 7.73s\tremaining: 2.58s\n",
      "75:\tlearn: 0.2820914\ttest: 0.2585756\tbest: 0.2585756 (75)\ttotal: 7.83s\tremaining: 2.47s\n",
      "76:\tlearn: 0.2817397\ttest: 0.2581647\tbest: 0.2581647 (76)\ttotal: 7.92s\tremaining: 2.37s\n",
      "77:\tlearn: 0.2814213\ttest: 0.2579521\tbest: 0.2579521 (77)\ttotal: 8.01s\tremaining: 2.26s\n",
      "78:\tlearn: 0.2797368\ttest: 0.2563267\tbest: 0.2563267 (78)\ttotal: 8.11s\tremaining: 2.16s\n",
      "79:\tlearn: 0.2797125\ttest: 0.2558909\tbest: 0.2558909 (79)\ttotal: 8.21s\tremaining: 2.05s\n",
      "80:\tlearn: 0.2792552\ttest: 0.2554064\tbest: 0.2554064 (80)\ttotal: 8.3s\tremaining: 1.95s\n",
      "81:\tlearn: 0.2784497\ttest: 0.2547624\tbest: 0.2547624 (81)\ttotal: 8.48s\tremaining: 1.86s\n",
      "82:\tlearn: 0.2774392\ttest: 0.2538968\tbest: 0.2538968 (82)\ttotal: 8.58s\tremaining: 1.76s\n",
      "83:\tlearn: 0.2761954\ttest: 0.2524901\tbest: 0.2524901 (83)\ttotal: 8.67s\tremaining: 1.65s\n",
      "84:\tlearn: 0.2759361\ttest: 0.2520921\tbest: 0.2520921 (84)\ttotal: 8.78s\tremaining: 1.55s\n",
      "85:\tlearn: 0.2753760\ttest: 0.2517093\tbest: 0.2517093 (85)\ttotal: 8.88s\tremaining: 1.45s\n",
      "86:\tlearn: 0.2738699\ttest: 0.2502203\tbest: 0.2502203 (86)\ttotal: 8.98s\tremaining: 1.34s\n",
      "87:\tlearn: 0.2730148\ttest: 0.2493677\tbest: 0.2493677 (87)\ttotal: 9.08s\tremaining: 1.24s\n",
      "88:\tlearn: 0.2725569\ttest: 0.2488936\tbest: 0.2488936 (88)\ttotal: 9.17s\tremaining: 1.13s\n",
      "89:\tlearn: 0.2719108\ttest: 0.2485166\tbest: 0.2485166 (89)\ttotal: 9.27s\tremaining: 1.03s\n",
      "90:\tlearn: 0.2715412\ttest: 0.2483023\tbest: 0.2483023 (90)\ttotal: 9.37s\tremaining: 927ms\n",
      "91:\tlearn: 0.2712750\ttest: 0.2479185\tbest: 0.2479185 (91)\ttotal: 9.47s\tremaining: 823ms\n",
      "92:\tlearn: 0.2699602\ttest: 0.2473132\tbest: 0.2473132 (92)\ttotal: 9.57s\tremaining: 720ms\n",
      "93:\tlearn: 0.2690349\ttest: 0.2464635\tbest: 0.2464635 (93)\ttotal: 9.67s\tremaining: 617ms\n",
      "94:\tlearn: 0.2675851\ttest: 0.2457636\tbest: 0.2457636 (94)\ttotal: 9.77s\tremaining: 514ms\n",
      "95:\tlearn: 0.2676280\ttest: 0.2457602\tbest: 0.2457602 (95)\ttotal: 9.87s\tremaining: 411ms\n",
      "96:\tlearn: 0.2673590\ttest: 0.2454833\tbest: 0.2454833 (96)\ttotal: 9.97s\tremaining: 308ms\n",
      "97:\tlearn: 0.2672003\ttest: 0.2453192\tbest: 0.2453192 (97)\ttotal: 10.1s\tremaining: 205ms\n",
      "98:\tlearn: 0.2671231\ttest: 0.2451502\tbest: 0.2451502 (98)\ttotal: 10.2s\tremaining: 103ms\n",
      "99:\tlearn: 0.2667010\ttest: 0.2446089\tbest: 0.2446089 (99)\ttotal: 10.3s\tremaining: 0us\n",
      "\n",
      "bestTest = 0.2446088653\n",
      "bestIteration = 99\n",
      "\n"
     ]
    },
    {
     "data": {
      "text/plain": [
       "<catboost.core.CatBoostRegressor at 0x262de7b28f0>"
      ]
     },
     "execution_count": 90,
     "metadata": {},
     "output_type": "execute_result"
    }
   ],
   "source": [
    "cat.fit(train_data, use_best_model=True, eval_set=valid_data)"
   ]
  },
  {
   "cell_type": "code",
   "execution_count": 91,
   "id": "bb0df3a1-dd4d-4d98-9a28-dbcc56a99a11",
   "metadata": {
    "tags": []
   },
   "outputs": [
    {
     "name": "stdout",
     "output_type": "stream",
     "text": [
      "Min MAPE of CatBoost Model: 0.24460886528256104\n"
     ]
    }
   ],
   "source": [
    "print('Min MAPE of CatBoost Model:', min(cat.get_evals_result()['validation']['MAPE']))"
   ]
  },
  {
   "cell_type": "markdown",
   "id": "c1c6467b-5a9c-44ed-99f9-6e0b6a8f15c6",
   "metadata": {},
   "source": [
    "### Проверка важности признаков"
   ]
  },
  {
   "cell_type": "code",
   "execution_count": 92,
   "id": "d055d360-4e3f-479c-922b-4dd12c7161ce",
   "metadata": {
    "tags": []
   },
   "outputs": [],
   "source": [
    "# Получение важности признаков\n",
    "feature_importances = cat.get_feature_importance()"
   ]
  },
  {
   "cell_type": "code",
   "execution_count": 93,
   "id": "a254f4b2-5e81-4602-83b2-c7af0366d931",
   "metadata": {},
   "outputs": [],
   "source": [
    "# Сортируем важность признаков\n",
    "sorted_idx = feature_importances.argsort()\n",
    "sorted_feature_importances = feature_importances[sorted_idx]\n",
    "sorted_feature_names = X_train.columns[sorted_idx]"
   ]
  },
  {
   "cell_type": "code",
   "execution_count": 94,
   "id": "b047f7b1-7b54-4811-b1de-98daba9ea758",
   "metadata": {},
   "outputs": [
    {
     "data": {
      "image/png": "[encoded data removed]",
      "text/plain": [
       "<Figure size 2000x900 with 1 Axes>"
      ]
     },
     "metadata": {},
     "output_type": "display_data"
    }
   ],
   "source": [
    "# Строим график важности признаков\n",
    "plt.barh(range(len(sorted_feature_importances)), sorted_feature_importances, align='center')\n",
    "plt.yticks(range(len(sorted_feature_importances)), sorted_feature_names)\n",
    "plt.xlabel('Важность признака')\n",
    "plt.ylabel('Признак')\n",
    "plt.title('Feature Importance в CatBoost')\n",
    "plt.show()"
   ]
  },
  {
   "cell_type": "markdown",
   "id": "72554f25-15f7-42c7-8538-d6ad78360f23",
   "metadata": {},
   "source": [
    "**Вывод:** важными признаками являются только **make, body, year, model, odometer, trim, condition, interior, state, color** соответственно остальные можно удалять и обучать модель с подбором гиперпараметров."
   ]
  },
  {
   "cell_type": "markdown",
   "id": "b022ff8f-6092-4cb2-8075-146bb3520a72",
   "metadata": {},
   "source": [
    "## Обучение модели с подбором гиперпараметров"
   ]
  },
  {
   "cell_type": "code",
   "execution_count": 108,
   "id": "9e15cd78-5282-4629-804a-f30ee88df76f",
   "metadata": {
    "tags": []
   },
   "outputs": [],
   "source": [
    "# Определяем важные признаки\n",
    "important_features = ['make', 'body', 'year', 'model', 'odometer', 'trim', 'condition', 'interior', 'state', 'color']"
   ]
  },
  {
   "cell_type": "code",
   "execution_count": 114,
   "id": "4434576b-5d3f-4423-90bb-daf280971ab2",
   "metadata": {
    "tags": []
   },
   "outputs": [],
   "source": [
    "cols_categ_important = ['year', 'make', 'model', 'trim', 'body', 'state'\\\n",
    "              , 'condition', 'color', 'interior']"
   ]
  },
  {
   "cell_type": "code",
   "execution_count": 115,
   "id": "c5fecd2c-4420-4635-b030-86b21a329761",
   "metadata": {
    "tags": []
   },
   "outputs": [],
   "source": [
    "train_data_important = catboost.Pool(df_train_n_anom_r[important_features],\\\n",
    "                                     df_train_n_anom_r['sellingprice'], cat_features=cols_categ_important)"
   ]
  },
  {
   "cell_type": "code",
   "execution_count": 116,
   "id": "ab6b6d71-5864-4066-9448-d7b79a332ce6",
   "metadata": {
    "tags": []
   },
   "outputs": [],
   "source": [
    "cat_imp = CatBoostRegressor(eval_metric='MAPE')"
   ]
  },
  {
   "cell_type": "code",
   "execution_count": 117,
   "id": "f596bdb2-8fe6-4695-8473-e8f702002176",
   "metadata": {
    "tags": []
   },
   "outputs": [],
   "source": [
    "grid = {'learning_rate': [0.05, 0.1],\n",
    "        'depth': [4, 6, 8],\n",
    "        'l2_leaf_reg': [1, 3, 5, 7, 9],\n",
    "        }"
   ]
  },
  {
   "cell_type": "code",
   "execution_count": null,
   "id": "4697f3bd-d4b8-417a-bd57-2a7833ee8d21",
   "metadata": {
    "tags": []
   },
   "outputs": [
    {
     "data": {
      "application/vnd.jupyter.widget-view+json": {
       "model_id": "d5ae642608b14dfe92b2885e9fc8b6d6",
       "version_major": 2,
       "version_minor": 0
      },
      "text/plain": [
       "MetricVisualizer(layout=Layout(align_self='stretch', height='500px'))"
      ]
     },
     "metadata": {},
     "output_type": "display_data"
    },
    {
     "name": "stdout",
     "output_type": "stream",
     "text": [
      "0:\tlearn: 0.9294184\ttest: 0.9256353\tbest: 0.9256353 (0)\ttotal: 257ms\tremaining: 4m 16s\n",
      "1:\tlearn: 0.8755085\ttest: 0.8671717\tbest: 0.8671717 (1)\ttotal: 468ms\tremaining: 3m 53s\n",
      "2:\tlearn: 0.8287191\ttest: 0.8192943\tbest: 0.8192943 (2)\ttotal: 603ms\tremaining: 3m 20s\n",
      "3:\tlearn: 0.7892782\ttest: 0.7783968\tbest: 0.7783968 (3)\ttotal: 715ms\tremaining: 2m 58s\n",
      "4:\tlearn: 0.7559538\ttest: 0.7433155\tbest: 0.7433155 (4)\ttotal: 848ms\tremaining: 2m 48s\n",
      "5:\tlearn: 0.7218238\ttest: 0.7085706\tbest: 0.7085706 (5)\ttotal: 933ms\tremaining: 2m 34s\n",
      "6:\tlearn: 0.6909416\ttest: 0.6768926\tbest: 0.6768926 (6)\ttotal: 1.01s\tremaining: 2m 23s\n",
      "7:\tlearn: 0.6659875\ttest: 0.6511968\tbest: 0.6511968 (7)\ttotal: 1.1s\tremaining: 2m 16s\n",
      "8:\tlearn: 0.6440914\ttest: 0.6286742\tbest: 0.6286742 (8)\ttotal: 1.29s\tremaining: 2m 22s\n",
      "9:\tlearn: 0.6218653\ttest: 0.6060424\tbest: 0.6060424 (9)\ttotal: 1.38s\tremaining: 2m 16s\n",
      "10:\tlearn: 0.6059948\ttest: 0.5894481\tbest: 0.5894481 (10)\ttotal: 1.46s\tremaining: 2m 11s\n",
      "11:\tlearn: 0.5868119\ttest: 0.5697968\tbest: 0.5697968 (11)\ttotal: 1.6s\tremaining: 2m 12s\n",
      "12:\tlearn: 0.5722883\ttest: 0.5548410\tbest: 0.5548410 (12)\ttotal: 1.73s\tremaining: 2m 11s\n",
      "13:\tlearn: 0.5591654\ttest: 0.5401899\tbest: 0.5401899 (13)\ttotal: 1.96s\tremaining: 2m 18s\n",
      "14:\tlearn: 0.5437286\ttest: 0.5242330\tbest: 0.5242330 (14)\ttotal: 2.08s\tremaining: 2m 16s\n",
      "15:\tlearn: 0.5322262\ttest: 0.5113816\tbest: 0.5113816 (15)\ttotal: 2.3s\tremaining: 2m 21s\n",
      "16:\tlearn: 0.5176304\ttest: 0.4967056\tbest: 0.4967056 (16)\ttotal: 2.46s\tremaining: 2m 22s\n",
      "17:\tlearn: 0.5088144\ttest: 0.4870414\tbest: 0.4870414 (17)\ttotal: 2.68s\tremaining: 2m 26s\n",
      "18:\tlearn: 0.4980666\ttest: 0.4760890\tbest: 0.4760890 (18)\ttotal: 2.82s\tremaining: 2m 25s\n",
      "19:\tlearn: 0.4910742\ttest: 0.4687907\tbest: 0.4687907 (19)\ttotal: 3.02s\tremaining: 2m 28s\n",
      "20:\tlearn: 0.4803883\ttest: 0.4582084\tbest: 0.4582084 (20)\ttotal: 3.19s\tremaining: 2m 28s\n",
      "21:\tlearn: 0.4736081\ttest: 0.4500785\tbest: 0.4500785 (21)\ttotal: 3.41s\tremaining: 2m 31s\n",
      "22:\tlearn: 0.4660172\ttest: 0.4422273\tbest: 0.4422273 (22)\ttotal: 3.53s\tremaining: 2m 30s\n",
      "23:\tlearn: 0.4616576\ttest: 0.4365006\tbest: 0.4365006 (23)\ttotal: 3.73s\tremaining: 2m 31s\n",
      "24:\tlearn: 0.4533956\ttest: 0.4275708\tbest: 0.4275708 (24)\ttotal: 3.9s\tremaining: 2m 31s\n",
      "25:\tlearn: 0.4479523\ttest: 0.4213609\tbest: 0.4213609 (25)\ttotal: 4.04s\tremaining: 2m 31s\n",
      "26:\tlearn: 0.4406247\ttest: 0.4140003\tbest: 0.4140003 (26)\ttotal: 4.25s\tremaining: 2m 33s\n",
      "27:\tlearn: 0.4371142\ttest: 0.4098411\tbest: 0.4098411 (27)\ttotal: 4.42s\tremaining: 2m 33s\n",
      "28:\tlearn: 0.4359017\ttest: 0.4073861\tbest: 0.4073861 (28)\ttotal: 4.62s\tremaining: 2m 34s\n",
      "29:\tlearn: 0.4301912\ttest: 0.4017313\tbest: 0.4017313 (29)\ttotal: 4.8s\tremaining: 2m 35s\n",
      "30:\tlearn: 0.4278427\ttest: 0.3992321\tbest: 0.3992321 (30)\ttotal: 4.94s\tremaining: 2m 34s\n",
      "31:\tlearn: 0.4243632\ttest: 0.3957402\tbest: 0.3957402 (31)\ttotal: 5.07s\tremaining: 2m 33s\n",
      "32:\tlearn: 0.4213436\ttest: 0.3923630\tbest: 0.3923630 (32)\ttotal: 5.25s\tremaining: 2m 33s\n",
      "33:\tlearn: 0.4198509\ttest: 0.3903555\tbest: 0.3903555 (33)\ttotal: 5.41s\tremaining: 2m 33s\n",
      "34:\tlearn: 0.4167707\ttest: 0.3865004\tbest: 0.3865004 (34)\ttotal: 5.62s\tremaining: 2m 34s\n",
      "35:\tlearn: 0.4144287\ttest: 0.3837459\tbest: 0.3837459 (35)\ttotal: 5.81s\tremaining: 2m 35s\n",
      "36:\tlearn: 0.4144018\ttest: 0.3835986\tbest: 0.3835986 (36)\ttotal: 5.93s\tremaining: 2m 34s\n",
      "37:\tlearn: 0.4148854\ttest: 0.3829828\tbest: 0.3829828 (37)\ttotal: 6.09s\tremaining: 2m 34s\n",
      "38:\tlearn: 0.4106403\ttest: 0.3788651\tbest: 0.3788651 (38)\ttotal: 6.26s\tremaining: 2m 34s\n",
      "39:\tlearn: 0.4096829\ttest: 0.3779591\tbest: 0.3779591 (39)\ttotal: 6.4s\tremaining: 2m 33s\n",
      "40:\tlearn: 0.4068907\ttest: 0.3750828\tbest: 0.3750828 (40)\ttotal: 6.51s\tremaining: 2m 32s\n",
      "41:\tlearn: 0.4051479\ttest: 0.3732701\tbest: 0.3732701 (41)\ttotal: 6.59s\tremaining: 2m 30s\n",
      "42:\tlearn: 0.4041037\ttest: 0.3722843\tbest: 0.3722843 (42)\ttotal: 6.76s\tremaining: 2m 30s\n",
      "43:\tlearn: 0.4036695\ttest: 0.3712251\tbest: 0.3712251 (43)\ttotal: 6.88s\tremaining: 2m 29s\n",
      "44:\tlearn: 0.4019309\ttest: 0.3690770\tbest: 0.3690770 (44)\ttotal: 7.08s\tremaining: 2m 30s\n",
      "45:\tlearn: 0.4011948\ttest: 0.3681902\tbest: 0.3681902 (45)\ttotal: 7.25s\tremaining: 2m 30s\n",
      "46:\tlearn: 0.3987508\ttest: 0.3653608\tbest: 0.3653608 (46)\ttotal: 7.42s\tremaining: 2m 30s\n",
      "47:\tlearn: 0.3958651\ttest: 0.3625735\tbest: 0.3625735 (47)\ttotal: 7.59s\tremaining: 2m 30s\n",
      "48:\tlearn: 0.3938630\ttest: 0.3605946\tbest: 0.3605946 (48)\ttotal: 7.73s\tremaining: 2m 30s\n",
      "49:\tlearn: 0.3941235\ttest: 0.3599701\tbest: 0.3599701 (49)\ttotal: 7.85s\tremaining: 2m 29s\n",
      "50:\tlearn: 0.3945442\ttest: 0.3597673\tbest: 0.3597673 (50)\ttotal: 8.11s\tremaining: 2m 30s\n",
      "51:\tlearn: 0.3914588\ttest: 0.3567052\tbest: 0.3567052 (51)\ttotal: 8.32s\tremaining: 2m 31s\n",
      "52:\tlearn: 0.3888999\ttest: 0.3542841\tbest: 0.3542841 (52)\ttotal: 8.41s\tremaining: 2m 30s\n",
      "53:\tlearn: 0.3876423\ttest: 0.3523961\tbest: 0.3523961 (53)\ttotal: 8.62s\tremaining: 2m 30s\n",
      "54:\tlearn: 0.3861909\ttest: 0.3504834\tbest: 0.3504834 (54)\ttotal: 8.74s\tremaining: 2m 30s\n",
      "55:\tlearn: 0.3847894\ttest: 0.3486120\tbest: 0.3486120 (55)\ttotal: 8.99s\tremaining: 2m 31s\n",
      "56:\tlearn: 0.3833829\ttest: 0.3472045\tbest: 0.3472045 (56)\ttotal: 9.15s\tremaining: 2m 31s\n",
      "57:\tlearn: 0.3842003\ttest: 0.3471459\tbest: 0.3471459 (57)\ttotal: 9.24s\tremaining: 2m 30s\n",
      "58:\tlearn: 0.3820980\ttest: 0.3448824\tbest: 0.3448824 (58)\ttotal: 9.4s\tremaining: 2m 29s\n",
      "59:\tlearn: 0.3806252\ttest: 0.3430205\tbest: 0.3430205 (59)\ttotal: 9.59s\tremaining: 2m 30s\n",
      "60:\tlearn: 0.3799416\ttest: 0.3421646\tbest: 0.3421646 (60)\ttotal: 9.75s\tremaining: 2m 30s\n",
      "61:\tlearn: 0.3763629\ttest: 0.3383183\tbest: 0.3383183 (61)\ttotal: 9.87s\tremaining: 2m 29s\n",
      "62:\tlearn: 0.3730261\ttest: 0.3349546\tbest: 0.3349546 (62)\ttotal: 9.97s\tremaining: 2m 28s\n",
      "63:\tlearn: 0.3719283\ttest: 0.3336653\tbest: 0.3336653 (63)\ttotal: 10.2s\tremaining: 2m 29s\n",
      "64:\tlearn: 0.3690289\ttest: 0.3304132\tbest: 0.3304132 (64)\ttotal: 10.4s\tremaining: 2m 29s\n",
      "65:\tlearn: 0.3678950\ttest: 0.3291750\tbest: 0.3291750 (65)\ttotal: 10.6s\tremaining: 2m 29s\n",
      "66:\tlearn: 0.3671736\ttest: 0.3281697\tbest: 0.3281697 (66)\ttotal: 10.7s\tremaining: 2m 28s\n",
      "67:\tlearn: 0.3642544\ttest: 0.3252882\tbest: 0.3252882 (67)\ttotal: 10.8s\tremaining: 2m 27s\n",
      "68:\tlearn: 0.3611915\ttest: 0.3224153\tbest: 0.3224153 (68)\ttotal: 10.9s\tremaining: 2m 27s\n",
      "69:\tlearn: 0.3590222\ttest: 0.3202092\tbest: 0.3202092 (69)\ttotal: 11.1s\tremaining: 2m 28s\n",
      "70:\tlearn: 0.3580558\ttest: 0.3191542\tbest: 0.3191542 (70)\ttotal: 11.3s\tremaining: 2m 28s\n",
      "71:\tlearn: 0.3553686\ttest: 0.3166073\tbest: 0.3166073 (71)\ttotal: 11.5s\tremaining: 2m 27s\n",
      "72:\tlearn: 0.3543630\ttest: 0.3154739\tbest: 0.3154739 (72)\ttotal: 11.7s\tremaining: 2m 28s\n",
      "73:\tlearn: 0.3522642\ttest: 0.3132604\tbest: 0.3132604 (73)\ttotal: 11.9s\tremaining: 2m 28s\n",
      "74:\tlearn: 0.3515224\ttest: 0.3123132\tbest: 0.3123132 (74)\ttotal: 12.1s\tremaining: 2m 28s\n",
      "75:\tlearn: 0.3494313\ttest: 0.3101656\tbest: 0.3101656 (75)\ttotal: 12.3s\tremaining: 2m 29s\n",
      "76:\tlearn: 0.3500532\ttest: 0.3107713\tbest: 0.3101656 (75)\ttotal: 12.4s\tremaining: 2m 28s\n",
      "77:\tlearn: 0.3492837\ttest: 0.3096946\tbest: 0.3096946 (77)\ttotal: 12.5s\tremaining: 2m 28s\n",
      "78:\tlearn: 0.3467325\ttest: 0.3071768\tbest: 0.3071768 (78)\ttotal: 12.6s\tremaining: 2m 27s\n",
      "79:\tlearn: 0.3438762\ttest: 0.3043389\tbest: 0.3043389 (79)\ttotal: 12.7s\tremaining: 2m 26s\n",
      "80:\tlearn: 0.3428522\ttest: 0.3031528\tbest: 0.3031528 (80)\ttotal: 12.9s\tremaining: 2m 26s\n",
      "81:\tlearn: 0.3419416\ttest: 0.3029543\tbest: 0.3029543 (81)\ttotal: 13.1s\tremaining: 2m 26s\n",
      "82:\tlearn: 0.3402260\ttest: 0.3012546\tbest: 0.3012546 (82)\ttotal: 13.3s\tremaining: 2m 26s\n",
      "83:\tlearn: 0.3380120\ttest: 0.2989998\tbest: 0.2989998 (83)\ttotal: 13.4s\tremaining: 2m 25s\n",
      "84:\tlearn: 0.3379731\ttest: 0.2989112\tbest: 0.2989112 (84)\ttotal: 13.5s\tremaining: 2m 25s\n",
      "85:\tlearn: 0.3361133\ttest: 0.2974348\tbest: 0.2974348 (85)\ttotal: 13.7s\tremaining: 2m 25s\n",
      "86:\tlearn: 0.3338963\ttest: 0.2955738\tbest: 0.2955738 (86)\ttotal: 13.9s\tremaining: 2m 26s\n",
      "87:\tlearn: 0.3332757\ttest: 0.2949005\tbest: 0.2949005 (87)\ttotal: 14.1s\tremaining: 2m 25s\n",
      "88:\tlearn: 0.3329274\ttest: 0.2944580\tbest: 0.2944580 (88)\ttotal: 14.3s\tremaining: 2m 26s\n",
      "89:\tlearn: 0.3332480\ttest: 0.2947417\tbest: 0.2944580 (88)\ttotal: 14.5s\tremaining: 2m 26s\n",
      "90:\tlearn: 0.3330023\ttest: 0.2939883\tbest: 0.2939883 (90)\ttotal: 14.7s\tremaining: 2m 26s\n",
      "91:\tlearn: 0.3301299\ttest: 0.2916046\tbest: 0.2916046 (91)\ttotal: 14.8s\tremaining: 2m 26s\n",
      "92:\tlearn: 0.3292817\ttest: 0.2906999\tbest: 0.2906999 (92)\ttotal: 15s\tremaining: 2m 26s\n",
      "93:\tlearn: 0.3277912\ttest: 0.2893677\tbest: 0.2893677 (93)\ttotal: 15.2s\tremaining: 2m 26s\n",
      "94:\tlearn: 0.3270412\ttest: 0.2887378\tbest: 0.2887378 (94)\ttotal: 15.3s\tremaining: 2m 25s\n",
      "95:\tlearn: 0.3261058\ttest: 0.2879850\tbest: 0.2879850 (95)\ttotal: 15.5s\tremaining: 2m 26s\n",
      "96:\tlearn: 0.3263228\ttest: 0.2881672\tbest: 0.2879850 (95)\ttotal: 15.7s\tremaining: 2m 25s\n",
      "97:\tlearn: 0.3259547\ttest: 0.2877534\tbest: 0.2877534 (97)\ttotal: 15.8s\tremaining: 2m 25s\n",
      "98:\tlearn: 0.3254745\ttest: 0.2868509\tbest: 0.2868509 (98)\ttotal: 15.9s\tremaining: 2m 24s\n",
      "99:\tlearn: 0.3253126\ttest: 0.2865936\tbest: 0.2865936 (99)\ttotal: 16.1s\tremaining: 2m 24s\n",
      "100:\tlearn: 0.3245582\ttest: 0.2858326\tbest: 0.2858326 (100)\ttotal: 16.3s\tremaining: 2m 25s\n",
      "101:\tlearn: 0.3236941\ttest: 0.2847541\tbest: 0.2847541 (101)\ttotal: 16.4s\tremaining: 2m 24s\n",
      "102:\tlearn: 0.3233940\ttest: 0.2843950\tbest: 0.2843950 (102)\ttotal: 16.6s\tremaining: 2m 24s\n",
      "103:\tlearn: 0.3219240\ttest: 0.2829730\tbest: 0.2829730 (103)\ttotal: 16.8s\tremaining: 2m 25s\n",
      "104:\tlearn: 0.3203857\ttest: 0.2816315\tbest: 0.2816315 (104)\ttotal: 17.1s\tremaining: 2m 25s\n",
      "105:\tlearn: 0.3201613\ttest: 0.2813587\tbest: 0.2813587 (105)\ttotal: 17.2s\tremaining: 2m 24s\n",
      "106:\tlearn: 0.3185397\ttest: 0.2798479\tbest: 0.2798479 (106)\ttotal: 17.4s\tremaining: 2m 24s\n",
      "107:\tlearn: 0.3181070\ttest: 0.2794103\tbest: 0.2794103 (107)\ttotal: 17.5s\tremaining: 2m 24s\n",
      "108:\tlearn: 0.3173396\ttest: 0.2787037\tbest: 0.2787037 (108)\ttotal: 17.7s\tremaining: 2m 24s\n",
      "109:\tlearn: 0.3171311\ttest: 0.2784587\tbest: 0.2784587 (109)\ttotal: 17.8s\tremaining: 2m 23s\n",
      "110:\tlearn: 0.3167787\ttest: 0.2779839\tbest: 0.2779839 (110)\ttotal: 17.9s\tremaining: 2m 23s\n",
      "111:\tlearn: 0.3155997\ttest: 0.2775880\tbest: 0.2775880 (111)\ttotal: 18s\tremaining: 2m 22s\n",
      "112:\tlearn: 0.3153790\ttest: 0.2775468\tbest: 0.2775468 (112)\ttotal: 18.1s\tremaining: 2m 22s\n",
      "113:\tlearn: 0.3150788\ttest: 0.2771393\tbest: 0.2771393 (113)\ttotal: 18.4s\tremaining: 2m 22s\n",
      "114:\tlearn: 0.3145473\ttest: 0.2767790\tbest: 0.2767790 (114)\ttotal: 18.6s\tremaining: 2m 22s\n",
      "115:\tlearn: 0.3142862\ttest: 0.2766340\tbest: 0.2766340 (115)\ttotal: 18.8s\tremaining: 2m 22s\n",
      "116:\tlearn: 0.3135498\ttest: 0.2760122\tbest: 0.2760122 (116)\ttotal: 18.9s\tremaining: 2m 22s\n",
      "117:\tlearn: 0.3129361\ttest: 0.2752664\tbest: 0.2752664 (117)\ttotal: 19.1s\tremaining: 2m 22s\n",
      "118:\tlearn: 0.3127803\ttest: 0.2750683\tbest: 0.2750683 (118)\ttotal: 19.2s\tremaining: 2m 22s\n",
      "119:\tlearn: 0.3122857\ttest: 0.2744027\tbest: 0.2744027 (119)\ttotal: 19.4s\tremaining: 2m 22s\n",
      "120:\tlearn: 0.3109462\ttest: 0.2732521\tbest: 0.2732521 (120)\ttotal: 19.6s\tremaining: 2m 22s\n",
      "121:\tlearn: 0.3103113\ttest: 0.2727745\tbest: 0.2727745 (121)\ttotal: 19.9s\tremaining: 2m 23s\n",
      "122:\tlearn: 0.3091265\ttest: 0.2717676\tbest: 0.2717676 (122)\ttotal: 20.1s\tremaining: 2m 23s\n",
      "123:\tlearn: 0.3087564\ttest: 0.2713621\tbest: 0.2713621 (123)\ttotal: 20.3s\tremaining: 2m 23s\n",
      "124:\tlearn: 0.3089980\ttest: 0.2714832\tbest: 0.2713621 (123)\ttotal: 20.4s\tremaining: 2m 23s\n",
      "125:\tlearn: 0.3088127\ttest: 0.2713042\tbest: 0.2713042 (125)\ttotal: 20.6s\tremaining: 2m 23s\n",
      "126:\tlearn: 0.3081359\ttest: 0.2708902\tbest: 0.2708902 (126)\ttotal: 20.9s\tremaining: 2m 23s\n",
      "127:\tlearn: 0.3068456\ttest: 0.2696745\tbest: 0.2696745 (127)\ttotal: 21.1s\tremaining: 2m 23s\n",
      "128:\tlearn: 0.3065109\ttest: 0.2693178\tbest: 0.2693178 (128)\ttotal: 21.2s\tremaining: 2m 22s\n",
      "129:\tlearn: 0.3061511\ttest: 0.2688517\tbest: 0.2688517 (129)\ttotal: 21.3s\tremaining: 2m 22s\n",
      "130:\tlearn: 0.3042710\ttest: 0.2674800\tbest: 0.2674800 (130)\ttotal: 21.5s\tremaining: 2m 22s\n",
      "131:\tlearn: 0.3039379\ttest: 0.2670762\tbest: 0.2670762 (131)\ttotal: 21.6s\tremaining: 2m 22s\n",
      "132:\tlearn: 0.3034446\ttest: 0.2664243\tbest: 0.2664243 (132)\ttotal: 21.8s\tremaining: 2m 22s\n",
      "133:\tlearn: 0.3030758\ttest: 0.2660751\tbest: 0.2660751 (133)\ttotal: 22s\tremaining: 2m 22s\n",
      "134:\tlearn: 0.3028960\ttest: 0.2660223\tbest: 0.2660223 (134)\ttotal: 22.2s\tremaining: 2m 22s\n",
      "135:\tlearn: 0.3025286\ttest: 0.2656723\tbest: 0.2656723 (135)\ttotal: 22.4s\tremaining: 2m 22s\n",
      "136:\tlearn: 0.3015221\ttest: 0.2649172\tbest: 0.2649172 (136)\ttotal: 22.7s\tremaining: 2m 22s\n",
      "137:\tlearn: 0.3011513\ttest: 0.2645677\tbest: 0.2645677 (137)\ttotal: 22.9s\tremaining: 2m 23s\n",
      "138:\tlearn: 0.3010956\ttest: 0.2645403\tbest: 0.2645403 (138)\ttotal: 23.1s\tremaining: 2m 23s\n",
      "139:\tlearn: 0.3008334\ttest: 0.2642850\tbest: 0.2642850 (139)\ttotal: 23.4s\tremaining: 2m 23s\n",
      "140:\tlearn: 0.3006688\ttest: 0.2641759\tbest: 0.2641759 (140)\ttotal: 23.7s\tremaining: 2m 24s\n",
      "141:\tlearn: 0.3002766\ttest: 0.2638216\tbest: 0.2638216 (141)\ttotal: 23.9s\tremaining: 2m 24s\n",
      "142:\tlearn: 0.2988286\ttest: 0.2625176\tbest: 0.2625176 (142)\ttotal: 24.1s\tremaining: 2m 24s\n",
      "143:\tlearn: 0.2983299\ttest: 0.2623858\tbest: 0.2623858 (143)\ttotal: 24.3s\tremaining: 2m 24s\n",
      "144:\tlearn: 0.2981949\ttest: 0.2622524\tbest: 0.2622524 (144)\ttotal: 24.6s\tremaining: 2m 24s\n",
      "145:\tlearn: 0.2981579\ttest: 0.2622431\tbest: 0.2622431 (145)\ttotal: 24.8s\tremaining: 2m 25s\n",
      "146:\tlearn: 0.2977351\ttest: 0.2617973\tbest: 0.2617973 (146)\ttotal: 25s\tremaining: 2m 24s\n",
      "147:\tlearn: 0.2968564\ttest: 0.2610842\tbest: 0.2610842 (147)\ttotal: 25.2s\tremaining: 2m 24s\n",
      "148:\tlearn: 0.2966500\ttest: 0.2609310\tbest: 0.2609310 (148)\ttotal: 25.4s\tremaining: 2m 25s\n",
      "149:\tlearn: 0.2967233\ttest: 0.2609821\tbest: 0.2609310 (148)\ttotal: 25.5s\tremaining: 2m 24s\n",
      "150:\tlearn: 0.2965920\ttest: 0.2608142\tbest: 0.2608142 (150)\ttotal: 25.8s\tremaining: 2m 25s\n",
      "151:\tlearn: 0.2963298\ttest: 0.2603966\tbest: 0.2603966 (151)\ttotal: 25.9s\tremaining: 2m 24s\n",
      "152:\tlearn: 0.2962776\ttest: 0.2604015\tbest: 0.2603966 (151)\ttotal: 26.1s\tremaining: 2m 24s\n",
      "153:\tlearn: 0.2953977\ttest: 0.2595552\tbest: 0.2595552 (153)\ttotal: 26.3s\tremaining: 2m 24s\n",
      "154:\tlearn: 0.2952451\ttest: 0.2593899\tbest: 0.2593899 (154)\ttotal: 26.7s\tremaining: 2m 25s\n",
      "155:\tlearn: 0.2949134\ttest: 0.2589566\tbest: 0.2589566 (155)\ttotal: 26.8s\tremaining: 2m 25s\n",
      "156:\tlearn: 0.2945628\ttest: 0.2585637\tbest: 0.2585637 (156)\ttotal: 27s\tremaining: 2m 25s\n",
      "157:\tlearn: 0.2942048\ttest: 0.2582127\tbest: 0.2582127 (157)\ttotal: 27.3s\tremaining: 2m 25s\n",
      "158:\tlearn: 0.2940024\ttest: 0.2579817\tbest: 0.2579817 (158)\ttotal: 27.6s\tremaining: 2m 26s\n",
      "159:\tlearn: 0.2936339\ttest: 0.2576494\tbest: 0.2576494 (159)\ttotal: 28s\tremaining: 2m 26s\n",
      "160:\tlearn: 0.2927273\ttest: 0.2570455\tbest: 0.2570455 (160)\ttotal: 28.3s\tremaining: 2m 27s\n",
      "161:\tlearn: 0.2927280\ttest: 0.2570621\tbest: 0.2570455 (160)\ttotal: 28.6s\tremaining: 2m 28s\n",
      "162:\tlearn: 0.2925920\ttest: 0.2569608\tbest: 0.2569608 (162)\ttotal: 28.8s\tremaining: 2m 27s\n",
      "163:\tlearn: 0.2920745\ttest: 0.2565384\tbest: 0.2565384 (163)\ttotal: 29s\tremaining: 2m 27s\n",
      "164:\tlearn: 0.2917714\ttest: 0.2562362\tbest: 0.2562362 (164)\ttotal: 29.1s\tremaining: 2m 27s\n",
      "165:\tlearn: 0.2913726\ttest: 0.2558478\tbest: 0.2558478 (165)\ttotal: 29.4s\tremaining: 2m 27s\n",
      "166:\tlearn: 0.2912750\ttest: 0.2557345\tbest: 0.2557345 (166)\ttotal: 29.7s\tremaining: 2m 28s\n",
      "167:\tlearn: 0.2911563\ttest: 0.2554834\tbest: 0.2554834 (167)\ttotal: 29.8s\tremaining: 2m 27s\n",
      "168:\tlearn: 0.2909899\ttest: 0.2552825\tbest: 0.2552825 (168)\ttotal: 30.1s\tremaining: 2m 27s\n",
      "169:\tlearn: 0.2907866\ttest: 0.2550590\tbest: 0.2550590 (169)\ttotal: 30.4s\tremaining: 2m 28s\n",
      "170:\tlearn: 0.2900188\ttest: 0.2543837\tbest: 0.2543837 (170)\ttotal: 30.7s\tremaining: 2m 28s\n",
      "171:\tlearn: 0.2898154\ttest: 0.2541336\tbest: 0.2541336 (171)\ttotal: 31s\tremaining: 2m 29s\n",
      "172:\tlearn: 0.2896027\ttest: 0.2539018\tbest: 0.2539018 (172)\ttotal: 31.3s\tremaining: 2m 29s\n",
      "173:\tlearn: 0.2893034\ttest: 0.2536010\tbest: 0.2536010 (173)\ttotal: 31.5s\tremaining: 2m 29s\n",
      "174:\tlearn: 0.2890891\ttest: 0.2534082\tbest: 0.2534082 (174)\ttotal: 31.7s\tremaining: 2m 29s\n",
      "175:\tlearn: 0.2887543\ttest: 0.2530759\tbest: 0.2530759 (175)\ttotal: 31.9s\tremaining: 2m 29s\n",
      "176:\tlearn: 0.2885007\ttest: 0.2529179\tbest: 0.2529179 (176)\ttotal: 32s\tremaining: 2m 28s\n",
      "177:\tlearn: 0.2879404\ttest: 0.2523250\tbest: 0.2523250 (177)\ttotal: 32.2s\tremaining: 2m 28s\n",
      "178:\tlearn: 0.2875751\ttest: 0.2518928\tbest: 0.2518928 (178)\ttotal: 32.3s\tremaining: 2m 28s\n",
      "179:\tlearn: 0.2871738\ttest: 0.2515177\tbest: 0.2515177 (179)\ttotal: 32.5s\tremaining: 2m 27s\n",
      "180:\tlearn: 0.2859881\ttest: 0.2510418\tbest: 0.2510418 (180)\ttotal: 32.6s\tremaining: 2m 27s\n",
      "181:\tlearn: 0.2857832\ttest: 0.2509493\tbest: 0.2509493 (181)\ttotal: 32.8s\tremaining: 2m 27s\n",
      "182:\tlearn: 0.2851929\ttest: 0.2503703\tbest: 0.2503703 (182)\ttotal: 33s\tremaining: 2m 27s\n",
      "183:\tlearn: 0.2849937\ttest: 0.2501414\tbest: 0.2501414 (183)\ttotal: 33.2s\tremaining: 2m 27s\n",
      "184:\tlearn: 0.2836684\ttest: 0.2496050\tbest: 0.2496050 (184)\ttotal: 33.4s\tremaining: 2m 27s\n",
      "185:\tlearn: 0.2830526\ttest: 0.2491819\tbest: 0.2491819 (185)\ttotal: 33.6s\tremaining: 2m 27s\n",
      "186:\tlearn: 0.2827036\ttest: 0.2488926\tbest: 0.2488926 (186)\ttotal: 33.8s\tremaining: 2m 26s\n",
      "187:\tlearn: 0.2821567\ttest: 0.2484335\tbest: 0.2484335 (187)\ttotal: 34s\tremaining: 2m 26s\n",
      "188:\tlearn: 0.2822720\ttest: 0.2486376\tbest: 0.2484335 (187)\ttotal: 34.2s\tremaining: 2m 26s\n",
      "189:\tlearn: 0.2821739\ttest: 0.2484771\tbest: 0.2484335 (187)\ttotal: 34.5s\tremaining: 2m 26s\n",
      "190:\tlearn: 0.2820246\ttest: 0.2482982\tbest: 0.2482982 (190)\ttotal: 34.8s\tremaining: 2m 27s\n",
      "191:\tlearn: 0.2819049\ttest: 0.2482095\tbest: 0.2482095 (191)\ttotal: 35s\tremaining: 2m 27s\n",
      "192:\tlearn: 0.2818514\ttest: 0.2481742\tbest: 0.2481742 (192)\ttotal: 35.3s\tremaining: 2m 27s\n",
      "193:\tlearn: 0.2806550\ttest: 0.2474487\tbest: 0.2474487 (193)\ttotal: 35.6s\tremaining: 2m 27s\n",
      "194:\tlearn: 0.2801754\ttest: 0.2470936\tbest: 0.2470936 (194)\ttotal: 35.7s\tremaining: 2m 27s\n",
      "195:\tlearn: 0.2800529\ttest: 0.2470115\tbest: 0.2470115 (195)\ttotal: 36s\tremaining: 2m 27s\n",
      "196:\tlearn: 0.2796612\ttest: 0.2465499\tbest: 0.2465499 (196)\ttotal: 36.2s\tremaining: 2m 27s\n",
      "197:\tlearn: 0.2793185\ttest: 0.2461606\tbest: 0.2461606 (197)\ttotal: 36.3s\tremaining: 2m 27s\n",
      "198:\tlearn: 0.2791018\ttest: 0.2459250\tbest: 0.2459250 (198)\ttotal: 36.5s\tremaining: 2m 26s\n",
      "199:\tlearn: 0.2790396\ttest: 0.2458347\tbest: 0.2458347 (199)\ttotal: 36.7s\tremaining: 2m 26s\n",
      "200:\tlearn: 0.2787661\ttest: 0.2457458\tbest: 0.2457458 (200)\ttotal: 37s\tremaining: 2m 26s\n",
      "201:\tlearn: 0.2785042\ttest: 0.2454924\tbest: 0.2454924 (201)\ttotal: 37.1s\tremaining: 2m 26s\n",
      "202:\tlearn: 0.2782331\ttest: 0.2452413\tbest: 0.2452413 (202)\ttotal: 37.4s\tremaining: 2m 26s\n",
      "203:\tlearn: 0.2780934\ttest: 0.2451037\tbest: 0.2451037 (203)\ttotal: 37.6s\tremaining: 2m 26s\n",
      "204:\tlearn: 0.2779692\ttest: 0.2449519\tbest: 0.2449519 (204)\ttotal: 37.8s\tremaining: 2m 26s\n",
      "205:\tlearn: 0.2767659\ttest: 0.2445013\tbest: 0.2445013 (205)\ttotal: 38.1s\tremaining: 2m 26s\n",
      "206:\tlearn: 0.2766579\ttest: 0.2443710\tbest: 0.2443710 (206)\ttotal: 38.4s\tremaining: 2m 27s\n",
      "207:\tlearn: 0.2765270\ttest: 0.2441657\tbest: 0.2441657 (207)\ttotal: 38.7s\tremaining: 2m 27s\n",
      "208:\tlearn: 0.2761156\ttest: 0.2438452\tbest: 0.2438452 (208)\ttotal: 39s\tremaining: 2m 27s\n",
      "209:\tlearn: 0.2762151\ttest: 0.2439931\tbest: 0.2438452 (208)\ttotal: 39.1s\tremaining: 2m 27s\n",
      "210:\tlearn: 0.2761128\ttest: 0.2439169\tbest: 0.2438452 (208)\ttotal: 39.3s\tremaining: 2m 27s\n",
      "211:\tlearn: 0.2760285\ttest: 0.2437268\tbest: 0.2437268 (211)\ttotal: 39.6s\tremaining: 2m 27s\n",
      "212:\tlearn: 0.2757326\ttest: 0.2434135\tbest: 0.2434135 (212)\ttotal: 39.8s\tremaining: 2m 27s\n",
      "213:\tlearn: 0.2753000\ttest: 0.2430121\tbest: 0.2430121 (213)\ttotal: 40s\tremaining: 2m 26s\n",
      "214:\tlearn: 0.2745190\ttest: 0.2427005\tbest: 0.2427005 (214)\ttotal: 40.2s\tremaining: 2m 26s\n",
      "215:\tlearn: 0.2744726\ttest: 0.2426352\tbest: 0.2426352 (215)\ttotal: 40.4s\tremaining: 2m 26s\n",
      "216:\tlearn: 0.2745751\ttest: 0.2427799\tbest: 0.2426352 (215)\ttotal: 40.6s\tremaining: 2m 26s\n",
      "217:\tlearn: 0.2741956\ttest: 0.2423448\tbest: 0.2423448 (217)\ttotal: 40.8s\tremaining: 2m 26s\n",
      "218:\tlearn: 0.2739830\ttest: 0.2422161\tbest: 0.2422161 (218)\ttotal: 41s\tremaining: 2m 26s\n",
      "219:\tlearn: 0.2738642\ttest: 0.2420943\tbest: 0.2420943 (219)\ttotal: 41.2s\tremaining: 2m 25s\n",
      "220:\tlearn: 0.2736645\ttest: 0.2418626\tbest: 0.2418626 (220)\ttotal: 41.3s\tremaining: 2m 25s\n",
      "221:\tlearn: 0.2729340\ttest: 0.2413808\tbest: 0.2413808 (221)\ttotal: 41.5s\tremaining: 2m 25s\n",
      "222:\tlearn: 0.2725592\ttest: 0.2410387\tbest: 0.2410387 (222)\ttotal: 41.8s\tremaining: 2m 25s\n",
      "223:\tlearn: 0.2724484\ttest: 0.2409423\tbest: 0.2409423 (223)\ttotal: 42s\tremaining: 2m 25s\n",
      "224:\tlearn: 0.2725672\ttest: 0.2410290\tbest: 0.2409423 (223)\ttotal: 42.2s\tremaining: 2m 25s\n",
      "225:\tlearn: 0.2723495\ttest: 0.2408131\tbest: 0.2408131 (225)\ttotal: 42.5s\tremaining: 2m 25s\n",
      "226:\tlearn: 0.2722921\ttest: 0.2406301\tbest: 0.2406301 (226)\ttotal: 42.6s\tremaining: 2m 25s\n",
      "227:\tlearn: 0.2722097\ttest: 0.2405552\tbest: 0.2405552 (227)\ttotal: 42.8s\tremaining: 2m 24s\n",
      "228:\tlearn: 0.2713201\ttest: 0.2400532\tbest: 0.2400532 (228)\ttotal: 43s\tremaining: 2m 24s\n",
      "229:\tlearn: 0.2711558\ttest: 0.2398968\tbest: 0.2398968 (229)\ttotal: 43.2s\tremaining: 2m 24s\n",
      "230:\tlearn: 0.2712004\ttest: 0.2398800\tbest: 0.2398800 (230)\ttotal: 43.5s\tremaining: 2m 24s\n",
      "231:\tlearn: 0.2710464\ttest: 0.2397814\tbest: 0.2397814 (231)\ttotal: 43.7s\tremaining: 2m 24s\n",
      "232:\tlearn: 0.2707376\ttest: 0.2396179\tbest: 0.2396179 (232)\ttotal: 43.9s\tremaining: 2m 24s\n",
      "233:\tlearn: 0.2704668\ttest: 0.2394332\tbest: 0.2394332 (233)\ttotal: 44.1s\tremaining: 2m 24s\n",
      "234:\tlearn: 0.2701597\ttest: 0.2391179\tbest: 0.2391179 (234)\ttotal: 44.4s\tremaining: 2m 24s\n",
      "235:\tlearn: 0.2702608\ttest: 0.2392583\tbest: 0.2391179 (234)\ttotal: 44.5s\tremaining: 2m 24s\n",
      "236:\tlearn: 0.2699462\ttest: 0.2390204\tbest: 0.2390204 (236)\ttotal: 44.8s\tremaining: 2m 24s\n",
      "237:\tlearn: 0.2698075\ttest: 0.2388782\tbest: 0.2388782 (237)\ttotal: 44.9s\tremaining: 2m 23s\n",
      "238:\tlearn: 0.2697015\ttest: 0.2387820\tbest: 0.2387820 (238)\ttotal: 45.1s\tremaining: 2m 23s\n",
      "239:\tlearn: 0.2694650\ttest: 0.2385277\tbest: 0.2385277 (239)\ttotal: 45.3s\tremaining: 2m 23s\n",
      "240:\tlearn: 0.2692992\ttest: 0.2382124\tbest: 0.2382124 (240)\ttotal: 45.5s\tremaining: 2m 23s\n",
      "241:\tlearn: 0.2692402\ttest: 0.2381444\tbest: 0.2381444 (241)\ttotal: 45.7s\tremaining: 2m 23s\n",
      "242:\tlearn: 0.2688525\ttest: 0.2379117\tbest: 0.2379117 (242)\ttotal: 45.9s\tremaining: 2m 22s\n",
      "243:\tlearn: 0.2687165\ttest: 0.2378334\tbest: 0.2378334 (243)\ttotal: 46.1s\tremaining: 2m 22s\n",
      "244:\tlearn: 0.2685198\ttest: 0.2376573\tbest: 0.2376573 (244)\ttotal: 46.3s\tremaining: 2m 22s\n",
      "245:\tlearn: 0.2683822\ttest: 0.2375532\tbest: 0.2375532 (245)\ttotal: 46.4s\tremaining: 2m 22s\n",
      "246:\tlearn: 0.2678207\ttest: 0.2370550\tbest: 0.2370550 (246)\ttotal: 46.6s\tremaining: 2m 22s\n",
      "247:\tlearn: 0.2676151\ttest: 0.2368579\tbest: 0.2368579 (247)\ttotal: 46.8s\tremaining: 2m 21s\n",
      "248:\tlearn: 0.2676005\ttest: 0.2367309\tbest: 0.2367309 (248)\ttotal: 46.9s\tremaining: 2m 21s\n",
      "249:\tlearn: 0.2670171\ttest: 0.2365625\tbest: 0.2365625 (249)\ttotal: 47.1s\tremaining: 2m 21s\n",
      "250:\tlearn: 0.2668462\ttest: 0.2363558\tbest: 0.2363558 (250)\ttotal: 47.3s\tremaining: 2m 21s\n",
      "251:\tlearn: 0.2666974\ttest: 0.2362738\tbest: 0.2362738 (251)\ttotal: 47.5s\tremaining: 2m 20s\n",
      "252:\tlearn: 0.2663216\ttest: 0.2359064\tbest: 0.2359064 (252)\ttotal: 47.6s\tremaining: 2m 20s\n",
      "253:\tlearn: 0.2662928\ttest: 0.2358910\tbest: 0.2358910 (253)\ttotal: 47.9s\tremaining: 2m 20s\n",
      "254:\tlearn: 0.2661657\ttest: 0.2356550\tbest: 0.2356550 (254)\ttotal: 48.2s\tremaining: 2m 20s\n",
      "255:\tlearn: 0.2659292\ttest: 0.2353725\tbest: 0.2353725 (255)\ttotal: 48.4s\tremaining: 2m 20s\n",
      "256:\tlearn: 0.2658950\ttest: 0.2353614\tbest: 0.2353614 (256)\ttotal: 48.7s\tremaining: 2m 20s\n",
      "257:\tlearn: 0.2657732\ttest: 0.2352429\tbest: 0.2352429 (257)\ttotal: 48.8s\tremaining: 2m 20s\n",
      "258:\tlearn: 0.2654871\ttest: 0.2349711\tbest: 0.2349711 (258)\ttotal: 49.1s\tremaining: 2m 20s\n",
      "259:\tlearn: 0.2653017\ttest: 0.2348112\tbest: 0.2348112 (259)\ttotal: 49.3s\tremaining: 2m 20s\n",
      "260:\tlearn: 0.2650527\ttest: 0.2345902\tbest: 0.2345902 (260)\ttotal: 49.5s\tremaining: 2m 20s\n",
      "261:\tlearn: 0.2647900\ttest: 0.2344071\tbest: 0.2344071 (261)\ttotal: 49.7s\tremaining: 2m 20s\n",
      "262:\tlearn: 0.2641227\ttest: 0.2341893\tbest: 0.2341893 (262)\ttotal: 49.9s\tremaining: 2m 19s\n",
      "263:\tlearn: 0.2640024\ttest: 0.2339901\tbest: 0.2339901 (263)\ttotal: 50s\tremaining: 2m 19s\n",
      "264:\tlearn: 0.2639790\ttest: 0.2339882\tbest: 0.2339882 (264)\ttotal: 50.2s\tremaining: 2m 19s\n",
      "265:\tlearn: 0.2639129\ttest: 0.2339231\tbest: 0.2339231 (265)\ttotal: 50.3s\tremaining: 2m 18s\n",
      "266:\tlearn: 0.2637135\ttest: 0.2337414\tbest: 0.2337414 (266)\ttotal: 50.4s\tremaining: 2m 18s\n",
      "267:\tlearn: 0.2636043\ttest: 0.2336208\tbest: 0.2336208 (267)\ttotal: 50.6s\tremaining: 2m 18s\n",
      "268:\tlearn: 0.2635181\ttest: 0.2335965\tbest: 0.2335965 (268)\ttotal: 50.8s\tremaining: 2m 18s\n",
      "269:\tlearn: 0.2634225\ttest: 0.2334148\tbest: 0.2334148 (269)\ttotal: 51s\tremaining: 2m 17s\n",
      "270:\tlearn: 0.2631724\ttest: 0.2333197\tbest: 0.2333197 (270)\ttotal: 51.3s\tremaining: 2m 17s\n",
      "271:\tlearn: 0.2631568\ttest: 0.2333004\tbest: 0.2333004 (271)\ttotal: 51.5s\tremaining: 2m 17s\n",
      "272:\tlearn: 0.2633337\ttest: 0.2333849\tbest: 0.2333004 (271)\ttotal: 51.7s\tremaining: 2m 17s\n",
      "273:\tlearn: 0.2631350\ttest: 0.2331827\tbest: 0.2331827 (273)\ttotal: 51.9s\tremaining: 2m 17s\n",
      "274:\tlearn: 0.2627327\ttest: 0.2331594\tbest: 0.2331594 (274)\ttotal: 52.1s\tremaining: 2m 17s\n",
      "275:\tlearn: 0.2627118\ttest: 0.2331358\tbest: 0.2331358 (275)\ttotal: 52.3s\tremaining: 2m 17s\n",
      "276:\tlearn: 0.2625120\ttest: 0.2329617\tbest: 0.2329617 (276)\ttotal: 52.4s\tremaining: 2m 16s\n",
      "277:\tlearn: 0.2620000\ttest: 0.2325927\tbest: 0.2325927 (277)\ttotal: 52.6s\tremaining: 2m 16s\n",
      "278:\tlearn: 0.2617672\ttest: 0.2323648\tbest: 0.2323648 (278)\ttotal: 52.8s\tremaining: 2m 16s\n",
      "279:\tlearn: 0.2617300\ttest: 0.2322969\tbest: 0.2322969 (279)\ttotal: 53s\tremaining: 2m 16s\n",
      "280:\tlearn: 0.2615715\ttest: 0.2321347\tbest: 0.2321347 (280)\ttotal: 53.2s\tremaining: 2m 16s\n",
      "281:\tlearn: 0.2610978\ttest: 0.2318021\tbest: 0.2318021 (281)\ttotal: 53.3s\tremaining: 2m 15s\n",
      "282:\tlearn: 0.2610545\ttest: 0.2317537\tbest: 0.2317537 (282)\ttotal: 53.6s\tremaining: 2m 15s\n",
      "283:\tlearn: 0.2609181\ttest: 0.2316350\tbest: 0.2316350 (283)\ttotal: 53.7s\tremaining: 2m 15s\n",
      "284:\tlearn: 0.2608451\ttest: 0.2315984\tbest: 0.2315984 (284)\ttotal: 54s\tremaining: 2m 15s\n",
      "285:\tlearn: 0.2607546\ttest: 0.2314701\tbest: 0.2314701 (285)\ttotal: 54.3s\tremaining: 2m 15s\n",
      "286:\tlearn: 0.2607331\ttest: 0.2314204\tbest: 0.2314204 (286)\ttotal: 54.4s\tremaining: 2m 15s\n",
      "287:\tlearn: 0.2602858\ttest: 0.2313211\tbest: 0.2313211 (287)\ttotal: 54.6s\tremaining: 2m 14s\n",
      "288:\tlearn: 0.2603170\ttest: 0.2312520\tbest: 0.2312520 (288)\ttotal: 54.9s\tremaining: 2m 14s\n",
      "289:\tlearn: 0.2601068\ttest: 0.2310456\tbest: 0.2310456 (289)\ttotal: 55.2s\tremaining: 2m 15s\n",
      "290:\tlearn: 0.2598804\ttest: 0.2307994\tbest: 0.2307994 (290)\ttotal: 55.5s\tremaining: 2m 15s\n",
      "291:\tlearn: 0.2597174\ttest: 0.2306931\tbest: 0.2306931 (291)\ttotal: 55.8s\tremaining: 2m 15s\n",
      "292:\tlearn: 0.2596389\ttest: 0.2306161\tbest: 0.2306161 (292)\ttotal: 56.1s\tremaining: 2m 15s\n",
      "293:\tlearn: 0.2595134\ttest: 0.2305088\tbest: 0.2305088 (293)\ttotal: 56.3s\tremaining: 2m 15s\n",
      "294:\tlearn: 0.2594764\ttest: 0.2304852\tbest: 0.2304852 (294)\ttotal: 56.5s\tremaining: 2m 15s\n",
      "295:\tlearn: 0.2590505\ttest: 0.2301229\tbest: 0.2301229 (295)\ttotal: 56.7s\tremaining: 2m 14s\n",
      "296:\tlearn: 0.2583752\ttest: 0.2299891\tbest: 0.2299891 (296)\ttotal: 56.9s\tremaining: 2m 14s\n",
      "297:\tlearn: 0.2579638\ttest: 0.2296600\tbest: 0.2296600 (297)\ttotal: 57.1s\tremaining: 2m 14s\n",
      "298:\tlearn: 0.2575645\ttest: 0.2293816\tbest: 0.2293816 (298)\ttotal: 57.3s\tremaining: 2m 14s\n",
      "299:\tlearn: 0.2575209\ttest: 0.2293555\tbest: 0.2293555 (299)\ttotal: 57.5s\tremaining: 2m 14s\n",
      "300:\tlearn: 0.2574734\ttest: 0.2293066\tbest: 0.2293066 (300)\ttotal: 57.7s\tremaining: 2m 13s\n",
      "301:\tlearn: 0.2573192\ttest: 0.2292072\tbest: 0.2292072 (301)\ttotal: 57.9s\tremaining: 2m 13s\n",
      "302:\tlearn: 0.2569282\ttest: 0.2288805\tbest: 0.2288805 (302)\ttotal: 58s\tremaining: 2m 13s\n",
      "303:\tlearn: 0.2567172\ttest: 0.2286708\tbest: 0.2286708 (303)\ttotal: 58.2s\tremaining: 2m 13s\n",
      "304:\tlearn: 0.2567038\ttest: 0.2286165\tbest: 0.2286165 (304)\ttotal: 58.5s\tremaining: 2m 13s\n",
      "305:\tlearn: 0.2565367\ttest: 0.2285624\tbest: 0.2285624 (305)\ttotal: 58.9s\tremaining: 2m 13s\n",
      "306:\tlearn: 0.2565057\ttest: 0.2286119\tbest: 0.2285624 (305)\ttotal: 59.1s\tremaining: 2m 13s\n",
      "307:\tlearn: 0.2564297\ttest: 0.2285117\tbest: 0.2285117 (307)\ttotal: 59.4s\tremaining: 2m 13s\n",
      "308:\tlearn: 0.2564218\ttest: 0.2284369\tbest: 0.2284369 (308)\ttotal: 59.7s\tremaining: 2m 13s\n",
      "309:\tlearn: 0.2564491\ttest: 0.2284731\tbest: 0.2284369 (308)\ttotal: 59.9s\tremaining: 2m 13s\n",
      "310:\tlearn: 0.2563465\ttest: 0.2284127\tbest: 0.2284127 (310)\ttotal: 1m\tremaining: 2m 13s\n",
      "311:\tlearn: 0.2562977\ttest: 0.2283637\tbest: 0.2283637 (311)\ttotal: 1m\tremaining: 2m 13s\n",
      "312:\tlearn: 0.2560238\ttest: 0.2281267\tbest: 0.2281267 (312)\ttotal: 1m\tremaining: 2m 13s\n",
      "313:\tlearn: 0.2558840\ttest: 0.2279933\tbest: 0.2279933 (313)\ttotal: 1m\tremaining: 2m 13s\n",
      "314:\tlearn: 0.2558694\ttest: 0.2279632\tbest: 0.2279632 (314)\ttotal: 1m 1s\tremaining: 2m 13s\n",
      "315:\tlearn: 0.2558947\ttest: 0.2279971\tbest: 0.2279632 (314)\ttotal: 1m 1s\tremaining: 2m 12s\n",
      "316:\tlearn: 0.2558670\ttest: 0.2279856\tbest: 0.2279632 (314)\ttotal: 1m 1s\tremaining: 2m 12s\n",
      "317:\tlearn: 0.2558485\ttest: 0.2279210\tbest: 0.2279210 (317)\ttotal: 1m 1s\tremaining: 2m 12s\n",
      "318:\tlearn: 0.2557750\ttest: 0.2278564\tbest: 0.2278564 (318)\ttotal: 1m 2s\tremaining: 2m 12s\n",
      "319:\tlearn: 0.2555598\ttest: 0.2276661\tbest: 0.2276661 (319)\ttotal: 1m 2s\tremaining: 2m 12s\n",
      "320:\tlearn: 0.2555546\ttest: 0.2276615\tbest: 0.2276615 (320)\ttotal: 1m 2s\tremaining: 2m 12s\n",
      "321:\tlearn: 0.2552171\ttest: 0.2273913\tbest: 0.2273913 (321)\ttotal: 1m 2s\tremaining: 2m 12s\n",
      "322:\tlearn: 0.2552173\ttest: 0.2273613\tbest: 0.2273613 (322)\ttotal: 1m 2s\tremaining: 2m 11s\n",
      "323:\tlearn: 0.2549219\ttest: 0.2273388\tbest: 0.2273388 (323)\ttotal: 1m 3s\tremaining: 2m 11s\n",
      "324:\tlearn: 0.2546622\ttest: 0.2271175\tbest: 0.2271175 (324)\ttotal: 1m 3s\tremaining: 2m 11s\n",
      "325:\tlearn: 0.2546352\ttest: 0.2270615\tbest: 0.2270615 (325)\ttotal: 1m 3s\tremaining: 2m 11s\n",
      "326:\tlearn: 0.2545247\ttest: 0.2270057\tbest: 0.2270057 (326)\ttotal: 1m 3s\tremaining: 2m 11s\n",
      "327:\tlearn: 0.2545154\ttest: 0.2270181\tbest: 0.2270057 (326)\ttotal: 1m 4s\tremaining: 2m 11s\n",
      "328:\tlearn: 0.2545077\ttest: 0.2269668\tbest: 0.2269668 (328)\ttotal: 1m 4s\tremaining: 2m 10s\n",
      "329:\tlearn: 0.2543756\ttest: 0.2268407\tbest: 0.2268407 (329)\ttotal: 1m 4s\tremaining: 2m 10s\n",
      "330:\tlearn: 0.2541780\ttest: 0.2266617\tbest: 0.2266617 (330)\ttotal: 1m 4s\tremaining: 2m 10s\n",
      "331:\tlearn: 0.2542063\ttest: 0.2266547\tbest: 0.2266547 (331)\ttotal: 1m 4s\tremaining: 2m 10s\n",
      "332:\tlearn: 0.2539937\ttest: 0.2266997\tbest: 0.2266547 (331)\ttotal: 1m 5s\tremaining: 2m 10s\n",
      "333:\tlearn: 0.2540436\ttest: 0.2268044\tbest: 0.2266547 (331)\ttotal: 1m 5s\tremaining: 2m 10s\n",
      "334:\tlearn: 0.2538448\ttest: 0.2266059\tbest: 0.2266059 (334)\ttotal: 1m 5s\tremaining: 2m 10s\n",
      "335:\tlearn: 0.2538584\ttest: 0.2266607\tbest: 0.2266059 (334)\ttotal: 1m 5s\tremaining: 2m 10s\n",
      "336:\tlearn: 0.2538702\ttest: 0.2266515\tbest: 0.2266059 (334)\ttotal: 1m 6s\tremaining: 2m 10s\n",
      "337:\tlearn: 0.2538378\ttest: 0.2266090\tbest: 0.2266059 (334)\ttotal: 1m 6s\tremaining: 2m 10s\n",
      "338:\tlearn: 0.2539423\ttest: 0.2266779\tbest: 0.2266059 (334)\ttotal: 1m 6s\tremaining: 2m 10s\n",
      "339:\tlearn: 0.2537087\ttest: 0.2264839\tbest: 0.2264839 (339)\ttotal: 1m 6s\tremaining: 2m 10s\n",
      "340:\tlearn: 0.2536872\ttest: 0.2264525\tbest: 0.2264525 (340)\ttotal: 1m 7s\tremaining: 2m 10s\n",
      "341:\tlearn: 0.2531132\ttest: 0.2263459\tbest: 0.2263459 (341)\ttotal: 1m 7s\tremaining: 2m 10s\n",
      "342:\tlearn: 0.2529315\ttest: 0.2261462\tbest: 0.2261462 (342)\ttotal: 1m 8s\tremaining: 2m 10s\n",
      "343:\tlearn: 0.2529000\ttest: 0.2261317\tbest: 0.2261317 (343)\ttotal: 1m 8s\tremaining: 2m 10s\n",
      "344:\tlearn: 0.2528790\ttest: 0.2261206\tbest: 0.2261206 (344)\ttotal: 1m 8s\tremaining: 2m 10s\n",
      "345:\tlearn: 0.2526762\ttest: 0.2259686\tbest: 0.2259686 (345)\ttotal: 1m 8s\tremaining: 2m 10s\n",
      "346:\tlearn: 0.2524253\ttest: 0.2258178\tbest: 0.2258178 (346)\ttotal: 1m 9s\tremaining: 2m 9s\n",
      "347:\tlearn: 0.2522888\ttest: 0.2256968\tbest: 0.2256968 (347)\ttotal: 1m 9s\tremaining: 2m 9s\n",
      "348:\tlearn: 0.2523130\ttest: 0.2256989\tbest: 0.2256968 (347)\ttotal: 1m 9s\tremaining: 2m 9s\n",
      "349:\tlearn: 0.2522823\ttest: 0.2256370\tbest: 0.2256370 (349)\ttotal: 1m 9s\tremaining: 2m 9s\n",
      "350:\tlearn: 0.2522040\ttest: 0.2255974\tbest: 0.2255974 (350)\ttotal: 1m 9s\tremaining: 2m 9s\n",
      "351:\tlearn: 0.2521521\ttest: 0.2256834\tbest: 0.2255974 (350)\ttotal: 1m 10s\tremaining: 2m 9s\n",
      "352:\tlearn: 0.2522483\ttest: 0.2256616\tbest: 0.2255974 (350)\ttotal: 1m 10s\tremaining: 2m 8s\n",
      "353:\tlearn: 0.2523520\ttest: 0.2257424\tbest: 0.2255974 (350)\ttotal: 1m 10s\tremaining: 2m 8s\n",
      "354:\tlearn: 0.2523365\ttest: 0.2257217\tbest: 0.2255974 (350)\ttotal: 1m 10s\tremaining: 2m 8s\n",
      "355:\tlearn: 0.2521515\ttest: 0.2255366\tbest: 0.2255366 (355)\ttotal: 1m 11s\tremaining: 2m 8s\n",
      "356:\tlearn: 0.2521432\ttest: 0.2254433\tbest: 0.2254433 (356)\ttotal: 1m 11s\tremaining: 2m 8s\n",
      "357:\tlearn: 0.2520589\ttest: 0.2253685\tbest: 0.2253685 (357)\ttotal: 1m 11s\tremaining: 2m 8s\n",
      "358:\tlearn: 0.2517341\ttest: 0.2250342\tbest: 0.2250342 (358)\ttotal: 1m 11s\tremaining: 2m 8s\n",
      "359:\tlearn: 0.2517619\ttest: 0.2250553\tbest: 0.2250342 (358)\ttotal: 1m 11s\tremaining: 2m 7s\n",
      "360:\tlearn: 0.2517027\ttest: 0.2249963\tbest: 0.2249963 (360)\ttotal: 1m 12s\tremaining: 2m 7s\n",
      "361:\tlearn: 0.2517054\ttest: 0.2250574\tbest: 0.2249963 (360)\ttotal: 1m 12s\tremaining: 2m 7s\n",
      "362:\tlearn: 0.2517978\ttest: 0.2250386\tbest: 0.2249963 (360)\ttotal: 1m 12s\tremaining: 2m 7s\n",
      "363:\tlearn: 0.2516941\ttest: 0.2249172\tbest: 0.2249172 (363)\ttotal: 1m 12s\tremaining: 2m 6s\n",
      "364:\tlearn: 0.2514126\ttest: 0.2247353\tbest: 0.2247353 (364)\ttotal: 1m 12s\tremaining: 2m 6s\n",
      "365:\tlearn: 0.2513923\ttest: 0.2247402\tbest: 0.2247353 (364)\ttotal: 1m 13s\tremaining: 2m 6s\n",
      "366:\tlearn: 0.2513869\ttest: 0.2247242\tbest: 0.2247242 (366)\ttotal: 1m 13s\tremaining: 2m 6s\n",
      "367:\tlearn: 0.2513600\ttest: 0.2246550\tbest: 0.2246550 (367)\ttotal: 1m 13s\tremaining: 2m 6s\n",
      "368:\tlearn: 0.2513552\ttest: 0.2246062\tbest: 0.2246062 (368)\ttotal: 1m 13s\tremaining: 2m 6s\n",
      "369:\tlearn: 0.2513757\ttest: 0.2246550\tbest: 0.2246062 (368)\ttotal: 1m 13s\tremaining: 2m 5s\n",
      "370:\tlearn: 0.2508659\ttest: 0.2245800\tbest: 0.2245800 (370)\ttotal: 1m 14s\tremaining: 2m 5s\n",
      "371:\tlearn: 0.2509344\ttest: 0.2245383\tbest: 0.2245383 (371)\ttotal: 1m 14s\tremaining: 2m 5s\n",
      "372:\tlearn: 0.2508515\ttest: 0.2244417\tbest: 0.2244417 (372)\ttotal: 1m 14s\tremaining: 2m 5s\n",
      "373:\tlearn: 0.2507142\ttest: 0.2243730\tbest: 0.2243730 (373)\ttotal: 1m 14s\tremaining: 2m 5s\n",
      "374:\tlearn: 0.2506862\ttest: 0.2244614\tbest: 0.2243730 (373)\ttotal: 1m 15s\tremaining: 2m 5s\n",
      "375:\tlearn: 0.2505764\ttest: 0.2243022\tbest: 0.2243022 (375)\ttotal: 1m 15s\tremaining: 2m 4s\n",
      "376:\tlearn: 0.2506310\ttest: 0.2243642\tbest: 0.2243022 (375)\ttotal: 1m 15s\tremaining: 2m 4s\n",
      "377:\tlearn: 0.2504621\ttest: 0.2242081\tbest: 0.2242081 (377)\ttotal: 1m 15s\tremaining: 2m 4s\n",
      "378:\tlearn: 0.2504470\ttest: 0.2241750\tbest: 0.2241750 (378)\ttotal: 1m 15s\tremaining: 2m 4s\n",
      "379:\tlearn: 0.2502766\ttest: 0.2240528\tbest: 0.2240528 (379)\ttotal: 1m 16s\tremaining: 2m 4s\n",
      "380:\tlearn: 0.2503656\ttest: 0.2240249\tbest: 0.2240249 (380)\ttotal: 1m 16s\tremaining: 2m 4s\n",
      "381:\tlearn: 0.2503462\ttest: 0.2240433\tbest: 0.2240249 (380)\ttotal: 1m 16s\tremaining: 2m 3s\n",
      "382:\tlearn: 0.2503218\ttest: 0.2240118\tbest: 0.2240118 (382)\ttotal: 1m 16s\tremaining: 2m 3s\n",
      "383:\tlearn: 0.2499922\ttest: 0.2237999\tbest: 0.2237999 (383)\ttotal: 1m 16s\tremaining: 2m 3s\n",
      "384:\tlearn: 0.2500225\ttest: 0.2238650\tbest: 0.2237999 (383)\ttotal: 1m 17s\tremaining: 2m 3s\n",
      "385:\tlearn: 0.2500317\ttest: 0.2238494\tbest: 0.2237999 (383)\ttotal: 1m 17s\tremaining: 2m 3s\n",
      "386:\tlearn: 0.2500248\ttest: 0.2238473\tbest: 0.2237999 (383)\ttotal: 1m 17s\tremaining: 2m 2s\n",
      "387:\tlearn: 0.2500376\ttest: 0.2238542\tbest: 0.2237999 (383)\ttotal: 1m 17s\tremaining: 2m 2s\n",
      "388:\tlearn: 0.2500400\ttest: 0.2238196\tbest: 0.2237999 (383)\ttotal: 1m 18s\tremaining: 2m 2s\n",
      "389:\tlearn: 0.2497469\ttest: 0.2235596\tbest: 0.2235596 (389)\ttotal: 1m 18s\tremaining: 2m 2s\n",
      "390:\tlearn: 0.2491343\ttest: 0.2234143\tbest: 0.2234143 (390)\ttotal: 1m 18s\tremaining: 2m 2s\n",
      "391:\tlearn: 0.2490613\ttest: 0.2233569\tbest: 0.2233569 (391)\ttotal: 1m 18s\tremaining: 2m 2s\n",
      "392:\tlearn: 0.2490464\ttest: 0.2233306\tbest: 0.2233306 (392)\ttotal: 1m 19s\tremaining: 2m 2s\n",
      "393:\tlearn: 0.2489934\ttest: 0.2232703\tbest: 0.2232703 (393)\ttotal: 1m 19s\tremaining: 2m 2s\n",
      "394:\tlearn: 0.2489132\ttest: 0.2231602\tbest: 0.2231602 (394)\ttotal: 1m 19s\tremaining: 2m 2s\n",
      "395:\tlearn: 0.2488729\ttest: 0.2231435\tbest: 0.2231435 (395)\ttotal: 1m 20s\tremaining: 2m 2s\n",
      "396:\tlearn: 0.2489126\ttest: 0.2231774\tbest: 0.2231435 (395)\ttotal: 1m 20s\tremaining: 2m 2s\n",
      "397:\tlearn: 0.2488956\ttest: 0.2231692\tbest: 0.2231435 (395)\ttotal: 1m 20s\tremaining: 2m 1s\n",
      "398:\tlearn: 0.2488682\ttest: 0.2231402\tbest: 0.2231402 (398)\ttotal: 1m 20s\tremaining: 2m 1s\n",
      "399:\tlearn: 0.2489223\ttest: 0.2231921\tbest: 0.2231402 (398)\ttotal: 1m 20s\tremaining: 2m 1s\n",
      "400:\tlearn: 0.2484601\ttest: 0.2231352\tbest: 0.2231352 (400)\ttotal: 1m 21s\tremaining: 2m 1s\n",
      "401:\tlearn: 0.2482735\ttest: 0.2230082\tbest: 0.2230082 (401)\ttotal: 1m 21s\tremaining: 2m\n",
      "402:\tlearn: 0.2483084\ttest: 0.2230387\tbest: 0.2230082 (401)\ttotal: 1m 21s\tremaining: 2m\n",
      "403:\tlearn: 0.2482671\ttest: 0.2230099\tbest: 0.2230082 (401)\ttotal: 1m 21s\tremaining: 2m\n",
      "404:\tlearn: 0.2482944\ttest: 0.2230143\tbest: 0.2230082 (401)\ttotal: 1m 21s\tremaining: 2m\n",
      "405:\tlearn: 0.2480021\ttest: 0.2228166\tbest: 0.2228166 (405)\ttotal: 1m 21s\tremaining: 1m 59s\n",
      "406:\tlearn: 0.2479393\ttest: 0.2227633\tbest: 0.2227633 (406)\ttotal: 1m 22s\tremaining: 1m 59s\n",
      "407:\tlearn: 0.2478743\ttest: 0.2226989\tbest: 0.2226989 (407)\ttotal: 1m 22s\tremaining: 1m 59s\n",
      "408:\tlearn: 0.2478673\ttest: 0.2227236\tbest: 0.2226989 (407)\ttotal: 1m 22s\tremaining: 1m 59s\n",
      "409:\tlearn: 0.2478715\ttest: 0.2227744\tbest: 0.2226989 (407)\ttotal: 1m 22s\tremaining: 1m 58s\n",
      "410:\tlearn: 0.2478852\ttest: 0.2227653\tbest: 0.2226989 (407)\ttotal: 1m 22s\tremaining: 1m 58s\n",
      "411:\tlearn: 0.2477631\ttest: 0.2227309\tbest: 0.2226989 (407)\ttotal: 1m 22s\tremaining: 1m 58s\n",
      "412:\tlearn: 0.2476850\ttest: 0.2226778\tbest: 0.2226778 (412)\ttotal: 1m 23s\tremaining: 1m 58s\n",
      "413:\tlearn: 0.2472547\ttest: 0.2226302\tbest: 0.2226302 (413)\ttotal: 1m 23s\tremaining: 1m 57s\n",
      "414:\tlearn: 0.2473371\ttest: 0.2226601\tbest: 0.2226302 (413)\ttotal: 1m 23s\tremaining: 1m 57s\n",
      "415:\tlearn: 0.2472718\ttest: 0.2226724\tbest: 0.2226302 (413)\ttotal: 1m 23s\tremaining: 1m 57s\n",
      "416:\tlearn: 0.2471590\ttest: 0.2226101\tbest: 0.2226101 (416)\ttotal: 1m 23s\tremaining: 1m 57s\n",
      "417:\tlearn: 0.2473927\ttest: 0.2225692\tbest: 0.2225692 (417)\ttotal: 1m 24s\tremaining: 1m 57s\n",
      "418:\tlearn: 0.2473016\ttest: 0.2225291\tbest: 0.2225291 (418)\ttotal: 1m 24s\tremaining: 1m 56s\n",
      "419:\tlearn: 0.2472940\ttest: 0.2225214\tbest: 0.2225214 (419)\ttotal: 1m 24s\tremaining: 1m 56s\n",
      "420:\tlearn: 0.2471781\ttest: 0.2223978\tbest: 0.2223978 (420)\ttotal: 1m 24s\tremaining: 1m 56s\n",
      "421:\tlearn: 0.2471036\ttest: 0.2222928\tbest: 0.2222928 (421)\ttotal: 1m 24s\tremaining: 1m 55s\n",
      "422:\tlearn: 0.2470751\ttest: 0.2222726\tbest: 0.2222726 (422)\ttotal: 1m 24s\tremaining: 1m 55s\n",
      "423:\tlearn: 0.2470702\ttest: 0.2222616\tbest: 0.2222616 (423)\ttotal: 1m 24s\tremaining: 1m 55s\n",
      "424:\tlearn: 0.2469554\ttest: 0.2221877\tbest: 0.2221877 (424)\ttotal: 1m 25s\tremaining: 1m 55s\n",
      "425:\tlearn: 0.2469504\ttest: 0.2221467\tbest: 0.2221467 (425)\ttotal: 1m 25s\tremaining: 1m 54s\n",
      "426:\tlearn: 0.2468782\ttest: 0.2220685\tbest: 0.2220685 (426)\ttotal: 1m 25s\tremaining: 1m 54s\n",
      "427:\tlearn: 0.2468250\ttest: 0.2220223\tbest: 0.2220223 (427)\ttotal: 1m 25s\tremaining: 1m 54s\n",
      "428:\tlearn: 0.2468329\ttest: 0.2220622\tbest: 0.2220223 (427)\ttotal: 1m 25s\tremaining: 1m 53s\n",
      "429:\tlearn: 0.2462741\ttest: 0.2219331\tbest: 0.2219331 (429)\ttotal: 1m 25s\tremaining: 1m 53s\n",
      "430:\tlearn: 0.2462981\ttest: 0.2218998\tbest: 0.2218998 (430)\ttotal: 1m 25s\tremaining: 1m 53s\n",
      "431:\tlearn: 0.2462757\ttest: 0.2218749\tbest: 0.2218749 (431)\ttotal: 1m 26s\tremaining: 1m 53s\n",
      "432:\tlearn: 0.2460702\ttest: 0.2216628\tbest: 0.2216628 (432)\ttotal: 1m 26s\tremaining: 1m 53s\n",
      "433:\tlearn: 0.2460113\ttest: 0.2215872\tbest: 0.2215872 (433)\ttotal: 1m 26s\tremaining: 1m 53s\n",
      "434:\tlearn: 0.2460007\ttest: 0.2215810\tbest: 0.2215810 (434)\ttotal: 1m 26s\tremaining: 1m 52s\n",
      "435:\tlearn: 0.2460049\ttest: 0.2215800\tbest: 0.2215800 (435)\ttotal: 1m 27s\tremaining: 1m 52s\n",
      "436:\tlearn: 0.2460288\ttest: 0.2216360\tbest: 0.2215800 (435)\ttotal: 1m 27s\tremaining: 1m 52s\n",
      "437:\tlearn: 0.2460160\ttest: 0.2216240\tbest: 0.2215800 (435)\ttotal: 1m 27s\tremaining: 1m 52s\n",
      "438:\tlearn: 0.2459818\ttest: 0.2215935\tbest: 0.2215800 (435)\ttotal: 1m 27s\tremaining: 1m 52s\n",
      "439:\tlearn: 0.2457821\ttest: 0.2213942\tbest: 0.2213942 (439)\ttotal: 1m 28s\tremaining: 1m 52s\n",
      "440:\tlearn: 0.2457555\ttest: 0.2213582\tbest: 0.2213582 (440)\ttotal: 1m 28s\tremaining: 1m 52s\n",
      "441:\tlearn: 0.2459870\ttest: 0.2213220\tbest: 0.2213220 (441)\ttotal: 1m 28s\tremaining: 1m 51s\n",
      "442:\tlearn: 0.2459375\ttest: 0.2212665\tbest: 0.2212665 (442)\ttotal: 1m 28s\tremaining: 1m 51s\n",
      "443:\tlearn: 0.2457913\ttest: 0.2211643\tbest: 0.2211643 (443)\ttotal: 1m 29s\tremaining: 1m 51s\n",
      "444:\tlearn: 0.2457624\ttest: 0.2211456\tbest: 0.2211456 (444)\ttotal: 1m 29s\tremaining: 1m 51s\n",
      "445:\tlearn: 0.2456903\ttest: 0.2211097\tbest: 0.2211097 (445)\ttotal: 1m 29s\tremaining: 1m 51s\n",
      "446:\tlearn: 0.2456341\ttest: 0.2210727\tbest: 0.2210727 (446)\ttotal: 1m 30s\tremaining: 1m 51s\n",
      "447:\tlearn: 0.2454817\ttest: 0.2209462\tbest: 0.2209462 (447)\ttotal: 1m 30s\tremaining: 1m 51s\n",
      "448:\tlearn: 0.2454615\ttest: 0.2209271\tbest: 0.2209271 (448)\ttotal: 1m 30s\tremaining: 1m 51s\n",
      "449:\tlearn: 0.2454000\ttest: 0.2208391\tbest: 0.2208391 (449)\ttotal: 1m 31s\tremaining: 1m 51s\n",
      "450:\tlearn: 0.2451790\ttest: 0.2205974\tbest: 0.2205974 (450)\ttotal: 1m 31s\tremaining: 1m 51s\n",
      "451:\tlearn: 0.2451551\ttest: 0.2206232\tbest: 0.2205974 (450)\ttotal: 1m 31s\tremaining: 1m 51s\n",
      "452:\tlearn: 0.2450552\ttest: 0.2204958\tbest: 0.2204958 (452)\ttotal: 1m 31s\tremaining: 1m 51s\n",
      "453:\tlearn: 0.2451290\ttest: 0.2205732\tbest: 0.2204958 (452)\ttotal: 1m 32s\tremaining: 1m 50s\n",
      "454:\tlearn: 0.2451155\ttest: 0.2206138\tbest: 0.2204958 (452)\ttotal: 1m 32s\tremaining: 1m 50s\n",
      "455:\tlearn: 0.2450788\ttest: 0.2205783\tbest: 0.2204958 (452)\ttotal: 1m 32s\tremaining: 1m 50s\n",
      "456:\tlearn: 0.2448656\ttest: 0.2203954\tbest: 0.2203954 (456)\ttotal: 1m 32s\tremaining: 1m 50s\n",
      "457:\tlearn: 0.2448828\ttest: 0.2203636\tbest: 0.2203636 (457)\ttotal: 1m 33s\tremaining: 1m 50s\n",
      "458:\tlearn: 0.2446674\ttest: 0.2203874\tbest: 0.2203636 (457)\ttotal: 1m 33s\tremaining: 1m 50s\n",
      "459:\tlearn: 0.2446501\ttest: 0.2203688\tbest: 0.2203636 (457)\ttotal: 1m 33s\tremaining: 1m 49s\n",
      "460:\tlearn: 0.2446499\ttest: 0.2203086\tbest: 0.2203086 (460)\ttotal: 1m 33s\tremaining: 1m 49s\n",
      "461:\tlearn: 0.2446915\ttest: 0.2202718\tbest: 0.2202718 (461)\ttotal: 1m 34s\tremaining: 1m 49s\n",
      "462:\tlearn: 0.2446708\ttest: 0.2202577\tbest: 0.2202577 (462)\ttotal: 1m 34s\tremaining: 1m 49s\n",
      "463:\tlearn: 0.2447255\ttest: 0.2203145\tbest: 0.2202577 (462)\ttotal: 1m 34s\tremaining: 1m 49s\n",
      "464:\tlearn: 0.2447200\ttest: 0.2202988\tbest: 0.2202577 (462)\ttotal: 1m 34s\tremaining: 1m 49s\n",
      "465:\tlearn: 0.2445859\ttest: 0.2201352\tbest: 0.2201352 (465)\ttotal: 1m 34s\tremaining: 1m 48s\n",
      "466:\tlearn: 0.2445556\ttest: 0.2200995\tbest: 0.2200995 (466)\ttotal: 1m 35s\tremaining: 1m 48s\n",
      "467:\tlearn: 0.2445392\ttest: 0.2200989\tbest: 0.2200989 (467)\ttotal: 1m 35s\tremaining: 1m 48s\n",
      "468:\tlearn: 0.2445972\ttest: 0.2201396\tbest: 0.2200989 (467)\ttotal: 1m 35s\tremaining: 1m 48s\n",
      "469:\tlearn: 0.2445733\ttest: 0.2200841\tbest: 0.2200841 (469)\ttotal: 1m 35s\tremaining: 1m 48s\n",
      "470:\tlearn: 0.2444814\ttest: 0.2199952\tbest: 0.2199952 (470)\ttotal: 1m 36s\tremaining: 1m 47s\n",
      "471:\tlearn: 0.2443275\ttest: 0.2198432\tbest: 0.2198432 (471)\ttotal: 1m 36s\tremaining: 1m 47s\n",
      "472:\tlearn: 0.2443188\ttest: 0.2198320\tbest: 0.2198320 (472)\ttotal: 1m 36s\tremaining: 1m 47s\n",
      "473:\tlearn: 0.2443755\ttest: 0.2199118\tbest: 0.2198320 (472)\ttotal: 1m 36s\tremaining: 1m 47s\n",
      "474:\tlearn: 0.2443876\ttest: 0.2199277\tbest: 0.2198320 (472)\ttotal: 1m 36s\tremaining: 1m 47s\n",
      "475:\tlearn: 0.2443703\ttest: 0.2199143\tbest: 0.2198320 (472)\ttotal: 1m 37s\tremaining: 1m 46s\n",
      "476:\tlearn: 0.2441589\ttest: 0.2196884\tbest: 0.2196884 (476)\ttotal: 1m 37s\tremaining: 1m 46s\n",
      "477:\tlearn: 0.2441592\ttest: 0.2196918\tbest: 0.2196884 (476)\ttotal: 1m 37s\tremaining: 1m 46s\n",
      "478:\tlearn: 0.2441247\ttest: 0.2196613\tbest: 0.2196613 (478)\ttotal: 1m 37s\tremaining: 1m 46s\n",
      "479:\tlearn: 0.2440969\ttest: 0.2196405\tbest: 0.2196405 (479)\ttotal: 1m 37s\tremaining: 1m 45s\n",
      "480:\tlearn: 0.2440889\ttest: 0.2196427\tbest: 0.2196405 (479)\ttotal: 1m 38s\tremaining: 1m 45s\n",
      "481:\tlearn: 0.2441683\ttest: 0.2196743\tbest: 0.2196405 (479)\ttotal: 1m 38s\tremaining: 1m 45s\n",
      "482:\tlearn: 0.2441545\ttest: 0.2196568\tbest: 0.2196405 (479)\ttotal: 1m 38s\tremaining: 1m 45s\n",
      "483:\tlearn: 0.2441160\ttest: 0.2196448\tbest: 0.2196405 (479)\ttotal: 1m 38s\tremaining: 1m 45s\n",
      "484:\tlearn: 0.2439486\ttest: 0.2194915\tbest: 0.2194915 (484)\ttotal: 1m 38s\tremaining: 1m 44s\n",
      "485:\tlearn: 0.2437664\ttest: 0.2193076\tbest: 0.2193076 (485)\ttotal: 1m 39s\tremaining: 1m 44s\n",
      "486:\tlearn: 0.2437718\ttest: 0.2193168\tbest: 0.2193076 (485)\ttotal: 1m 39s\tremaining: 1m 44s\n",
      "487:\tlearn: 0.2437842\ttest: 0.2194248\tbest: 0.2193076 (485)\ttotal: 1m 39s\tremaining: 1m 44s\n",
      "488:\tlearn: 0.2437368\ttest: 0.2193895\tbest: 0.2193076 (485)\ttotal: 1m 39s\tremaining: 1m 44s\n",
      "489:\tlearn: 0.2435100\ttest: 0.2191630\tbest: 0.2191630 (489)\ttotal: 1m 40s\tremaining: 1m 44s\n",
      "490:\tlearn: 0.2435496\ttest: 0.2191840\tbest: 0.2191630 (489)\ttotal: 1m 40s\tremaining: 1m 44s\n",
      "491:\tlearn: 0.2434592\ttest: 0.2190697\tbest: 0.2190697 (491)\ttotal: 1m 40s\tremaining: 1m 43s\n",
      "492:\tlearn: 0.2434340\ttest: 0.2190381\tbest: 0.2190381 (492)\ttotal: 1m 40s\tremaining: 1m 43s\n",
      "493:\tlearn: 0.2434418\ttest: 0.2190383\tbest: 0.2190381 (492)\ttotal: 1m 41s\tremaining: 1m 43s\n",
      "494:\tlearn: 0.2433776\ttest: 0.2189922\tbest: 0.2189922 (494)\ttotal: 1m 41s\tremaining: 1m 43s\n",
      "495:\tlearn: 0.2430966\ttest: 0.2187233\tbest: 0.2187233 (495)\ttotal: 1m 41s\tremaining: 1m 43s\n",
      "496:\tlearn: 0.2430672\ttest: 0.2187156\tbest: 0.2187156 (496)\ttotal: 1m 41s\tremaining: 1m 43s\n",
      "497:\tlearn: 0.2429014\ttest: 0.2186591\tbest: 0.2186591 (497)\ttotal: 1m 41s\tremaining: 1m 42s\n",
      "498:\tlearn: 0.2428569\ttest: 0.2186265\tbest: 0.2186265 (498)\ttotal: 1m 42s\tremaining: 1m 42s\n",
      "499:\tlearn: 0.2428283\ttest: 0.2185862\tbest: 0.2185862 (499)\ttotal: 1m 42s\tremaining: 1m 42s\n",
      "500:\tlearn: 0.2427522\ttest: 0.2184995\tbest: 0.2184995 (500)\ttotal: 1m 42s\tremaining: 1m 42s\n",
      "501:\tlearn: 0.2426094\ttest: 0.2183915\tbest: 0.2183915 (501)\ttotal: 1m 43s\tremaining: 1m 42s\n",
      "502:\tlearn: 0.2425905\ttest: 0.2183950\tbest: 0.2183915 (501)\ttotal: 1m 43s\tremaining: 1m 41s\n",
      "503:\tlearn: 0.2426123\ttest: 0.2183662\tbest: 0.2183662 (503)\ttotal: 1m 43s\tremaining: 1m 41s\n",
      "504:\tlearn: 0.2424540\ttest: 0.2182982\tbest: 0.2182982 (504)\ttotal: 1m 43s\tremaining: 1m 41s\n",
      "505:\tlearn: 0.2424299\ttest: 0.2182424\tbest: 0.2182424 (505)\ttotal: 1m 43s\tremaining: 1m 41s\n",
      "506:\tlearn: 0.2424406\ttest: 0.2182561\tbest: 0.2182424 (505)\ttotal: 1m 44s\tremaining: 1m 41s\n",
      "507:\tlearn: 0.2422643\ttest: 0.2180539\tbest: 0.2180539 (507)\ttotal: 1m 44s\tremaining: 1m 40s\n",
      "508:\tlearn: 0.2421481\ttest: 0.2179153\tbest: 0.2179153 (508)\ttotal: 1m 44s\tremaining: 1m 40s\n",
      "509:\tlearn: 0.2420481\ttest: 0.2178661\tbest: 0.2178661 (509)\ttotal: 1m 44s\tremaining: 1m 40s\n",
      "510:\tlearn: 0.2420338\ttest: 0.2178499\tbest: 0.2178499 (510)\ttotal: 1m 44s\tremaining: 1m 40s\n",
      "511:\tlearn: 0.2420127\ttest: 0.2178221\tbest: 0.2178221 (511)\ttotal: 1m 44s\tremaining: 1m 39s\n",
      "512:\tlearn: 0.2420054\ttest: 0.2178383\tbest: 0.2178221 (511)\ttotal: 1m 45s\tremaining: 1m 39s\n",
      "513:\tlearn: 0.2419749\ttest: 0.2177916\tbest: 0.2177916 (513)\ttotal: 1m 45s\tremaining: 1m 39s\n",
      "514:\tlearn: 0.2419432\ttest: 0.2178945\tbest: 0.2177916 (513)\ttotal: 1m 45s\tremaining: 1m 39s\n",
      "515:\tlearn: 0.2419103\ttest: 0.2178622\tbest: 0.2177916 (513)\ttotal: 1m 45s\tremaining: 1m 39s\n",
      "516:\tlearn: 0.2419064\ttest: 0.2177870\tbest: 0.2177870 (516)\ttotal: 1m 46s\tremaining: 1m 39s\n",
      "517:\tlearn: 0.2418773\ttest: 0.2177477\tbest: 0.2177477 (517)\ttotal: 1m 46s\tremaining: 1m 38s\n",
      "518:\tlearn: 0.2418464\ttest: 0.2177244\tbest: 0.2177244 (518)\ttotal: 1m 46s\tremaining: 1m 38s\n",
      "519:\tlearn: 0.2417430\ttest: 0.2176207\tbest: 0.2176207 (519)\ttotal: 1m 46s\tremaining: 1m 38s\n",
      "520:\tlearn: 0.2417684\ttest: 0.2177070\tbest: 0.2176207 (519)\ttotal: 1m 47s\tremaining: 1m 38s\n",
      "521:\tlearn: 0.2416261\ttest: 0.2175773\tbest: 0.2175773 (521)\ttotal: 1m 47s\tremaining: 1m 38s\n",
      "522:\tlearn: 0.2414846\ttest: 0.2174547\tbest: 0.2174547 (522)\ttotal: 1m 47s\tremaining: 1m 38s\n",
      "523:\tlearn: 0.2414669\ttest: 0.2174620\tbest: 0.2174547 (522)\ttotal: 1m 47s\tremaining: 1m 37s\n",
      "524:\tlearn: 0.2413390\ttest: 0.2173088\tbest: 0.2173088 (524)\ttotal: 1m 48s\tremaining: 1m 37s\n",
      "525:\tlearn: 0.2413375\ttest: 0.2173098\tbest: 0.2173088 (524)\ttotal: 1m 48s\tremaining: 1m 37s\n",
      "526:\tlearn: 0.2413735\ttest: 0.2173459\tbest: 0.2173088 (524)\ttotal: 1m 48s\tremaining: 1m 37s\n",
      "527:\tlearn: 0.2412620\ttest: 0.2172284\tbest: 0.2172284 (527)\ttotal: 1m 48s\tremaining: 1m 37s\n",
      "528:\tlearn: 0.2413180\ttest: 0.2173562\tbest: 0.2172284 (527)\ttotal: 1m 48s\tremaining: 1m 36s\n",
      "529:\tlearn: 0.2413316\ttest: 0.2173363\tbest: 0.2172284 (527)\ttotal: 1m 48s\tremaining: 1m 36s\n",
      "530:\tlearn: 0.2413105\ttest: 0.2173170\tbest: 0.2172284 (527)\ttotal: 1m 49s\tremaining: 1m 36s\n",
      "531:\tlearn: 0.2412120\ttest: 0.2172922\tbest: 0.2172284 (527)\ttotal: 1m 49s\tremaining: 1m 36s\n",
      "532:\tlearn: 0.2411163\ttest: 0.2172100\tbest: 0.2172100 (532)\ttotal: 1m 49s\tremaining: 1m 36s\n",
      "533:\tlearn: 0.2411128\ttest: 0.2172118\tbest: 0.2172100 (532)\ttotal: 1m 49s\tremaining: 1m 35s\n",
      "534:\tlearn: 0.2410684\ttest: 0.2171746\tbest: 0.2171746 (534)\ttotal: 1m 49s\tremaining: 1m 35s\n",
      "535:\tlearn: 0.2410826\ttest: 0.2172553\tbest: 0.2171746 (534)\ttotal: 1m 50s\tremaining: 1m 35s\n",
      "536:\tlearn: 0.2409513\ttest: 0.2171520\tbest: 0.2171520 (536)\ttotal: 1m 50s\tremaining: 1m 35s\n",
      "537:\tlearn: 0.2409686\ttest: 0.2172163\tbest: 0.2171520 (536)\ttotal: 1m 50s\tremaining: 1m 34s\n",
      "538:\tlearn: 0.2409287\ttest: 0.2171794\tbest: 0.2171520 (536)\ttotal: 1m 50s\tremaining: 1m 34s\n",
      "539:\tlearn: 0.2407981\ttest: 0.2171116\tbest: 0.2171116 (539)\ttotal: 1m 50s\tremaining: 1m 34s\n",
      "540:\tlearn: 0.2406462\ttest: 0.2169723\tbest: 0.2169723 (540)\ttotal: 1m 51s\tremaining: 1m 34s\n",
      "541:\tlearn: 0.2406331\ttest: 0.2169602\tbest: 0.2169602 (541)\ttotal: 1m 51s\tremaining: 1m 34s\n",
      "542:\tlearn: 0.2406432\ttest: 0.2169708\tbest: 0.2169602 (541)\ttotal: 1m 51s\tremaining: 1m 33s\n",
      "543:\tlearn: 0.2406456\ttest: 0.2169479\tbest: 0.2169479 (543)\ttotal: 1m 51s\tremaining: 1m 33s\n",
      "544:\tlearn: 0.2406238\ttest: 0.2169420\tbest: 0.2169420 (544)\ttotal: 1m 52s\tremaining: 1m 33s\n",
      "545:\tlearn: 0.2407701\ttest: 0.2169026\tbest: 0.2169026 (545)\ttotal: 1m 52s\tremaining: 1m 33s\n",
      "546:\tlearn: 0.2407575\ttest: 0.2168897\tbest: 0.2168897 (546)\ttotal: 1m 52s\tremaining: 1m 33s\n",
      "547:\tlearn: 0.2407344\ttest: 0.2168618\tbest: 0.2168618 (547)\ttotal: 1m 52s\tremaining: 1m 32s\n",
      "548:\tlearn: 0.2406818\ttest: 0.2168338\tbest: 0.2168338 (548)\ttotal: 1m 52s\tremaining: 1m 32s\n",
      "549:\tlearn: 0.2406471\ttest: 0.2167916\tbest: 0.2167916 (549)\ttotal: 1m 53s\tremaining: 1m 32s\n",
      "550:\tlearn: 0.2403018\ttest: 0.2168088\tbest: 0.2167916 (549)\ttotal: 1m 53s\tremaining: 1m 32s\n",
      "551:\tlearn: 0.2402428\ttest: 0.2167588\tbest: 0.2167588 (551)\ttotal: 1m 53s\tremaining: 1m 32s\n",
      "552:\tlearn: 0.2398594\ttest: 0.2166775\tbest: 0.2166775 (552)\ttotal: 1m 53s\tremaining: 1m 31s\n",
      "553:\tlearn: 0.2398446\ttest: 0.2166658\tbest: 0.2166658 (553)\ttotal: 1m 54s\tremaining: 1m 31s\n",
      "554:\tlearn: 0.2397312\ttest: 0.2165466\tbest: 0.2165466 (554)\ttotal: 1m 54s\tremaining: 1m 31s\n",
      "555:\tlearn: 0.2397652\ttest: 0.2164674\tbest: 0.2164674 (555)\ttotal: 1m 54s\tremaining: 1m 31s\n",
      "556:\tlearn: 0.2397418\ttest: 0.2164653\tbest: 0.2164653 (556)\ttotal: 1m 54s\tremaining: 1m 31s\n",
      "557:\tlearn: 0.2397412\ttest: 0.2164627\tbest: 0.2164627 (557)\ttotal: 1m 55s\tremaining: 1m 31s\n",
      "558:\tlearn: 0.2397650\ttest: 0.2164943\tbest: 0.2164627 (557)\ttotal: 1m 55s\tremaining: 1m 30s\n",
      "559:\tlearn: 0.2396612\ttest: 0.2163848\tbest: 0.2163848 (559)\ttotal: 1m 55s\tremaining: 1m 30s\n",
      "560:\tlearn: 0.2396608\ttest: 0.2163873\tbest: 0.2163848 (559)\ttotal: 1m 55s\tremaining: 1m 30s\n",
      "561:\tlearn: 0.2396123\ttest: 0.2163758\tbest: 0.2163758 (561)\ttotal: 1m 56s\tremaining: 1m 30s\n",
      "562:\tlearn: 0.2395238\ttest: 0.2162787\tbest: 0.2162787 (562)\ttotal: 1m 56s\tremaining: 1m 30s\n",
      "563:\tlearn: 0.2395136\ttest: 0.2162794\tbest: 0.2162787 (562)\ttotal: 1m 56s\tremaining: 1m 30s\n",
      "564:\tlearn: 0.2394702\ttest: 0.2162342\tbest: 0.2162342 (564)\ttotal: 1m 56s\tremaining: 1m 29s\n",
      "565:\tlearn: 0.2394835\ttest: 0.2162277\tbest: 0.2162277 (565)\ttotal: 1m 57s\tremaining: 1m 29s\n",
      "566:\tlearn: 0.2394355\ttest: 0.2161745\tbest: 0.2161745 (566)\ttotal: 1m 57s\tremaining: 1m 29s\n",
      "567:\tlearn: 0.2394852\ttest: 0.2162487\tbest: 0.2161745 (566)\ttotal: 1m 57s\tremaining: 1m 29s\n",
      "568:\tlearn: 0.2393998\ttest: 0.2161415\tbest: 0.2161415 (568)\ttotal: 1m 57s\tremaining: 1m 29s\n",
      "569:\tlearn: 0.2393895\ttest: 0.2161290\tbest: 0.2161290 (569)\ttotal: 1m 58s\tremaining: 1m 29s\n",
      "570:\tlearn: 0.2393382\ttest: 0.2160998\tbest: 0.2160998 (570)\ttotal: 1m 58s\tremaining: 1m 29s\n",
      "571:\tlearn: 0.2393110\ttest: 0.2160473\tbest: 0.2160473 (571)\ttotal: 1m 58s\tremaining: 1m 28s\n",
      "572:\tlearn: 0.2392950\ttest: 0.2160060\tbest: 0.2160060 (572)\ttotal: 1m 59s\tremaining: 1m 28s\n",
      "573:\tlearn: 0.2392830\ttest: 0.2159955\tbest: 0.2159955 (573)\ttotal: 1m 59s\tremaining: 1m 28s\n",
      "574:\tlearn: 0.2391359\ttest: 0.2158567\tbest: 0.2158567 (574)\ttotal: 1m 59s\tremaining: 1m 28s\n",
      "575:\tlearn: 0.2391348\ttest: 0.2158488\tbest: 0.2158488 (575)\ttotal: 1m 59s\tremaining: 1m 28s\n",
      "576:\tlearn: 0.2391438\ttest: 0.2158631\tbest: 0.2158488 (575)\ttotal: 2m\tremaining: 1m 28s\n",
      "577:\tlearn: 0.2388486\ttest: 0.2158260\tbest: 0.2158260 (577)\ttotal: 2m\tremaining: 1m 27s\n",
      "578:\tlearn: 0.2388442\ttest: 0.2158323\tbest: 0.2158260 (577)\ttotal: 2m\tremaining: 1m 27s\n",
      "579:\tlearn: 0.2388099\ttest: 0.2157986\tbest: 0.2157986 (579)\ttotal: 2m\tremaining: 1m 27s\n",
      "580:\tlearn: 0.2385882\ttest: 0.2156243\tbest: 0.2156243 (580)\ttotal: 2m 1s\tremaining: 1m 27s\n",
      "581:\tlearn: 0.2385468\ttest: 0.2155630\tbest: 0.2155630 (581)\ttotal: 2m 1s\tremaining: 1m 27s\n",
      "582:\tlearn: 0.2385291\ttest: 0.2155662\tbest: 0.2155630 (581)\ttotal: 2m 1s\tremaining: 1m 26s\n",
      "583:\tlearn: 0.2384864\ttest: 0.2155567\tbest: 0.2155567 (583)\ttotal: 2m 1s\tremaining: 1m 26s\n",
      "584:\tlearn: 0.2384589\ttest: 0.2155190\tbest: 0.2155190 (584)\ttotal: 2m 2s\tremaining: 1m 26s\n",
      "585:\tlearn: 0.2384649\ttest: 0.2155179\tbest: 0.2155179 (585)\ttotal: 2m 2s\tremaining: 1m 26s\n",
      "586:\tlearn: 0.2384888\ttest: 0.2155541\tbest: 0.2155179 (585)\ttotal: 2m 2s\tremaining: 1m 26s\n",
      "587:\tlearn: 0.2384886\ttest: 0.2155719\tbest: 0.2155179 (585)\ttotal: 2m 3s\tremaining: 1m 26s\n",
      "588:\tlearn: 0.2384830\ttest: 0.2155639\tbest: 0.2155179 (585)\ttotal: 2m 3s\tremaining: 1m 26s\n",
      "589:\tlearn: 0.2384388\ttest: 0.2155119\tbest: 0.2155119 (589)\ttotal: 2m 3s\tremaining: 1m 25s\n",
      "590:\tlearn: 0.2384296\ttest: 0.2154987\tbest: 0.2154987 (590)\ttotal: 2m 3s\tremaining: 1m 25s\n",
      "591:\tlearn: 0.2384138\ttest: 0.2154786\tbest: 0.2154786 (591)\ttotal: 2m 3s\tremaining: 1m 25s\n",
      "592:\tlearn: 0.2384576\ttest: 0.2154903\tbest: 0.2154786 (591)\ttotal: 2m 4s\tremaining: 1m 25s\n",
      "593:\tlearn: 0.2384030\ttest: 0.2154423\tbest: 0.2154423 (593)\ttotal: 2m 4s\tremaining: 1m 25s\n",
      "594:\tlearn: 0.2384353\ttest: 0.2155094\tbest: 0.2154423 (593)\ttotal: 2m 4s\tremaining: 1m 24s\n",
      "595:\tlearn: 0.2383485\ttest: 0.2154361\tbest: 0.2154361 (595)\ttotal: 2m 5s\tremaining: 1m 24s\n",
      "596:\tlearn: 0.2383521\ttest: 0.2154049\tbest: 0.2154049 (596)\ttotal: 2m 5s\tremaining: 1m 24s\n",
      "597:\tlearn: 0.2382267\ttest: 0.2152872\tbest: 0.2152872 (597)\ttotal: 2m 5s\tremaining: 1m 24s\n",
      "598:\tlearn: 0.2382701\ttest: 0.2152719\tbest: 0.2152719 (598)\ttotal: 2m 5s\tremaining: 1m 24s\n",
      "599:\tlearn: 0.2381906\ttest: 0.2152493\tbest: 0.2152493 (599)\ttotal: 2m 6s\tremaining: 1m 24s\n",
      "600:\tlearn: 0.2380604\ttest: 0.2151296\tbest: 0.2151296 (600)\ttotal: 2m 6s\tremaining: 1m 23s\n",
      "601:\tlearn: 0.2380609\ttest: 0.2151168\tbest: 0.2151168 (601)\ttotal: 2m 6s\tremaining: 1m 23s\n",
      "602:\tlearn: 0.2380305\ttest: 0.2150525\tbest: 0.2150525 (602)\ttotal: 2m 6s\tremaining: 1m 23s\n",
      "603:\tlearn: 0.2380103\ttest: 0.2150084\tbest: 0.2150084 (603)\ttotal: 2m 7s\tremaining: 1m 23s\n",
      "604:\tlearn: 0.2379974\ttest: 0.2150049\tbest: 0.2150049 (604)\ttotal: 2m 7s\tremaining: 1m 23s\n",
      "605:\tlearn: 0.2379815\ttest: 0.2149999\tbest: 0.2149999 (605)\ttotal: 2m 7s\tremaining: 1m 22s\n",
      "606:\tlearn: 0.2379949\ttest: 0.2150133\tbest: 0.2149999 (605)\ttotal: 2m 7s\tremaining: 1m 22s\n",
      "607:\tlearn: 0.2380415\ttest: 0.2149552\tbest: 0.2149552 (607)\ttotal: 2m 7s\tremaining: 1m 22s\n",
      "608:\tlearn: 0.2380337\ttest: 0.2149514\tbest: 0.2149514 (608)\ttotal: 2m 8s\tremaining: 1m 22s\n",
      "609:\tlearn: 0.2380336\ttest: 0.2149587\tbest: 0.2149514 (608)\ttotal: 2m 8s\tremaining: 1m 22s\n",
      "610:\tlearn: 0.2381027\ttest: 0.2150203\tbest: 0.2149514 (608)\ttotal: 2m 8s\tremaining: 1m 21s\n",
      "611:\tlearn: 0.2379980\ttest: 0.2149358\tbest: 0.2149358 (611)\ttotal: 2m 8s\tremaining: 1m 21s\n"
     ]
    }
   ],
   "source": [
    "grid_res = cat_imp.grid_search(grid, train_data_important, verbose=200, cv=3, plot=True)"
   ]
  },
  {
   "cell_type": "code",
   "execution_count": null,
   "id": "5e9771d6-71eb-410b-9187-5fed9bbf4da5",
   "metadata": {},
   "outputs": [],
   "source": [
    "grid_res.params"
   ]
  },
  {
   "cell_type": "code",
   "execution_count": null,
   "id": "dcca17d3-8407-4928-8e1b-e03efcd58ae9",
   "metadata": {},
   "outputs": [],
   "source": [
    "grid_res.cv_results"
   ]
  },
  {
   "cell_type": "code",
   "execution_count": null,
   "id": "c1f4b510-dd23-44bb-9ea2-6b41754e275f",
   "metadata": {},
   "outputs": [],
   "source": []
  },
  {
   "cell_type": "code",
   "execution_count": null,
   "id": "045996fe-d8bb-4198-af81-74ad329a85e6",
   "metadata": {},
   "outputs": [],
   "source": []
  },
  {
   "cell_type": "code",
   "execution_count": null,
   "id": "e26310e5-a7d8-437e-8641-d1d2328e2673",
   "metadata": {},
   "outputs": [],
   "source": []
  },
  {
   "cell_type": "code",
   "execution_count": null,
   "id": "10a064e6-bcc2-4c21-899d-f0f61579c485",
   "metadata": {},
   "outputs": [],
   "source": []
  }
 ],
 "metadata": {
  "kernelspec": {
   "display_name": "Python 3 (ipykernel)",
   "language": "python",
   "name": "python3"
  },
  "language_info": {
   "codemirror_mode": {
    "name": "ipython",
    "version": 3
   },
   "file_extension": ".py",
   "mimetype": "text/x-python",
   "name": "python",
   "nbconvert_exporter": "python",
   "pygments_lexer": "ipython3",
   "version": "3.10.0"
  },
  "toc-autonumbering": false,
  "toc-showcode": false,
  "toc-showmarkdowntxt": false,
  "toc-showtags": false
 },
 "nbformat": 4,
 "nbformat_minor": 5
}
